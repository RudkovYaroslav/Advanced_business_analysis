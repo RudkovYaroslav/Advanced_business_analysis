{
  "cells": [
    {
      "cell_type": "markdown",
      "metadata": {
        "id": "view-in-github",
        "colab_type": "text"
      },
      "source": [
        "<a href=\"https://colab.research.google.com/github/RudkovYaroslav/Advanced_business_analysis/blob/main/Business_analysis_2(A_B).ipynb\" target=\"_parent\"><img src=\"https://colab.research.google.com/assets/colab-badge.svg\" alt=\"Open In Colab\"/></a>"
      ]
    },
    {
      "cell_type": "markdown",
      "metadata": {
        "id": "Rze9n6CaaUH4"
      },
      "source": [
        "# Проект \"Углубленный анализ гипотез\""
      ]
    },
    {
      "cell_type": "markdown",
      "metadata": {
        "id": "Oax_28NgaUH4"
      },
      "source": [
        "Вы — аналитик крупного интернет-магазина. Вместе с отделом маркетинга вы подготовили список гипотез для увеличения выручки.\n",
        "Приоритизируйте гипотезы, запустите A/B-тест и проанализируйте результаты.\n",
        "\n",
        "В распоряжении у нас 3 датафрейма:\n",
        "\n",
        " - Hypothesis: Датафрейм с кратким описанием гипотез и их характеристики(охват, влияние, уверенность и затраты)\n",
        " - Orders: Датафрейм с информацией о заказах\n",
        " - Visitors: Датафрейм с информацией о пользователях"
      ]
    },
    {
      "cell_type": "markdown",
      "metadata": {
        "id": "IcAcE--caUH4"
      },
      "source": [
        "Цель исследования:\n",
        "\n",
        " - Провести приоритизацию гипотез\n",
        " - Проанализировать результаты A/B теста\n",
        " - Оценить ошибки и аномалии при проведении A/B теста\n",
        " - Оформить выводы по результатам теста"
      ]
    },
    {
      "cell_type": "markdown",
      "metadata": {
        "id": "WEJj86RpaUH4"
      },
      "source": [
        "Ход исследования\n",
        "\n",
        "Я получу данные из датафреймов, которые находятся в трех csv файлах. О качестве этих DataFrame пока ничего не известно, так что, скорее всего, понадобится провести предобработку.\n",
        "\n",
        "Проверю данные на аномалии и выбросы, которые могут повлиять на исследование, заполню пропуски, если они имеются, и в целом поищу возможность исправить все ошибки, которые не приведут к искажению конечного результата.\n",
        "\n",
        "Итоговое исследование пройдет в 7 этапов:\n",
        "\n",
        " - Обзор данных\n",
        " - Предобработка данных\n",
        " - Приоритизация гипотез\n",
        " - Построение графиков кумулятивных средних\n",
        " - Построение точечных графиков для оценки аномалий\n",
        " - Расчет статистической значимости\n",
        " - Общий вывод"
      ]
    },
    {
      "cell_type": "markdown",
      "metadata": {
        "id": "oi3dFbUuaUH5"
      },
      "source": [
        "## Обзор данных"
      ]
    },
    {
      "cell_type": "markdown",
      "metadata": {
        "id": "auqFx9-kaUH5"
      },
      "source": [
        "Импортируем нужные библиотеки и зададим некоторые стандартные параметры:"
      ]
    },
    {
      "cell_type": "code",
      "execution_count": null,
      "metadata": {
        "id": "Junw0Mj-aUH5"
      },
      "outputs": [],
      "source": [
        "import pandas as pd #Библиотека для обработки DataFrame\n",
        "import datetime as dt #Библиотека для работы с датами\n",
        "import matplotlib.pyplot as plt #Библиотека для задачи аттрибутов графиков\n",
        "from scipy import stats #Библиотека для работы с теорией вероятности\n",
        "plt.rcParams[\"figure.figsize\"] = (15,5)\n",
        "from datetime import timedelta #Часть библиотеки datetime\n",
        "import numpy as np #Библиотека для использования математических функций"
      ]
    },
    {
      "cell_type": "code",
      "execution_count": null,
      "metadata": {
        "id": "TLzJQ26faUH5",
        "outputId": "fe4c6b1b-6a5a-43ef-d41d-5a7a98eb6232"
      },
      "outputs": [
        {
          "data": {
            "text/html": [
              "<style>\n",
              ".output {\n",
              "    flex-direction: row;\n",
              "}\n",
              "</style>"
            ],
            "text/plain": [
              "<IPython.core.display.HTML object>"
            ]
          },
          "execution_count": 2,
          "metadata": {},
          "output_type": "execute_result"
        }
      ],
      "source": [
        "from IPython.display import display, HTML\n",
        "CSS = \"\"\"\n",
        ".output {\n",
        "    flex-direction: row;\n",
        "}\n",
        "\"\"\"\n",
        "HTML('<style>{}</style>'.format(CSS))"
      ]
    },
    {
      "cell_type": "markdown",
      "metadata": {
        "id": "bFHKcdvhaUH6"
      },
      "source": [
        "Этот код в дальнейшем пригодится(Нужен для вывода таблиц \"подряд\" по горизонтали, а не вертикали)"
      ]
    },
    {
      "cell_type": "markdown",
      "metadata": {
        "id": "9z5TNMOVaUH6"
      },
      "source": [
        "Считаем файлы:"
      ]
    },
    {
      "cell_type": "code",
      "execution_count": null,
      "metadata": {
        "id": "J1kuze4faUH7",
        "outputId": "40ab1898-316c-43a9-dc4d-41d94724522e"
      },
      "outputs": [
        {
          "data": {
            "text/html": [
              "<div>\n",
              "<style scoped>\n",
              "    .dataframe tbody tr th:only-of-type {\n",
              "        vertical-align: middle;\n",
              "    }\n",
              "\n",
              "    .dataframe tbody tr th {\n",
              "        vertical-align: top;\n",
              "    }\n",
              "\n",
              "    .dataframe thead th {\n",
              "        text-align: right;\n",
              "    }\n",
              "</style>\n",
              "<table border=\"1\" class=\"dataframe\">\n",
              "  <thead>\n",
              "    <tr style=\"text-align: right;\">\n",
              "      <th></th>\n",
              "      <th>Hypothesis</th>\n",
              "      <th>Reach</th>\n",
              "      <th>Impact</th>\n",
              "      <th>Confidence</th>\n",
              "      <th>Efforts</th>\n",
              "    </tr>\n",
              "  </thead>\n",
              "  <tbody>\n",
              "    <tr>\n",
              "      <th>0</th>\n",
              "      <td>Добавить два новых канала привлечения трафика,...</td>\n",
              "      <td>3</td>\n",
              "      <td>10</td>\n",
              "      <td>8</td>\n",
              "      <td>6</td>\n",
              "    </tr>\n",
              "    <tr>\n",
              "      <th>1</th>\n",
              "      <td>Запустить собственную службу доставки, что сок...</td>\n",
              "      <td>2</td>\n",
              "      <td>5</td>\n",
              "      <td>4</td>\n",
              "      <td>10</td>\n",
              "    </tr>\n",
              "    <tr>\n",
              "      <th>2</th>\n",
              "      <td>Добавить блоки рекомендаций товаров на сайт ин...</td>\n",
              "      <td>8</td>\n",
              "      <td>3</td>\n",
              "      <td>7</td>\n",
              "      <td>3</td>\n",
              "    </tr>\n",
              "    <tr>\n",
              "      <th>3</th>\n",
              "      <td>Изменить структура категорий, что увеличит кон...</td>\n",
              "      <td>8</td>\n",
              "      <td>3</td>\n",
              "      <td>3</td>\n",
              "      <td>8</td>\n",
              "    </tr>\n",
              "    <tr>\n",
              "      <th>4</th>\n",
              "      <td>Изменить цвет фона главной страницы, чтобы уве...</td>\n",
              "      <td>3</td>\n",
              "      <td>1</td>\n",
              "      <td>1</td>\n",
              "      <td>1</td>\n",
              "    </tr>\n",
              "  </tbody>\n",
              "</table>\n",
              "</div>"
            ],
            "text/plain": [
              "                                          Hypothesis  Reach  Impact  \\\n",
              "0  Добавить два новых канала привлечения трафика,...      3      10   \n",
              "1  Запустить собственную службу доставки, что сок...      2       5   \n",
              "2  Добавить блоки рекомендаций товаров на сайт ин...      8       3   \n",
              "3  Изменить структура категорий, что увеличит кон...      8       3   \n",
              "4  Изменить цвет фона главной страницы, чтобы уве...      3       1   \n",
              "\n",
              "   Confidence  Efforts  \n",
              "0           8        6  \n",
              "1           4       10  \n",
              "2           7        3  \n",
              "3           3        8  \n",
              "4           1        1  "
            ]
          },
          "metadata": {},
          "output_type": "display_data"
        },
        {
          "name": "stdout",
          "output_type": "stream",
          "text": [
            "<class 'pandas.core.frame.DataFrame'>\n",
            "RangeIndex: 9 entries, 0 to 8\n",
            "Data columns (total 5 columns):\n",
            " #   Column      Non-Null Count  Dtype \n",
            "---  ------      --------------  ----- \n",
            " 0   Hypothesis  9 non-null      object\n",
            " 1   Reach       9 non-null      int64 \n",
            " 2   Impact      9 non-null      int64 \n",
            " 3   Confidence  9 non-null      int64 \n",
            " 4   Efforts     9 non-null      int64 \n",
            "dtypes: int64(4), object(1)\n",
            "memory usage: 488.0+ bytes\n"
          ]
        }
      ],
      "source": [
        "hyp = pd.read_csv('/datasets/hypothesis.csv')\n",
        "display(hyp.head())\n",
        "hyp.info()"
      ]
    },
    {
      "cell_type": "code",
      "execution_count": null,
      "metadata": {
        "id": "V39UFbIoaUH7",
        "outputId": "eaf70f66-0baa-4b03-99ab-56d50f313dd9"
      },
      "outputs": [
        {
          "data": {
            "text/html": [
              "<div>\n",
              "<style scoped>\n",
              "    .dataframe tbody tr th:only-of-type {\n",
              "        vertical-align: middle;\n",
              "    }\n",
              "\n",
              "    .dataframe tbody tr th {\n",
              "        vertical-align: top;\n",
              "    }\n",
              "\n",
              "    .dataframe thead th {\n",
              "        text-align: right;\n",
              "    }\n",
              "</style>\n",
              "<table border=\"1\" class=\"dataframe\">\n",
              "  <thead>\n",
              "    <tr style=\"text-align: right;\">\n",
              "      <th></th>\n",
              "      <th>transactionId</th>\n",
              "      <th>visitorId</th>\n",
              "      <th>date</th>\n",
              "      <th>revenue</th>\n",
              "      <th>group</th>\n",
              "    </tr>\n",
              "  </thead>\n",
              "  <tbody>\n",
              "    <tr>\n",
              "      <th>0</th>\n",
              "      <td>3667963787</td>\n",
              "      <td>3312258926</td>\n",
              "      <td>2019-08-15</td>\n",
              "      <td>1650</td>\n",
              "      <td>B</td>\n",
              "    </tr>\n",
              "    <tr>\n",
              "      <th>1</th>\n",
              "      <td>2804400009</td>\n",
              "      <td>3642806036</td>\n",
              "      <td>2019-08-15</td>\n",
              "      <td>730</td>\n",
              "      <td>B</td>\n",
              "    </tr>\n",
              "    <tr>\n",
              "      <th>2</th>\n",
              "      <td>2961555356</td>\n",
              "      <td>4069496402</td>\n",
              "      <td>2019-08-15</td>\n",
              "      <td>400</td>\n",
              "      <td>A</td>\n",
              "    </tr>\n",
              "    <tr>\n",
              "      <th>3</th>\n",
              "      <td>3797467345</td>\n",
              "      <td>1196621759</td>\n",
              "      <td>2019-08-15</td>\n",
              "      <td>9759</td>\n",
              "      <td>B</td>\n",
              "    </tr>\n",
              "    <tr>\n",
              "      <th>4</th>\n",
              "      <td>2282983706</td>\n",
              "      <td>2322279887</td>\n",
              "      <td>2019-08-15</td>\n",
              "      <td>2308</td>\n",
              "      <td>B</td>\n",
              "    </tr>\n",
              "  </tbody>\n",
              "</table>\n",
              "</div>"
            ],
            "text/plain": [
              "   transactionId   visitorId        date  revenue group\n",
              "0     3667963787  3312258926  2019-08-15     1650     B\n",
              "1     2804400009  3642806036  2019-08-15      730     B\n",
              "2     2961555356  4069496402  2019-08-15      400     A\n",
              "3     3797467345  1196621759  2019-08-15     9759     B\n",
              "4     2282983706  2322279887  2019-08-15     2308     B"
            ]
          },
          "metadata": {},
          "output_type": "display_data"
        },
        {
          "name": "stdout",
          "output_type": "stream",
          "text": [
            "<class 'pandas.core.frame.DataFrame'>\n",
            "RangeIndex: 1197 entries, 0 to 1196\n",
            "Data columns (total 5 columns):\n",
            " #   Column         Non-Null Count  Dtype \n",
            "---  ------         --------------  ----- \n",
            " 0   transactionId  1197 non-null   int64 \n",
            " 1   visitorId      1197 non-null   int64 \n",
            " 2   date           1197 non-null   object\n",
            " 3   revenue        1197 non-null   int64 \n",
            " 4   group          1197 non-null   object\n",
            "dtypes: int64(3), object(2)\n",
            "memory usage: 46.9+ KB\n"
          ]
        }
      ],
      "source": [
        "orders = pd.read_csv('/datasets/orders.csv')\n",
        "display(orders.head())\n",
        "orders.info()"
      ]
    },
    {
      "cell_type": "code",
      "execution_count": null,
      "metadata": {
        "id": "j49E8cdAaUH7",
        "outputId": "21967ffe-5759-4978-b1a0-55b625f93004"
      },
      "outputs": [
        {
          "data": {
            "text/html": [
              "<div>\n",
              "<style scoped>\n",
              "    .dataframe tbody tr th:only-of-type {\n",
              "        vertical-align: middle;\n",
              "    }\n",
              "\n",
              "    .dataframe tbody tr th {\n",
              "        vertical-align: top;\n",
              "    }\n",
              "\n",
              "    .dataframe thead th {\n",
              "        text-align: right;\n",
              "    }\n",
              "</style>\n",
              "<table border=\"1\" class=\"dataframe\">\n",
              "  <thead>\n",
              "    <tr style=\"text-align: right;\">\n",
              "      <th></th>\n",
              "      <th>date</th>\n",
              "      <th>group</th>\n",
              "      <th>visitors</th>\n",
              "    </tr>\n",
              "  </thead>\n",
              "  <tbody>\n",
              "    <tr>\n",
              "      <th>0</th>\n",
              "      <td>2019-08-01</td>\n",
              "      <td>A</td>\n",
              "      <td>719</td>\n",
              "    </tr>\n",
              "    <tr>\n",
              "      <th>1</th>\n",
              "      <td>2019-08-02</td>\n",
              "      <td>A</td>\n",
              "      <td>619</td>\n",
              "    </tr>\n",
              "    <tr>\n",
              "      <th>2</th>\n",
              "      <td>2019-08-03</td>\n",
              "      <td>A</td>\n",
              "      <td>507</td>\n",
              "    </tr>\n",
              "    <tr>\n",
              "      <th>3</th>\n",
              "      <td>2019-08-04</td>\n",
              "      <td>A</td>\n",
              "      <td>717</td>\n",
              "    </tr>\n",
              "    <tr>\n",
              "      <th>4</th>\n",
              "      <td>2019-08-05</td>\n",
              "      <td>A</td>\n",
              "      <td>756</td>\n",
              "    </tr>\n",
              "  </tbody>\n",
              "</table>\n",
              "</div>"
            ],
            "text/plain": [
              "         date group  visitors\n",
              "0  2019-08-01     A       719\n",
              "1  2019-08-02     A       619\n",
              "2  2019-08-03     A       507\n",
              "3  2019-08-04     A       717\n",
              "4  2019-08-05     A       756"
            ]
          },
          "metadata": {},
          "output_type": "display_data"
        },
        {
          "name": "stdout",
          "output_type": "stream",
          "text": [
            "<class 'pandas.core.frame.DataFrame'>\n",
            "RangeIndex: 62 entries, 0 to 61\n",
            "Data columns (total 3 columns):\n",
            " #   Column    Non-Null Count  Dtype \n",
            "---  ------    --------------  ----- \n",
            " 0   date      62 non-null     object\n",
            " 1   group     62 non-null     object\n",
            " 2   visitors  62 non-null     int64 \n",
            "dtypes: int64(1), object(2)\n",
            "memory usage: 1.6+ KB\n"
          ]
        }
      ],
      "source": [
        "visitors = pd.read_csv('/datasets/visitors.csv')\n",
        "display(visitors.head())\n",
        "visitors.info()"
      ]
    },
    {
      "cell_type": "markdown",
      "metadata": {
        "id": "k0U4IVePaUH7"
      },
      "source": [
        "## Предобработка данных"
      ]
    },
    {
      "cell_type": "markdown",
      "metadata": {
        "id": "6Te15BHNaUH7"
      },
      "source": [
        "При первом взгляде на данные есть несколько вещей, которые нужно поправить:"
      ]
    },
    {
      "cell_type": "markdown",
      "metadata": {
        "id": "kSNW4tWgaUH7"
      },
      "source": [
        "### Hypothesis"
      ]
    },
    {
      "cell_type": "markdown",
      "metadata": {
        "id": "WpoemGg1aUH7"
      },
      "source": [
        "Переименуем колонки в соответствии со стандартом, а также сам датафрейм для более простого написания"
      ]
    },
    {
      "cell_type": "code",
      "execution_count": null,
      "metadata": {
        "id": "-GzWijjUaUH8"
      },
      "outputs": [],
      "source": [
        "hyp = hyp.rename(columns = {'Hypothesis' : 'hyp', 'Reach' : 'reach',\\\n",
        "                                          'Impact' : 'impact', 'Confidence' : 'confidence', 'Efforts' : 'efforts'})"
      ]
    },
    {
      "cell_type": "markdown",
      "metadata": {
        "id": "JDCh1ydkaUH8"
      },
      "source": [
        "### Orders"
      ]
    },
    {
      "cell_type": "markdown",
      "metadata": {
        "id": "MHiTev1JaUH8"
      },
      "source": [
        "Здесь также необходимо переименовать колонки, но еще и привести дату в правильный формат"
      ]
    },
    {
      "cell_type": "code",
      "execution_count": null,
      "metadata": {
        "id": "4oojLgTbaUH8"
      },
      "outputs": [],
      "source": [
        "orders = orders.rename(columns = {'transactionId' : 'trans_id', 'visitorId' : 'visitor_id'})"
      ]
    },
    {
      "cell_type": "code",
      "execution_count": null,
      "metadata": {
        "id": "R5tlYRnFaUH8"
      },
      "outputs": [],
      "source": [
        "orders['date'] = pd.to_datetime(orders['date'], format = '%Y-%m-%d')"
      ]
    },
    {
      "cell_type": "code",
      "execution_count": null,
      "metadata": {
        "id": "wNgxHqAnaUH8",
        "outputId": "41d3a4e8-0410-427f-9c74-82856fe08963"
      },
      "outputs": [
        {
          "data": {
            "text/plain": [
              "0"
            ]
          },
          "execution_count": 9,
          "metadata": {},
          "output_type": "execute_result"
        }
      ],
      "source": [
        "orders.duplicated().sum()"
      ]
    },
    {
      "cell_type": "markdown",
      "metadata": {
        "id": "KHrVVmuraUH8"
      },
      "source": [
        "Явных дубликатов не оказалось"
      ]
    },
    {
      "cell_type": "markdown",
      "metadata": {
        "id": "Cj7vaHFgaUH9"
      },
      "source": [
        "### Visitors"
      ]
    },
    {
      "cell_type": "markdown",
      "metadata": {
        "id": "8hnYuX_zaUH9"
      },
      "source": [
        "Здесь нужно только привести к правильному формату столбец date"
      ]
    },
    {
      "cell_type": "code",
      "execution_count": null,
      "metadata": {
        "id": "2wT9e7sIaUH9"
      },
      "outputs": [],
      "source": [
        "visitors['date'] = pd.to_datetime(visitors['date'], format = '%Y-%m-%d')"
      ]
    },
    {
      "cell_type": "code",
      "execution_count": null,
      "metadata": {
        "id": "mbDaDOtqaUH9",
        "outputId": "2857f6c8-79a9-4e09-9b11-515480b0db0b"
      },
      "outputs": [
        {
          "data": {
            "text/plain": [
              "0"
            ]
          },
          "execution_count": 11,
          "metadata": {},
          "output_type": "execute_result"
        }
      ],
      "source": [
        "visitors.duplicated().sum()"
      ]
    },
    {
      "cell_type": "markdown",
      "metadata": {
        "id": "xcly5ahYaUH9"
      },
      "source": [
        "Явных дубликатов здесь также не оказалось"
      ]
    },
    {
      "cell_type": "markdown",
      "metadata": {
        "id": "vniIwNGVaUH-"
      },
      "source": [
        "### Вывод по разделу 2"
      ]
    },
    {
      "cell_type": "markdown",
      "metadata": {
        "id": "K-nhCLNXaUH-"
      },
      "source": [
        "Произвели предобработку данных:\n",
        " - Рассмотрели пропуски. По итогу их нигде не оказалось.\n",
        " - Переименовали все столбцы для соответствия стандартам\n",
        " - Привели все столбцы к правильному типу данных\n",
        " - Проверили датафреймы на явные и неявные дубликаты. Их не оказалось\n",
        "\n",
        "По итогу данные оказались очень хорошими и практически не нуждались в предобработке"
      ]
    },
    {
      "cell_type": "markdown",
      "metadata": {
        "id": "TgZeIUkkaUH-"
      },
      "source": [
        "## Приоритизация гипотез"
      ]
    },
    {
      "cell_type": "markdown",
      "metadata": {
        "id": "ye0ihjlGaUIC"
      },
      "source": [
        "Более подробно рассмотрим датафрейм hyp"
      ]
    },
    {
      "cell_type": "code",
      "execution_count": null,
      "metadata": {
        "id": "semvmgzxaUIC",
        "outputId": "e5c3d885-abcc-40cf-86f4-d4cd7c07650f"
      },
      "outputs": [
        {
          "data": {
            "text/html": [
              "<div>\n",
              "<style scoped>\n",
              "    .dataframe tbody tr th:only-of-type {\n",
              "        vertical-align: middle;\n",
              "    }\n",
              "\n",
              "    .dataframe tbody tr th {\n",
              "        vertical-align: top;\n",
              "    }\n",
              "\n",
              "    .dataframe thead th {\n",
              "        text-align: right;\n",
              "    }\n",
              "</style>\n",
              "<table border=\"1\" class=\"dataframe\">\n",
              "  <thead>\n",
              "    <tr style=\"text-align: right;\">\n",
              "      <th></th>\n",
              "      <th>hyp</th>\n",
              "      <th>reach</th>\n",
              "      <th>impact</th>\n",
              "      <th>confidence</th>\n",
              "      <th>efforts</th>\n",
              "    </tr>\n",
              "  </thead>\n",
              "  <tbody>\n",
              "    <tr>\n",
              "      <th>0</th>\n",
              "      <td>Добавить два новых канала привлечения трафика,...</td>\n",
              "      <td>3</td>\n",
              "      <td>10</td>\n",
              "      <td>8</td>\n",
              "      <td>6</td>\n",
              "    </tr>\n",
              "    <tr>\n",
              "      <th>1</th>\n",
              "      <td>Запустить собственную службу доставки, что сок...</td>\n",
              "      <td>2</td>\n",
              "      <td>5</td>\n",
              "      <td>4</td>\n",
              "      <td>10</td>\n",
              "    </tr>\n",
              "    <tr>\n",
              "      <th>2</th>\n",
              "      <td>Добавить блоки рекомендаций товаров на сайт ин...</td>\n",
              "      <td>8</td>\n",
              "      <td>3</td>\n",
              "      <td>7</td>\n",
              "      <td>3</td>\n",
              "    </tr>\n",
              "    <tr>\n",
              "      <th>3</th>\n",
              "      <td>Изменить структура категорий, что увеличит кон...</td>\n",
              "      <td>8</td>\n",
              "      <td>3</td>\n",
              "      <td>3</td>\n",
              "      <td>8</td>\n",
              "    </tr>\n",
              "    <tr>\n",
              "      <th>4</th>\n",
              "      <td>Изменить цвет фона главной страницы, чтобы уве...</td>\n",
              "      <td>3</td>\n",
              "      <td>1</td>\n",
              "      <td>1</td>\n",
              "      <td>1</td>\n",
              "    </tr>\n",
              "    <tr>\n",
              "      <th>5</th>\n",
              "      <td>Добавить страницу отзывов клиентов о магазине,...</td>\n",
              "      <td>3</td>\n",
              "      <td>2</td>\n",
              "      <td>2</td>\n",
              "      <td>3</td>\n",
              "    </tr>\n",
              "    <tr>\n",
              "      <th>6</th>\n",
              "      <td>Показать на главной странице баннеры с актуаль...</td>\n",
              "      <td>5</td>\n",
              "      <td>3</td>\n",
              "      <td>8</td>\n",
              "      <td>3</td>\n",
              "    </tr>\n",
              "    <tr>\n",
              "      <th>7</th>\n",
              "      <td>Добавить форму подписки на все основные страни...</td>\n",
              "      <td>10</td>\n",
              "      <td>7</td>\n",
              "      <td>8</td>\n",
              "      <td>5</td>\n",
              "    </tr>\n",
              "    <tr>\n",
              "      <th>8</th>\n",
              "      <td>Запустить акцию, дающую скидку на товар в день...</td>\n",
              "      <td>1</td>\n",
              "      <td>9</td>\n",
              "      <td>9</td>\n",
              "      <td>5</td>\n",
              "    </tr>\n",
              "  </tbody>\n",
              "</table>\n",
              "</div>"
            ],
            "text/plain": [
              "                                                 hyp  reach  impact  \\\n",
              "0  Добавить два новых канала привлечения трафика,...      3      10   \n",
              "1  Запустить собственную службу доставки, что сок...      2       5   \n",
              "2  Добавить блоки рекомендаций товаров на сайт ин...      8       3   \n",
              "3  Изменить структура категорий, что увеличит кон...      8       3   \n",
              "4  Изменить цвет фона главной страницы, чтобы уве...      3       1   \n",
              "5  Добавить страницу отзывов клиентов о магазине,...      3       2   \n",
              "6  Показать на главной странице баннеры с актуаль...      5       3   \n",
              "7  Добавить форму подписки на все основные страни...     10       7   \n",
              "8  Запустить акцию, дающую скидку на товар в день...      1       9   \n",
              "\n",
              "   confidence  efforts  \n",
              "0           8        6  \n",
              "1           4       10  \n",
              "2           7        3  \n",
              "3           3        8  \n",
              "4           1        1  \n",
              "5           2        3  \n",
              "6           8        3  \n",
              "7           8        5  \n",
              "8           9        5  "
            ]
          },
          "execution_count": 12,
          "metadata": {},
          "output_type": "execute_result"
        }
      ],
      "source": [
        "hyp"
      ]
    },
    {
      "cell_type": "markdown",
      "metadata": {
        "id": "vdIn9ograUIC"
      },
      "source": [
        "Выведем более подробно:"
      ]
    },
    {
      "cell_type": "code",
      "execution_count": null,
      "metadata": {
        "id": "RdZ9-bE5aUIC",
        "outputId": "7ad33779-bc4d-4387-f3c4-f4944892fec0"
      },
      "outputs": [
        {
          "data": {
            "text/html": [
              "<div>\n",
              "<style scoped>\n",
              "    .dataframe tbody tr th:only-of-type {\n",
              "        vertical-align: middle;\n",
              "    }\n",
              "\n",
              "    .dataframe tbody tr th {\n",
              "        vertical-align: top;\n",
              "    }\n",
              "\n",
              "    .dataframe thead th {\n",
              "        text-align: right;\n",
              "    }\n",
              "</style>\n",
              "<table border=\"1\" class=\"dataframe\">\n",
              "  <thead>\n",
              "    <tr style=\"text-align: right;\">\n",
              "      <th></th>\n",
              "      <th>hyp</th>\n",
              "      <th>reach</th>\n",
              "      <th>impact</th>\n",
              "      <th>confidence</th>\n",
              "      <th>efforts</th>\n",
              "    </tr>\n",
              "  </thead>\n",
              "  <tbody>\n",
              "    <tr>\n",
              "      <th>0</th>\n",
              "      <td>Добавить два новых канала привлечения трафика, что позволит привлекать на 30% больше пользователей</td>\n",
              "      <td>3</td>\n",
              "      <td>10</td>\n",
              "      <td>8</td>\n",
              "      <td>6</td>\n",
              "    </tr>\n",
              "    <tr>\n",
              "      <th>1</th>\n",
              "      <td>Запустить собственную службу доставки, что сократит срок доставки заказов</td>\n",
              "      <td>2</td>\n",
              "      <td>5</td>\n",
              "      <td>4</td>\n",
              "      <td>10</td>\n",
              "    </tr>\n",
              "    <tr>\n",
              "      <th>2</th>\n",
              "      <td>Добавить блоки рекомендаций товаров на сайт интернет магазина, чтобы повысить конверсию и средний чек заказа</td>\n",
              "      <td>8</td>\n",
              "      <td>3</td>\n",
              "      <td>7</td>\n",
              "      <td>3</td>\n",
              "    </tr>\n",
              "    <tr>\n",
              "      <th>3</th>\n",
              "      <td>Изменить структура категорий, что увеличит конверсию, т.к. пользователи быстрее найдут нужный товар</td>\n",
              "      <td>8</td>\n",
              "      <td>3</td>\n",
              "      <td>3</td>\n",
              "      <td>8</td>\n",
              "    </tr>\n",
              "    <tr>\n",
              "      <th>4</th>\n",
              "      <td>Изменить цвет фона главной страницы, чтобы увеличить вовлеченность пользователей</td>\n",
              "      <td>3</td>\n",
              "      <td>1</td>\n",
              "      <td>1</td>\n",
              "      <td>1</td>\n",
              "    </tr>\n",
              "    <tr>\n",
              "      <th>5</th>\n",
              "      <td>Добавить страницу отзывов клиентов о магазине, что позволит увеличить количество заказов</td>\n",
              "      <td>3</td>\n",
              "      <td>2</td>\n",
              "      <td>2</td>\n",
              "      <td>3</td>\n",
              "    </tr>\n",
              "    <tr>\n",
              "      <th>6</th>\n",
              "      <td>Показать на главной странице баннеры с актуальными акциями и распродажами, чтобы увеличить конверсию</td>\n",
              "      <td>5</td>\n",
              "      <td>3</td>\n",
              "      <td>8</td>\n",
              "      <td>3</td>\n",
              "    </tr>\n",
              "    <tr>\n",
              "      <th>7</th>\n",
              "      <td>Добавить форму подписки на все основные страницы, чтобы собрать базу клиентов для email-рассылок</td>\n",
              "      <td>10</td>\n",
              "      <td>7</td>\n",
              "      <td>8</td>\n",
              "      <td>5</td>\n",
              "    </tr>\n",
              "    <tr>\n",
              "      <th>8</th>\n",
              "      <td>Запустить акцию, дающую скидку на товар в день рождения</td>\n",
              "      <td>1</td>\n",
              "      <td>9</td>\n",
              "      <td>9</td>\n",
              "      <td>5</td>\n",
              "    </tr>\n",
              "  </tbody>\n",
              "</table>\n",
              "</div>"
            ],
            "text/plain": [
              "                                                                                                            hyp  \\\n",
              "0            Добавить два новых канала привлечения трафика, что позволит привлекать на 30% больше пользователей   \n",
              "1                                     Запустить собственную службу доставки, что сократит срок доставки заказов   \n",
              "2  Добавить блоки рекомендаций товаров на сайт интернет магазина, чтобы повысить конверсию и средний чек заказа   \n",
              "3           Изменить структура категорий, что увеличит конверсию, т.к. пользователи быстрее найдут нужный товар   \n",
              "4                              Изменить цвет фона главной страницы, чтобы увеличить вовлеченность пользователей   \n",
              "5                      Добавить страницу отзывов клиентов о магазине, что позволит увеличить количество заказов   \n",
              "6          Показать на главной странице баннеры с актуальными акциями и распродажами, чтобы увеличить конверсию   \n",
              "7              Добавить форму подписки на все основные страницы, чтобы собрать базу клиентов для email-рассылок   \n",
              "8                                                       Запустить акцию, дающую скидку на товар в день рождения   \n",
              "\n",
              "   reach  impact  confidence  efforts  \n",
              "0      3      10           8        6  \n",
              "1      2       5           4       10  \n",
              "2      8       3           7        3  \n",
              "3      8       3           3        8  \n",
              "4      3       1           1        1  \n",
              "5      3       2           2        3  \n",
              "6      5       3           8        3  \n",
              "7     10       7           8        5  \n",
              "8      1       9           9        5  "
            ]
          },
          "execution_count": 13,
          "metadata": {},
          "output_type": "execute_result"
        }
      ],
      "source": [
        "pd.set_option('display.max_colwidth', None)\n",
        "hyp"
      ]
    },
    {
      "cell_type": "markdown",
      "metadata": {
        "id": "eDlOnfEdaUIC"
      },
      "source": [
        "Приступим к анализу самих показателей. Создадим отдельный DataFrame для хранения данных"
      ]
    },
    {
      "cell_type": "code",
      "execution_count": null,
      "metadata": {
        "id": "14yV2PMPaUID"
      },
      "outputs": [],
      "source": [
        "priority_df = pd.DataFrame(columns = ['ICE', 'RICE', 'diff'])"
      ]
    },
    {
      "cell_type": "markdown",
      "metadata": {
        "id": "kZWmGpvAaUID"
      },
      "source": [
        "### ICE"
      ]
    },
    {
      "cell_type": "markdown",
      "metadata": {
        "id": "lFwsHNqkaUID"
      },
      "source": [
        "Рассчитаем ICE с помощью параметров ICE - Impact, Confidence, (Ease or Efforts)"
      ]
    },
    {
      "cell_type": "code",
      "execution_count": null,
      "metadata": {
        "id": "X3RV45cEaUID"
      },
      "outputs": [],
      "source": [
        "priority_df['ICE'] =  round((hyp['impact'] * hyp['confidence']) / hyp['efforts'], 2)"
      ]
    },
    {
      "cell_type": "markdown",
      "metadata": {
        "id": "dLPVmRYWaUID"
      },
      "source": [
        "### RICE"
      ]
    },
    {
      "cell_type": "markdown",
      "metadata": {
        "id": "-wkS97LKaUID"
      },
      "source": [
        "Рассчитаем RICE с помощью параметров ICE - Reach, Impact, Confidence, (Ease or Efforts)"
      ]
    },
    {
      "cell_type": "code",
      "execution_count": null,
      "metadata": {
        "id": "GXeubu4EaUIE"
      },
      "outputs": [],
      "source": [
        "priority_df['RICE'] = round((hyp['impact'] * hyp['confidence'] * hyp['reach']) / hyp['efforts'], 2)"
      ]
    },
    {
      "cell_type": "markdown",
      "metadata": {
        "id": "YTWZNuH1aUIE"
      },
      "source": [
        "### Diff"
      ]
    },
    {
      "cell_type": "markdown",
      "metadata": {
        "id": "mW-1PGQSaUIE"
      },
      "source": [
        "Посчитаем разницу между показателями:"
      ]
    },
    {
      "cell_type": "code",
      "execution_count": null,
      "metadata": {
        "id": "xKSIRp_faUIE"
      },
      "outputs": [],
      "source": [
        "priority_df['diff'] = round(priority_df['RICE'] - priority_df['ICE'], 2)"
      ]
    },
    {
      "cell_type": "code",
      "execution_count": null,
      "metadata": {
        "id": "tH5WQFucaUIE",
        "outputId": "9e7a046a-11ba-4a54-d35d-45f31de1add7"
      },
      "outputs": [
        {
          "data": {
            "text/html": [
              "<div>\n",
              "<style scoped>\n",
              "    .dataframe tbody tr th:only-of-type {\n",
              "        vertical-align: middle;\n",
              "    }\n",
              "\n",
              "    .dataframe tbody tr th {\n",
              "        vertical-align: top;\n",
              "    }\n",
              "\n",
              "    .dataframe thead th {\n",
              "        text-align: right;\n",
              "    }\n",
              "</style>\n",
              "<table border=\"1\" class=\"dataframe\">\n",
              "  <thead>\n",
              "    <tr style=\"text-align: right;\">\n",
              "      <th></th>\n",
              "      <th>ICE</th>\n",
              "      <th>RICE</th>\n",
              "      <th>diff</th>\n",
              "    </tr>\n",
              "  </thead>\n",
              "  <tbody>\n",
              "    <tr>\n",
              "      <th>8</th>\n",
              "      <td>16.20</td>\n",
              "      <td>16.2</td>\n",
              "      <td>0.00</td>\n",
              "    </tr>\n",
              "    <tr>\n",
              "      <th>0</th>\n",
              "      <td>13.33</td>\n",
              "      <td>40.0</td>\n",
              "      <td>26.67</td>\n",
              "    </tr>\n",
              "    <tr>\n",
              "      <th>7</th>\n",
              "      <td>11.20</td>\n",
              "      <td>112.0</td>\n",
              "      <td>100.80</td>\n",
              "    </tr>\n",
              "    <tr>\n",
              "      <th>6</th>\n",
              "      <td>8.00</td>\n",
              "      <td>40.0</td>\n",
              "      <td>32.00</td>\n",
              "    </tr>\n",
              "    <tr>\n",
              "      <th>2</th>\n",
              "      <td>7.00</td>\n",
              "      <td>56.0</td>\n",
              "      <td>49.00</td>\n",
              "    </tr>\n",
              "    <tr>\n",
              "      <th>1</th>\n",
              "      <td>2.00</td>\n",
              "      <td>4.0</td>\n",
              "      <td>2.00</td>\n",
              "    </tr>\n",
              "    <tr>\n",
              "      <th>5</th>\n",
              "      <td>1.33</td>\n",
              "      <td>4.0</td>\n",
              "      <td>2.67</td>\n",
              "    </tr>\n",
              "    <tr>\n",
              "      <th>3</th>\n",
              "      <td>1.12</td>\n",
              "      <td>9.0</td>\n",
              "      <td>7.88</td>\n",
              "    </tr>\n",
              "    <tr>\n",
              "      <th>4</th>\n",
              "      <td>1.00</td>\n",
              "      <td>3.0</td>\n",
              "      <td>2.00</td>\n",
              "    </tr>\n",
              "  </tbody>\n",
              "</table>\n",
              "</div>"
            ],
            "text/plain": [
              "     ICE   RICE    diff\n",
              "8  16.20   16.2    0.00\n",
              "0  13.33   40.0   26.67\n",
              "7  11.20  112.0  100.80\n",
              "6   8.00   40.0   32.00\n",
              "2   7.00   56.0   49.00\n",
              "1   2.00    4.0    2.00\n",
              "5   1.33    4.0    2.67\n",
              "3   1.12    9.0    7.88\n",
              "4   1.00    3.0    2.00"
            ]
          },
          "metadata": {},
          "output_type": "display_data"
        },
        {
          "data": {
            "text/html": [
              "<div>\n",
              "<style scoped>\n",
              "    .dataframe tbody tr th:only-of-type {\n",
              "        vertical-align: middle;\n",
              "    }\n",
              "\n",
              "    .dataframe tbody tr th {\n",
              "        vertical-align: top;\n",
              "    }\n",
              "\n",
              "    .dataframe thead th {\n",
              "        text-align: right;\n",
              "    }\n",
              "</style>\n",
              "<table border=\"1\" class=\"dataframe\">\n",
              "  <thead>\n",
              "    <tr style=\"text-align: right;\">\n",
              "      <th></th>\n",
              "      <th>ICE</th>\n",
              "      <th>RICE</th>\n",
              "      <th>diff</th>\n",
              "    </tr>\n",
              "  </thead>\n",
              "  <tbody>\n",
              "    <tr>\n",
              "      <th>7</th>\n",
              "      <td>11.20</td>\n",
              "      <td>112.0</td>\n",
              "      <td>100.80</td>\n",
              "    </tr>\n",
              "    <tr>\n",
              "      <th>2</th>\n",
              "      <td>7.00</td>\n",
              "      <td>56.0</td>\n",
              "      <td>49.00</td>\n",
              "    </tr>\n",
              "    <tr>\n",
              "      <th>0</th>\n",
              "      <td>13.33</td>\n",
              "      <td>40.0</td>\n",
              "      <td>26.67</td>\n",
              "    </tr>\n",
              "    <tr>\n",
              "      <th>6</th>\n",
              "      <td>8.00</td>\n",
              "      <td>40.0</td>\n",
              "      <td>32.00</td>\n",
              "    </tr>\n",
              "    <tr>\n",
              "      <th>8</th>\n",
              "      <td>16.20</td>\n",
              "      <td>16.2</td>\n",
              "      <td>0.00</td>\n",
              "    </tr>\n",
              "    <tr>\n",
              "      <th>3</th>\n",
              "      <td>1.12</td>\n",
              "      <td>9.0</td>\n",
              "      <td>7.88</td>\n",
              "    </tr>\n",
              "    <tr>\n",
              "      <th>1</th>\n",
              "      <td>2.00</td>\n",
              "      <td>4.0</td>\n",
              "      <td>2.00</td>\n",
              "    </tr>\n",
              "    <tr>\n",
              "      <th>5</th>\n",
              "      <td>1.33</td>\n",
              "      <td>4.0</td>\n",
              "      <td>2.67</td>\n",
              "    </tr>\n",
              "    <tr>\n",
              "      <th>4</th>\n",
              "      <td>1.00</td>\n",
              "      <td>3.0</td>\n",
              "      <td>2.00</td>\n",
              "    </tr>\n",
              "  </tbody>\n",
              "</table>\n",
              "</div>"
            ],
            "text/plain": [
              "     ICE   RICE    diff\n",
              "7  11.20  112.0  100.80\n",
              "2   7.00   56.0   49.00\n",
              "0  13.33   40.0   26.67\n",
              "6   8.00   40.0   32.00\n",
              "8  16.20   16.2    0.00\n",
              "3   1.12    9.0    7.88\n",
              "1   2.00    4.0    2.00\n",
              "5   1.33    4.0    2.67\n",
              "4   1.00    3.0    2.00"
            ]
          },
          "metadata": {},
          "output_type": "display_data"
        }
      ],
      "source": [
        "display(priority_df.sort_values(by='ICE', ascending=False))\n",
        "display(priority_df.sort_values(by='RICE', ascending=False))"
      ]
    },
    {
      "cell_type": "markdown",
      "metadata": {
        "id": "RlhR_h_AaUIE"
      },
      "source": [
        "### Вывод по разделу 3"
      ]
    },
    {
      "cell_type": "markdown",
      "metadata": {
        "id": "Y6CPtoRAaUIE"
      },
      "source": [
        "Создали DataFrame, в котором сравнили фреймворки ICE и RICE. В результате получили примерно похожие данные - в обоих фреймворках в топ-3 по важности входят гипотезы под индексами 7 и 0. Фреймворк RICE является более информативным, так как он учитывает параметр охвата пользователей, который, на самом деле, немаловажен. Просто иногда нет возможности или времени точно оценить это, поэтому и используют ICE, который, в свою очередь, не сильно отстает по результатам.\n",
        "\n",
        "Если руководствоваться более информативным фреймворком, наиболее важными гипотезами являются:\n",
        "\n",
        " - 7. Добавить форму подписки на все основные страницы, чтобы собрать базу клиентов для email-рассылок\n",
        " - 2. Добавить блоки рекомендаций товаров на сайт интернет магазина, чтобы повысить конверсию и средний чек заказа\n",
        " - 0. Добавить два новых канала привлечения трафика, что позволит привлекать на 30% больше пользователей"
      ]
    },
    {
      "cell_type": "markdown",
      "metadata": {
        "id": "IPAbO9guaUIF"
      },
      "source": [
        "## Анализ A/B-теста"
      ]
    },
    {
      "cell_type": "markdown",
      "metadata": {
        "id": "px6wANreaUIF"
      },
      "source": [
        "### Построим график кумулятивной выручки по группам"
      ]
    },
    {
      "cell_type": "markdown",
      "metadata": {
        "id": "HuqxdkOuaUIF"
      },
      "source": [
        "Для этого нам потребуется:\n",
        "\n",
        " - Создать датафрейм с уникальными парами Дата - Группа\n",
        " - Создать два датафрейма с уже кумулятивными значениями по выручке и количеству посетителей по дням, а затем их объединить\n",
        " - Разделить полученный общий датафрейм по группам\n",
        " - Построить график по выручке"
      ]
    },
    {
      "cell_type": "code",
      "execution_count": null,
      "metadata": {
        "id": "4LXM478FaUIF"
      },
      "outputs": [],
      "source": [
        "# Датафрейм уникальных пар Дата - Группа\n",
        "date_groups = orders[['date','group']].drop_duplicates()"
      ]
    },
    {
      "cell_type": "code",
      "execution_count": null,
      "metadata": {
        "id": "QMmDesJoaUIG"
      },
      "outputs": [],
      "source": [
        "# Создаем датафрейм с агрегированными кумулятивными значениями выручки по дням\n",
        "orders_aggregated = date_groups.apply(lambda x: \\\n",
        "                                       orders[np.logical_and(orders['date'] <= x['date'], orders['group'] == x['group'])]\\\n",
        ".agg({'date' : 'max', 'group' : 'max', 'trans_id' : 'nunique', 'visitor_id' : 'nunique', 'revenue' : 'sum'}), axis=1).sort_values(by=['date','group'])"
      ]
    },
    {
      "cell_type": "code",
      "execution_count": null,
      "metadata": {
        "id": "CkQx5fawaUIG"
      },
      "outputs": [],
      "source": [
        "# Создаем датафрейм с агрегированными кумулятивными значениями количества посетителей по дням\n",
        "visitors_aggregated = date_groups.apply(lambda x: \\\n",
        "                                       visitors[np.logical_and(visitors['date'] <= x['date'], visitors['group'] == x['group'])]\\\n",
        ".agg({'date' : 'max', 'group' : 'max', 'visitors' : 'sum'}), axis=1).sort_values(by=['date','group'])"
      ]
    },
    {
      "cell_type": "code",
      "execution_count": null,
      "metadata": {
        "scrolled": true,
        "id": "y6bKtHKiaUIG",
        "outputId": "2a5d156d-44e3-4256-e4cf-80f35bab6af3"
      },
      "outputs": [
        {
          "data": {
            "text/html": [
              "<div>\n",
              "<style scoped>\n",
              "    .dataframe tbody tr th:only-of-type {\n",
              "        vertical-align: middle;\n",
              "    }\n",
              "\n",
              "    .dataframe tbody tr th {\n",
              "        vertical-align: top;\n",
              "    }\n",
              "\n",
              "    .dataframe thead th {\n",
              "        text-align: right;\n",
              "    }\n",
              "</style>\n",
              "<table border=\"1\" class=\"dataframe\">\n",
              "  <thead>\n",
              "    <tr style=\"text-align: right;\">\n",
              "      <th></th>\n",
              "      <th>date</th>\n",
              "      <th>group</th>\n",
              "      <th>trans_id</th>\n",
              "      <th>buyers</th>\n",
              "      <th>revenue</th>\n",
              "      <th>visitors</th>\n",
              "    </tr>\n",
              "  </thead>\n",
              "  <tbody>\n",
              "    <tr>\n",
              "      <th>0</th>\n",
              "      <td>2019-08-01</td>\n",
              "      <td>A</td>\n",
              "      <td>24</td>\n",
              "      <td>20</td>\n",
              "      <td>148579</td>\n",
              "      <td>719</td>\n",
              "    </tr>\n",
              "    <tr>\n",
              "      <th>1</th>\n",
              "      <td>2019-08-01</td>\n",
              "      <td>B</td>\n",
              "      <td>21</td>\n",
              "      <td>20</td>\n",
              "      <td>101217</td>\n",
              "      <td>713</td>\n",
              "    </tr>\n",
              "    <tr>\n",
              "      <th>2</th>\n",
              "      <td>2019-08-02</td>\n",
              "      <td>A</td>\n",
              "      <td>44</td>\n",
              "      <td>38</td>\n",
              "      <td>242401</td>\n",
              "      <td>1338</td>\n",
              "    </tr>\n",
              "    <tr>\n",
              "      <th>3</th>\n",
              "      <td>2019-08-02</td>\n",
              "      <td>B</td>\n",
              "      <td>45</td>\n",
              "      <td>43</td>\n",
              "      <td>266748</td>\n",
              "      <td>1294</td>\n",
              "    </tr>\n",
              "    <tr>\n",
              "      <th>4</th>\n",
              "      <td>2019-08-03</td>\n",
              "      <td>A</td>\n",
              "      <td>68</td>\n",
              "      <td>62</td>\n",
              "      <td>354874</td>\n",
              "      <td>1845</td>\n",
              "    </tr>\n",
              "  </tbody>\n",
              "</table>\n",
              "</div>"
            ],
            "text/plain": [
              "        date group  trans_id  buyers  revenue  visitors\n",
              "0 2019-08-01     A        24      20   148579       719\n",
              "1 2019-08-01     B        21      20   101217       713\n",
              "2 2019-08-02     A        44      38   242401      1338\n",
              "3 2019-08-02     B        45      43   266748      1294\n",
              "4 2019-08-03     A        68      62   354874      1845"
            ]
          },
          "execution_count": 22,
          "metadata": {},
          "output_type": "execute_result"
        }
      ],
      "source": [
        "# объединяем кумулятивные данные в одной таблице и присваиваем ее столбцам понятные названия\n",
        "cumulative_data = orders_aggregated.merge(visitors_aggregated, left_on=['date', 'group'], right_on=['date', 'group'])\n",
        "cumulative_data.columns = ['date', 'group', 'trans_id', 'buyers', 'revenue', 'visitors']\n",
        "\n",
        "cumulative_data.head(5)"
      ]
    },
    {
      "cell_type": "code",
      "execution_count": null,
      "metadata": {
        "id": "bPPs02jvaUIG",
        "outputId": "11b742cd-f662-4d46-ff9a-0136f92bd52e"
      },
      "outputs": [
        {
          "data": {
            "text/plain": [
              "True"
            ]
          },
          "execution_count": 23,
          "metadata": {},
          "output_type": "execute_result"
        }
      ],
      "source": [
        "cumulative_data['date'].min() == orders['date'].min() and cumulative_data['date'].max() == orders['date'].max() \\\n",
        "and cumulative_data['date'].min() == visitors['date'].min() and cumulative_data['date'].max() == visitors['date'].max()"
      ]
    },
    {
      "cell_type": "markdown",
      "metadata": {
        "id": "iQMuUAlXaUIG"
      },
      "source": [
        "Созданный датафрейм является корректным"
      ]
    },
    {
      "cell_type": "code",
      "execution_count": null,
      "metadata": {
        "scrolled": false,
        "id": "93WqRI6HaUIH",
        "outputId": "37fa9043-c9d1-4178-988b-89a6e053685d"
      },
      "outputs": [
        {
          "data": {
            "image/png": "[encoded data removed]",
            "text/plain": [
              "<Figure size 1080x360 with 1 Axes>"
            ]
          },
          "metadata": {
            "needs_background": "light"
          },
          "output_type": "display_data"
        }
      ],
      "source": [
        "# датафрейм с кумулятивным количеством заказов и кумулятивной выручкой по дням в группе А\n",
        "cumulative_revenue_a = cumulative_data[cumulative_data['group']=='A'][['date','revenue', 'trans_id']]\n",
        "\n",
        "# датафрейм с кумулятивным количеством заказов и кумулятивной выручкой по дням в группе B\n",
        "cumulative_revenue_b = cumulative_data[cumulative_data['group']=='B'][['date','revenue', 'trans_id']]\n",
        "\n",
        "# Строим график выручки группы А\n",
        "plt.plot(cumulative_revenue_a['date'], cumulative_revenue_a['revenue'], label='A')\n",
        "\n",
        "# Строим график выручки группы B\n",
        "plt.plot(cumulative_revenue_b['date'], cumulative_revenue_b['revenue'], label='B')\n",
        "\n",
        "#Объединяем их в один и добавляем названия осей\n",
        "plt.title('График кумулятивной выручки по группам')\n",
        "plt.xlabel('Дата')\n",
        "plt.ylabel('Выручка')\n",
        "plt.legend()\n",
        "plt.show()"
      ]
    },
    {
      "cell_type": "markdown",
      "metadata": {
        "id": "vsnc4EePaUIH"
      },
      "source": [
        "По графику можно сделать первоначальное предположение, что группа B лидирует по выручке, но скачок в районе 18 - 19 сентября немного настораживает"
      ]
    },
    {
      "cell_type": "markdown",
      "metadata": {
        "id": "BJb2gwVgaUIH"
      },
      "source": [
        "### Построим график кумулятивного среднего чека по группам"
      ]
    },
    {
      "cell_type": "markdown",
      "metadata": {
        "id": "9cFo07FzaUIH"
      },
      "source": [
        "Здесь у нас уже есть данные. Необходимо просто привести их в графический вид:"
      ]
    },
    {
      "cell_type": "code",
      "execution_count": null,
      "metadata": {
        "scrolled": true,
        "id": "RXUu0pqNaUII",
        "outputId": "76bcc7e8-1c0e-476b-c765-0bfe0ec5d9a5"
      },
      "outputs": [
        {
          "data": {
            "image/png": "[encoded data removed]",
            "text/plain": [
              "<Figure size 1080x360 with 1 Axes>"
            ]
          },
          "metadata": {
            "needs_background": "light"
          },
          "output_type": "display_data"
        }
      ],
      "source": [
        "# Строим график кумулятивного среднего чека группы А\n",
        "plt.plot(cumulative_revenue_a['date'], cumulative_revenue_a['revenue']/cumulative_revenue_a['trans_id'], label='A')\n",
        "# Строим график кумулятивного среднего чека группы В\n",
        "plt.plot(cumulative_revenue_b['date'], cumulative_revenue_b['revenue']/cumulative_revenue_b['trans_id'], label='B')\n",
        "#Объединяем их в один и добавляем названия осей\n",
        "plt.title('График кумулятивного среднего чека по группам')\n",
        "plt.xlabel('Дата')\n",
        "plt.ylabel('Средний чек')\n",
        "plt.legend()\n",
        "plt.show()"
      ]
    },
    {
      "cell_type": "markdown",
      "metadata": {
        "id": "71Xc1yLlaUII"
      },
      "source": [
        "Видим ту же ситуацию, что и ранее. Изначально обе группы находились на одном уровне, но затем 18 - 19 сентября группа В резко взлетела вверх по выручке"
      ]
    },
    {
      "cell_type": "markdown",
      "metadata": {
        "id": "8MN-nojlaUII"
      },
      "source": [
        "### Построим график относительного изменения кумулятивного среднего чека группы B к группе A"
      ]
    },
    {
      "cell_type": "markdown",
      "metadata": {
        "id": "xTjxBTwiaUII"
      },
      "source": [
        "Для выполнения данного задания нам будет необходимо объединить датафреймы с кумулятивными значениями в один, а затем посчитать средний чек для каждой группы, также относительный средний чек и представить графически"
      ]
    },
    {
      "cell_type": "code",
      "execution_count": null,
      "metadata": {
        "scrolled": true,
        "id": "XjxO9UOCaUII",
        "outputId": "86ba69a4-96fc-4953-bd42-95bae2f9b528"
      },
      "outputs": [
        {
          "data": {
            "image/png": "[encoded data removed]",
            "text/plain": [
              "<Figure size 1080x360 with 1 Axes>"
            ]
          },
          "metadata": {
            "needs_background": "light"
          },
          "output_type": "display_data"
        }
      ],
      "source": [
        "# Собираем данные в одном датафрейме\n",
        "merged_cumulative_revenue = cumulative_revenue_a.merge(cumulative_revenue_b, left_on='date', right_on='date', how='left', suffixes=['_a', '_b'])\n",
        "\n",
        "# Строим отношение средних чеков\n",
        "plt.plot(merged_cumulative_revenue['date'], (merged_cumulative_revenue['revenue_b']/merged_cumulative_revenue['trans_id_b'])/(merged_cumulative_revenue['revenue_a']/merged_cumulative_revenue['trans_id_a'])-1)\n",
        "\n",
        "# Добавляем ось X\n",
        "plt.axhline(y=0, color='black', linestyle='--')\n",
        "plt.title('График относительного изменения кумулятивного среднего чека группы B к группе A')\n",
        "plt.xlabel('Дата')\n",
        "plt.ylabel('Относительное изменение')\n",
        "plt.show()"
      ]
    },
    {
      "cell_type": "markdown",
      "metadata": {
        "id": "Zd_XcRZ5aUIJ"
      },
      "source": [
        "По графику видно, что группа B почти всегда опережает группу А по среднему чеку. Даже до скачка 18 - 19 сентября, группа В находилась в лидерах"
      ]
    },
    {
      "cell_type": "markdown",
      "metadata": {
        "id": "C5G8M3GOaUIJ"
      },
      "source": [
        "### Построим график кумулятивного среднего количества заказов на посетителя по группам"
      ]
    },
    {
      "cell_type": "markdown",
      "metadata": {
        "id": "9A682BKlaUIJ"
      },
      "source": [
        "Алгоритм таков, что нам предстоит вернуться к датафрейму с общими кумулятивным данными и рассчитать конверсию, а затем прдеставить ее графически для каждой группы"
      ]
    },
    {
      "cell_type": "code",
      "execution_count": null,
      "metadata": {
        "scrolled": true,
        "id": "Mtw4IIeZaUIJ",
        "outputId": "f4aa9c47-a3c8-4091-e542-80dfbc72d4ba"
      },
      "outputs": [
        {
          "data": {
            "image/png": "[encoded data removed]",
            "text/plain": [
              "<Figure size 1080x360 with 1 Axes>"
            ]
          },
          "metadata": {
            "needs_background": "light"
          },
          "output_type": "display_data"
        }
      ],
      "source": [
        "# Считаем среднее количество заказов на посетителя\n",
        "cumulative_data['conversion'] = cumulative_data['trans_id']/cumulative_data['visitors']\n",
        "\n",
        "# Отделяем данные по группе A\n",
        "cumulative_data_a = cumulative_data[cumulative_data['group']=='A']\n",
        "\n",
        "# Отделяем данные по группе B\n",
        "cumulative_data_b = cumulative_data[cumulative_data['group']=='B']\n",
        "\n",
        "# Объединяем их в один график и добавляем названия осей\n",
        "plt.plot(cumulative_data_a['date'], cumulative_data_a['conversion'], label='A')\n",
        "plt.plot(cumulative_data_b['date'], cumulative_data_b['conversion'], label='B')\n",
        "plt.title('График кумулятивного среднего количества заказов на посетителя по группам')\n",
        "plt.xlabel('Дата')\n",
        "plt.ylabel('Среднее кол-во заказов')\n",
        "plt.legend()\n",
        "plt.show()"
      ]
    },
    {
      "cell_type": "markdown",
      "metadata": {
        "id": "qR8QuQapaUIJ"
      },
      "source": [
        "На этом графике четко видно превосходство группы B в количестве заказов over time. Оба графика практически \"закрепились\" за 10 дней с начала исследования"
      ]
    },
    {
      "cell_type": "markdown",
      "metadata": {
        "id": "au6fwPvTaUIJ"
      },
      "source": [
        "### Построим график относительного изменения кумулятивного среднего количества заказов на посетителя группы B к группе A"
      ]
    },
    {
      "cell_type": "markdown",
      "metadata": {
        "id": "2x71IA-2aUIK"
      },
      "source": [
        "Для решения этой задачи нам предстоит взять датафреймы из прошлого задания и посчитать относительное значение"
      ]
    },
    {
      "cell_type": "code",
      "execution_count": null,
      "metadata": {
        "id": "n3PrOSyOaUIK",
        "outputId": "a455c89b-e9e4-4a95-ad9b-9ac7dc4e08ca"
      },
      "outputs": [
        {
          "data": {
            "image/png": "[encoded data removed]",
            "text/plain": [
              "<Figure size 1080x360 with 1 Axes>"
            ]
          },
          "metadata": {
            "needs_background": "light"
          },
          "output_type": "display_data"
        }
      ],
      "source": [
        "merged_cumulative_conversions = cumulative_data_a[['date','conversion']].merge(cumulative_data_b[['date','conversion']], left_on='date', right_on='date', how='left', suffixes=['_a', '_b'])\n",
        "\n",
        "plt.plot(merged_cumulative_conversions['date'], merged_cumulative_conversions['conversion_b']/merged_cumulative_conversions['conversion_a']-1, label=\"Относительный прирост кумулятивного среднего количества заказов на посетителя группы B относительно группы A\")\n",
        "plt.axhline(y=0, color='black', linestyle='--')\n",
        "plt.axhline(y=0.11, color='grey', linestyle='--', label = 'Линия абсолютного отрыва группы В')\n",
        "plt.axhline(y=0.15, color='silver', linestyle='--', label = 'Линия стабилизации группы В')#Поставим отметку в 0.11 для наглядности выводов\n",
        "plt.title('График относительного изменения кумулятивного среднего количества заказов на посетителя группы B к группе A')\n",
        "plt.xlabel('Дата')\n",
        "plt.ylabel('Относительное изменение')\n",
        "plt.legend()\n",
        "plt.show()"
      ]
    },
    {
      "cell_type": "markdown",
      "metadata": {
        "id": "5ucbzZYdaUIK"
      },
      "source": [
        "На данном графике видно, что количество заказов группы В практически всегда было больше, чем в группе А, а на ~10 день уже не опускалось ниже 10 - 11% выше. По итогу группа В стабилизировалась около ометки в ~15%"
      ]
    },
    {
      "cell_type": "markdown",
      "metadata": {
        "id": "CnP3rJZLaUIK"
      },
      "source": [
        "### Построим точечный график количества заказов по пользователям"
      ]
    },
    {
      "cell_type": "markdown",
      "metadata": {
        "id": "X7iqEAt1aUIK"
      },
      "source": [
        "Самое время рассмотреть аномалии перед проведением стат тестов. Начнем с количества заказов. Для этого мы сгруппируем датафрейм orders по пользователям и закинем его на точечный график"
      ]
    },
    {
      "cell_type": "code",
      "execution_count": null,
      "metadata": {
        "id": "02XiGJUUaUIK"
      },
      "outputs": [],
      "source": [
        "orders_by_users = (\n",
        "    orders.groupby('visitor_id', as_index=False)\n",
        "    .agg({'trans_id': 'nunique'})\n",
        ")\n",
        "\n",
        "orders_by_users.columns = ['visitor_id', 'trans_id']"
      ]
    },
    {
      "cell_type": "code",
      "execution_count": null,
      "metadata": {
        "id": "A0uiNS5UaUIL",
        "outputId": "48f51679-58e7-495a-cd13-a9c1355c4ed6"
      },
      "outputs": [
        {
          "data": {
            "image/png": "[encoded data removed]",
            "text/plain": [
              "<Figure size 1080x360 with 1 Axes>"
            ]
          },
          "metadata": {
            "needs_background": "light"
          },
          "output_type": "display_data"
        }
      ],
      "source": [
        "x_values = pd.Series(range(0,len(orders_by_users)))\n",
        "\n",
        "plt.scatter(x_values, orders_by_users['trans_id'])\n",
        "plt.title('Точечный график количества заказов по пользователям')\n",
        "plt.xlabel('Пользователи')\n",
        "plt.ylabel('Количество заказов')\n",
        "plt.show()"
      ]
    },
    {
      "cell_type": "markdown",
      "metadata": {
        "id": "YYgLfTydaUIL"
      },
      "source": [
        "В целом даже цифра 2 в количестве заказов - большая редкость, что там дальше говорить о большем количестве. Подавляющее большинство покупателей закупились одноразово."
      ]
    },
    {
      "cell_type": "markdown",
      "metadata": {
        "id": "3ZYs49cvaUIL"
      },
      "source": [
        "### Посчитаем перцентили количества заказов на пользователя"
      ]
    },
    {
      "cell_type": "code",
      "execution_count": null,
      "metadata": {
        "id": "hoQekIWlaUIL",
        "outputId": "babe4416-2d5e-41fd-f492-e16126bb54e9"
      },
      "outputs": [
        {
          "data": {
            "text/plain": [
              "array([2., 4.])"
            ]
          },
          "execution_count": 31,
          "metadata": {},
          "output_type": "execute_result"
        }
      ],
      "source": [
        "np.percentile(orders_by_users['trans_id'], [95, 99])"
      ]
    },
    {
      "cell_type": "markdown",
      "metadata": {
        "id": "VKGAnt8OaUIL"
      },
      "source": [
        "Около 95% пользователей заказало меньше 2 заказов(Что примерно было видно на графике), лишь 1% оформил заказ > 4 раз.\n",
        "\n",
        "Сделаем \"аномальный\" потолок в 2 заказа, как бы это ни было грустно"
      ]
    },
    {
      "cell_type": "markdown",
      "metadata": {
        "id": "8XfUgLIcaUIL"
      },
      "source": [
        "### Построим точечный график стоимостей заказов"
      ]
    },
    {
      "cell_type": "markdown",
      "metadata": {
        "id": "SXxjbebOaUIM"
      },
      "source": [
        "Аналогично с количеством заказов, проделаем такую же работу:"
      ]
    },
    {
      "cell_type": "code",
      "execution_count": null,
      "metadata": {
        "id": "Jbdg2-ZZaUIM",
        "outputId": "9adf96f2-b3b1-4d59-fba4-d7f773793f47"
      },
      "outputs": [
        {
          "data": {
            "image/png": "[encoded data removed]",
            "text/plain": [
              "<Figure size 1080x360 with 1 Axes>"
            ]
          },
          "metadata": {
            "needs_background": "light"
          },
          "output_type": "display_data"
        }
      ],
      "source": [
        "x_values = pd.Series(range(len(orders['revenue'])))\n",
        "plt.scatter(x_values, orders['revenue'])\n",
        "plt.title('Точечный график стоимостей заказов')\n",
        "plt.xlabel('Пользователи')\n",
        "plt.ylabel('Стоимость заказов')\n",
        "plt.show()"
      ]
    },
    {
      "cell_type": "markdown",
      "metadata": {
        "id": "VtRs1DHpaUIM"
      },
      "source": [
        "Цифра в ~1.3 миллиона сильно портит картину, почти ничего не видно"
      ]
    },
    {
      "cell_type": "code",
      "execution_count": null,
      "metadata": {
        "id": "VBVkXrOeaUIM"
      },
      "outputs": [],
      "source": [
        "normal_orders = orders[orders['revenue'] < 1000000]"
      ]
    },
    {
      "cell_type": "code",
      "execution_count": null,
      "metadata": {
        "id": "TaGvQdjzaUIM",
        "outputId": "33a52afe-4d89-46d1-a1c2-a635f6eef94c"
      },
      "outputs": [
        {
          "data": {
            "image/png": "[encoded data removed]",
            "text/plain": [
              "<Figure size 1080x360 with 1 Axes>"
            ]
          },
          "metadata": {
            "needs_background": "light"
          },
          "output_type": "display_data"
        }
      ],
      "source": [
        "x_values = pd.Series(range(len(normal_orders['revenue'])))\n",
        "plt.scatter(x_values, normal_orders['revenue'])\n",
        "plt.title('Точечный график стоимостей заказов')\n",
        "plt.xlabel('Пользователи')\n",
        "plt.ylabel('Стоимость заказов')\n",
        "plt.show()"
      ]
    },
    {
      "cell_type": "markdown",
      "metadata": {
        "id": "-RG5DaGKaUIM"
      },
      "source": [
        "Теперь видно больше. Средний заказ находится на пороге около 25000. Для определения этого порога посмортрим на процентили в следующем разделе."
      ]
    },
    {
      "cell_type": "markdown",
      "metadata": {
        "id": "o5YdroKPaUIN"
      },
      "source": [
        "### Посчитаем перцентили стоимости заказов"
      ]
    },
    {
      "cell_type": "code",
      "execution_count": null,
      "metadata": {
        "id": "Moj_tPKwaUIN",
        "outputId": "bb8d61a4-1961-4a71-e936-c07f36c5673b"
      },
      "outputs": [
        {
          "data": {
            "text/plain": [
              "array([28000. , 58233.2])"
            ]
          },
          "execution_count": 35,
          "metadata": {},
          "output_type": "execute_result"
        }
      ],
      "source": [
        "np.percentile(orders['revenue'], [95, 99])"
      ]
    },
    {
      "cell_type": "markdown",
      "metadata": {
        "id": "TkgSWUC8aUIN"
      },
      "source": [
        "Как я и думал, граница, за которой находятся 95% пользователей - это заказ на сумму меньше 28000 - ее и оставим, как \"аномальный\" потолок"
      ]
    },
    {
      "cell_type": "markdown",
      "metadata": {
        "id": "ZeDTsCj6aUIN"
      },
      "source": [
        "### Посчитаем статистическую значимость различий в среднем количестве заказов на посетителя между группами по «сырым» данным"
      ]
    },
    {
      "cell_type": "markdown",
      "metadata": {
        "id": "Mt42gOGgaUIN"
      },
      "source": [
        "Для подсчета стат значимости необходимо будет реализовать следующие шаги:\n",
        "\n",
        " - Посчтитать количество заказов по пользователям групп\n",
        " - Посчитатть количество заказов по датам групп\n",
        " - Взять кумулятивные значения из датафрейма, который мы создали ранее\n",
        " - Объединить все в один датафрейм"
      ]
    },
    {
      "cell_type": "code",
      "execution_count": null,
      "metadata": {
        "id": "RrKqja6paUIN"
      },
      "outputs": [],
      "source": [
        "#Считаем количество заказов по пользователям группы А\n",
        "orders_by_users_a = (\n",
        "    orders[orders['group'] == 'A']\n",
        "    .groupby('visitor_id', as_index=False)\n",
        "    .agg({'trans_id': pd.Series.nunique})\n",
        ")\n",
        "orders_by_users_a.columns = ['visitor_id', 'trans_id']"
      ]
    },
    {
      "cell_type": "code",
      "execution_count": null,
      "metadata": {
        "id": "GB-pTz0PaUIN"
      },
      "outputs": [],
      "source": [
        "visitors_a_daily = visitors[visitors['group'] == 'A'][['date', 'visitors']]\n",
        "visitors_a_daily.columns = ['date', 'visitors_per_date_a']"
      ]
    },
    {
      "cell_type": "code",
      "execution_count": null,
      "metadata": {
        "id": "3nAGIHB4aUIO"
      },
      "outputs": [],
      "source": [
        "#Считаем количество заказов по пользователям группы В\n",
        "orders_by_users_b = (\n",
        "    orders[orders['group'] == 'B']\n",
        "    .groupby('visitor_id', as_index=False)\n",
        "    .agg({'trans_id': pd.Series.nunique})\n",
        ")\n",
        "orders_by_users_b.columns = ['visitor_id', 'trans_id']"
      ]
    },
    {
      "cell_type": "code",
      "execution_count": null,
      "metadata": {
        "id": "Sf8HShXlaUIO"
      },
      "outputs": [],
      "source": [
        "visitors_b_daily = visitors[visitors['group'] == 'B'][['date', 'visitors']]\n",
        "visitors_b_daily.columns = ['date', 'visitors_per_date_b']"
      ]
    },
    {
      "cell_type": "code",
      "execution_count": null,
      "metadata": {
        "id": "UdWsZuG4aUIO"
      },
      "outputs": [],
      "source": [
        "orders_a_daily = (\n",
        "    orders[orders['group'] == 'A'][['date', 'trans_id', 'visitor_id', 'revenue']]\n",
        "    .groupby('date', as_index=False)\n",
        "    .agg({'trans_id': pd.Series.nunique, 'revenue': 'sum'})\n",
        ")\n",
        "orders_a_daily.columns = ['date', 'orders_per_date_b', 'revenue_per_date_a']"
      ]
    },
    {
      "cell_type": "code",
      "execution_count": null,
      "metadata": {
        "id": "5xBfggfFaUIO"
      },
      "outputs": [],
      "source": [
        "orders_b_daily = (\n",
        "    orders[orders['group'] == 'B'][['date', 'trans_id', 'visitor_id', 'revenue']]\n",
        "    .groupby('date', as_index=False)\n",
        "    .agg({'trans_id': pd.Series.nunique, 'revenue': 'sum'})\n",
        ")\n",
        "orders_b_daily.columns = ['date', 'orders_per_date_b', 'revenue_per_date_b']"
      ]
    },
    {
      "cell_type": "code",
      "execution_count": null,
      "metadata": {
        "scrolled": true,
        "id": "jdSi8T39aUIO",
        "outputId": "4718a77c-0dee-4b2d-eb95-00c9b17cd38c"
      },
      "outputs": [
        {
          "name": "stdout",
          "output_type": "stream",
          "text": [
            "        date  orders_per_date_b_x  revenue_per_date_a  orders_per_date_b_y  \\\n",
            "0 2019-08-01                   24              148579                   21   \n",
            "1 2019-08-02                   20               93822                   24   \n",
            "2 2019-08-03                   24              112473                   16   \n",
            "3 2019-08-04                   16               70825                   17   \n",
            "4 2019-08-05                   25              124218                   23   \n",
            "\n",
            "   revenue_per_date_b  orders_cummulative_a  revenue_cummulative_a  \\\n",
            "0              101217                    24                 148579   \n",
            "1              165531                    44                 242401   \n",
            "2              114248                    68                 354874   \n",
            "3              108571                    84                 425699   \n",
            "4               92428                   109                 549917   \n",
            "\n",
            "   visitors_cummulative_a  orders_cummulative_b  revenue_cummulative_b  \\\n",
            "0                     719                    21                 101217   \n",
            "1                    1338                    45                 266748   \n",
            "2                    1845                    61                 380996   \n",
            "3                    2562                    78                 489567   \n",
            "4                    3318                   101                 581995   \n",
            "\n",
            "   visitors_cummulative_b  visitors_per_date_a  visitors_per_date_b  \n",
            "0                     713                  719                  713  \n",
            "1                    1294                  619                  581  \n",
            "2                    1803                  507                  509  \n",
            "3                    2573                  717                  770  \n",
            "4                    3280                  756                  707  \n"
          ]
        }
      ],
      "source": [
        "# Объединяем все в один датафрейм\n",
        "data = (\n",
        "    orders_a_daily.merge(\n",
        "        orders_b_daily, left_on='date', right_on='date', how='left'\n",
        "    )\n",
        "    .merge(cumulative_data_a[['date', 'trans_id', 'revenue', 'visitors']], left_on='date', right_on='date', how='left', suffixes=['_b', '_a'])\n",
        "    .merge(cumulative_data_b[['date', 'trans_id', 'revenue', 'visitors']], left_on='date', right_on='date', how='left', suffixes=['_a', '_b'])\n",
        "    .merge(visitors_a_daily, left_on='date', right_on='date', how='left')\n",
        "    .merge(visitors_b_daily, left_on='date', right_on='date', how='left')\n",
        ")\n",
        "\n",
        "data = data.rename(columns = {'trans_id_a' : 'orders_cummulative_a', 'revenue_a' : 'revenue_cummulative_a',\\\n",
        "                                'visitors_a' : 'visitors_cummulative_a','trans_id_b' : 'orders_cummulative_b',\\\n",
        "                                'revenue_b' : 'revenue_cummulative_b', 'visitors_b' : 'visitors_cummulative_b' })\n",
        "print(data.head(5))"
      ]
    },
    {
      "cell_type": "markdown",
      "metadata": {
        "id": "FIKOUjXRaUIP"
      },
      "source": [
        "С этим закончили, теперь необходимо создать два столбца с пользователями и количеством заказов по группам, и затем уже рассчитать p-value"
      ]
    },
    {
      "cell_type": "markdown",
      "metadata": {
        "id": "TtMLKpkjaUIP"
      },
      "source": [
        "Также перед этим стоит выдвинуть интересующую нас гипотезу, по которой будем рассчитывать p-value:"
      ]
    },
    {
      "cell_type": "markdown",
      "metadata": {
        "id": "E8TAvFQvaUIP"
      },
      "source": [
        "$H_0$ - нет существенной разницы между средним количеством заказов двух групп, используя \"сырые\" данные\n",
        "\n",
        "$H_1$ - между двумя группами есть существенная разница в среднем количестве заказов, используя \"сырые\" данные"
      ]
    },
    {
      "cell_type": "markdown",
      "metadata": {
        "id": "0K5qY2IqaUIP"
      },
      "source": [
        "Тест будем проводить с выбранным aplha = 0.05. Тест будет U-тест Манна-Уитни, так как обычный t-test нам не подойдет. Много шума и данные не распределены нормально, а также у нас не совсем одинаковое количество посетителей"
      ]
    },
    {
      "cell_type": "code",
      "execution_count": null,
      "metadata": {
        "id": "LvBQ2-aeaUIP",
        "outputId": "ff385d39-f54a-4c0b-fdd3-a1045c62b19a"
      },
      "outputs": [
        {
          "name": "stdout",
          "output_type": "stream",
          "text": [
            "Количество посетителей группы А = 18736\n",
            "Количество посетителей группы B = 18916\n"
          ]
        }
      ],
      "source": [
        "print('Количество посетителей группы А =', visitors[visitors['group'] == 'A']['visitors'].sum())\n",
        "print('Количество посетителей группы B =', visitors[visitors['group'] == 'B']['visitors'].sum())"
      ]
    },
    {
      "cell_type": "code",
      "execution_count": null,
      "metadata": {
        "scrolled": false,
        "id": "zwaDNLvjaUIQ",
        "outputId": "e9d03bf1-09bd-476b-903e-acf7315c88d5"
      },
      "outputs": [
        {
          "name": "stdout",
          "output_type": "stream",
          "text": [
            "p-value = 0.017\n",
            "Относительный прирост среднего числа заказов группы B = 13.81%\n"
          ]
        }
      ],
      "source": [
        "# Создаем Series в котором у каждого пользователя группы А будет количество заказов(Даже если оно равно 0)\n",
        "sample_a = pd.concat(\n",
        "    [orders_by_users_a['trans_id'], pd.Series(0, \\\n",
        "    index=np.arange(data['visitors_per_date_a'].sum() - len(orders_by_users_a['trans_id'])), name='trans_id')], axis=0)\n",
        "\n",
        "# Создаем Series в котором у каждого пользователя группы В будет количество заказов(Даже если оно равно 0)\n",
        "sample_b = pd.concat(\n",
        "    [orders_by_users_b['trans_id'], pd.Series(0, \\\n",
        "    index=np.arange(data['visitors_per_date_b'].sum() - len(orders_by_users_b['trans_id'])), name='trans_id')], axis=0)\n",
        "\n",
        "print('p-value =', \"{0:.3f}\".format(stats.mannwhitneyu(sample_a, sample_b)[1]))\n",
        "\n",
        "print('Относительный прирост среднего числа заказов группы B =',\"{:.2%}\".format(sample_b.mean() / sample_a.mean() - 1))\n"
      ]
    },
    {
      "cell_type": "markdown",
      "metadata": {
        "id": "kGCBhn_faUIQ"
      },
      "source": [
        "p-value меньше, чем alpha, который мы выбрали равным 0.05, следовательно, можем отвергнуть нулевую гипотезу о том, что между этими групами нет разницы. Все же они разные и относительный прирост об этом как раз говорит. Группа B в среднем имеет на 14% больше количество заказов, чем группа А по \"сырым\" даным"
      ]
    },
    {
      "cell_type": "markdown",
      "metadata": {
        "id": "4CZm7p8gaUIQ"
      },
      "source": [
        "### Посчитаем статистическую значимость различий в среднем чеке заказа между группами по «сырым» данным"
      ]
    },
    {
      "cell_type": "markdown",
      "metadata": {
        "id": "fb98eBWtaUIQ"
      },
      "source": [
        "Аналогично с предыдущим заданием, все у нас уже есть на руках, осталось только сформировать гипотезы и провести тест:"
      ]
    },
    {
      "cell_type": "markdown",
      "metadata": {
        "id": "5sGF3KB7aUIQ"
      },
      "source": [
        "$H_0$ - нет существенной разницы между средним чеком заказа двух групп, используя \"сырые\" данные\n",
        "\n",
        "$H_1$ - между двумя группами есть существенная разница в среднем чеке заказа , используя \"сырые\" данные"
      ]
    },
    {
      "cell_type": "markdown",
      "metadata": {
        "id": "sXSbZt85aUIR"
      },
      "source": [
        "Также, как и раньше будем проводить тест методом Манна-Уитни с aplha = 0.05"
      ]
    },
    {
      "cell_type": "code",
      "execution_count": null,
      "metadata": {
        "id": "b5j5d6xXaUIR",
        "outputId": "6b587308-ff2a-453a-9d55-ca6ab249a535"
      },
      "outputs": [
        {
          "name": "stdout",
          "output_type": "stream",
          "text": [
            "p-value = 0.729\n",
            "Относительный прирост средней суммы чека группы B = 25.87%\n"
          ]
        }
      ],
      "source": [
        "print('p-value =', '{0:.3f}'.format(stats.mannwhitneyu(orders[orders['group']=='A']['revenue'], orders[orders['group']=='B']['revenue'])[1]))\n",
        "print('Относительный прирост средней суммы чека группы B =', '{:.2%}'.format(orders[orders['group']=='B']['revenue'].mean()/orders[orders['group']=='A']['revenue'].mean()-1))"
      ]
    },
    {
      "cell_type": "markdown",
      "metadata": {
        "id": "zT1JveIAaUIR"
      },
      "source": [
        "Вот здесь перед нами уже интересная картина. p-value в разы больше alpha = 0.05, что говорит о том, что мы не можем отвергнуть нулевую гипотезу о том, что средние чеки двух групп равны, вот только если посмотерть на относительный прирост, то в группе В, в среднем, чек на целых 26% больше! Возможно, сказывается влияние выбросов, так что нужно это обязательно проверить"
      ]
    },
    {
      "cell_type": "markdown",
      "metadata": {
        "id": "-DvfEtkkaUIR"
      },
      "source": [
        "### Посчитаем статистическую значимость различий в среднем количестве заказов на посетителя между группами по «очищенным» данным"
      ]
    },
    {
      "cell_type": "markdown",
      "metadata": {
        "id": "imh3cyshaUIR"
      },
      "source": [
        "Проделаем те же самые шаги, что и в двух заданиях ранее, только сперва очистим датафреймы, используя потолки, о которых говорили ранее:"
      ]
    },
    {
      "cell_type": "code",
      "execution_count": null,
      "metadata": {
        "id": "_6CvlKNsaUIR",
        "outputId": "e10d1138-c098-4af4-a317-19878da8fc23"
      },
      "outputs": [
        {
          "data": {
            "text/plain": [
              "1099    148427295\n",
              "18      199603092\n",
              "928     204675465\n",
              "23      237748145\n",
              "37      249864742\n",
              "Name: visitor_id, dtype: int64"
            ]
          },
          "metadata": {},
          "output_type": "display_data"
        },
        {
          "data": {
            "text/plain": [
              "74"
            ]
          },
          "execution_count": 46,
          "metadata": {},
          "output_type": "execute_result"
        }
      ],
      "source": [
        "users_with_many_orders = pd.concat(\n",
        "    [\n",
        "        orders_by_users_a[orders_by_users_a['trans_id'] > np.percentile(orders_by_users['trans_id'], 95)]['visitor_id'],\n",
        "        orders_by_users_b[orders_by_users_b['trans_id'] > np.percentile(orders_by_users['trans_id'], 95)]['visitor_id'],\n",
        "    ],\n",
        "    axis=0,\n",
        ")\n",
        "users_with_expensive_orders = orders[orders['revenue'] > np.percentile(orders['revenue'], 95)]['visitor_id']\n",
        "abnormal_users = (\n",
        "    pd.concat([users_with_many_orders, users_with_expensive_orders], axis=0)\n",
        "    .drop_duplicates()\n",
        "    .sort_values()\n",
        ")\n",
        "display(abnormal_users.head(5))\n",
        "abnormal_users.shape[0]"
      ]
    },
    {
      "cell_type": "markdown",
      "metadata": {
        "id": "Gt6lRusbaUIS"
      },
      "source": [
        "Вышло 74 аномальных значения"
      ]
    },
    {
      "cell_type": "code",
      "execution_count": null,
      "metadata": {
        "id": "2uuJa6bbaUIS"
      },
      "outputs": [],
      "source": [
        "# Создаем Series в котором у каждого пользователя группы А будет количество заказов(Даже если оно равно 0)\n",
        "sample_a_filtered = pd.concat(\n",
        "    [orders_by_users_a[np.logical_not(orders_by_users_a['visitor_id'].isin(abnormal_users))]['trans_id'], pd.Series(0, \\\n",
        "    index=np.arange(data['visitors_per_date_a'].sum() - len(orders_by_users_a['trans_id'])), name='trans_id')], axis=0)\n",
        "\n",
        "# Создаем Series в котором у каждого пользователя группы В будет количество заказов(Даже если оно равно 0)\n",
        "sample_b_filtered = pd.concat(\n",
        "    [orders_by_users_b[np.logical_not(orders_by_users_b['visitor_id'].isin(abnormal_users))]['trans_id'], pd.Series(0, \\\n",
        "    index=np.arange(data['visitors_per_date_b'].sum() - len(orders_by_users_b['trans_id'])), name='trans_id')], axis=0)"
      ]
    },
    {
      "cell_type": "markdown",
      "metadata": {
        "id": "om4gg7peaUIS"
      },
      "source": [
        "Также рассмотрим гипотезы перед проведением теста:"
      ]
    },
    {
      "cell_type": "markdown",
      "metadata": {
        "id": "AF2yeDl3aUIS"
      },
      "source": [
        "$H_0$ - нет существенной разницы между средним количеством заказов двух групп, используя \"чистые\" данные\n",
        "\n",
        "$H_1$ - между двумя группами есть существенная разница в среднем количестве заказов, используя \"чистые\" данные"
      ]
    },
    {
      "cell_type": "markdown",
      "metadata": {
        "id": "w3fdb5aDaUIS"
      },
      "source": [
        "Также, как и раньше будем проводить тест методом Манна-Уитни с aplha = 0.05"
      ]
    },
    {
      "cell_type": "code",
      "execution_count": null,
      "metadata": {
        "id": "9oUF_gQpaUIS",
        "outputId": "8698915a-e9cc-4fa6-a1ee-6b7f371826da"
      },
      "outputs": [
        {
          "name": "stdout",
          "output_type": "stream",
          "text": [
            "p-value = 0.013\n",
            "Относительный прирост среднего числа заказов группы B в очищенном датафрейме = 17.27%\n"
          ]
        }
      ],
      "source": [
        "print('p-value =','{0:.3f}'.format(stats.mannwhitneyu(sample_a_filtered, sample_b_filtered)[1]))\n",
        "print('Относительный прирост среднего числа заказов группы B в очищенном датафрейме =', '{:.2%}'.format(sample_b_filtered.mean()/sample_a_filtered.mean()-1))"
      ]
    },
    {
      "cell_type": "markdown",
      "metadata": {
        "id": "1AetNTcIaUIS"
      },
      "source": [
        "Показатель p-value практически не изменился, а относительный прирост увеличился. Также, как и в прошлый раз, можем отвергнуть нулевую гипотезу о том, что между этими групами нет разницы. Все же теперь можем смело говорить, что группы не похожи по количеству заказов - в группе B их больше на почти 17%"
      ]
    },
    {
      "cell_type": "markdown",
      "metadata": {
        "id": "91z7TbZraUIT"
      },
      "source": [
        "### Посчитаем статистическую значимость различий в среднем чеке заказа между группами по «очищенным» данным"
      ]
    },
    {
      "cell_type": "markdown",
      "metadata": {
        "id": "rB64Jnc8aUIT"
      },
      "source": [
        "Проделаем уже знакомые вычисления по уже полученным \"чистым\" данным, но, сперва, гипотезы:"
      ]
    },
    {
      "cell_type": "markdown",
      "metadata": {
        "id": "uORwjsgHaUIT"
      },
      "source": [
        "$H_0$ - нет существенной разницы между средним чеком заказа двух групп, используя \"чистые\" данные\n",
        "\n",
        "$H_1$ - между двумя группами есть существенная разница в среднем чеке заказа , используя \"чистые\" данные"
      ]
    },
    {
      "cell_type": "markdown",
      "metadata": {
        "id": "r_ET0dsfaUIT"
      },
      "source": [
        "Также, как и раньше будем проводить тест методом Манна-Уитни с aplha = 0.05"
      ]
    },
    {
      "cell_type": "code",
      "execution_count": null,
      "metadata": {
        "id": "O5Nn1tXgaUIT",
        "outputId": "b0c8b537-260a-47f8-d5a5-c989ef418653"
      },
      "outputs": [
        {
          "name": "stdout",
          "output_type": "stream",
          "text": [
            "p-value = 0.738\n",
            "Относительный прирост средней суммы чека группы B в очищенном датафрейме = -1.96%\n"
          ]
        }
      ],
      "source": [
        "print('p-value =', '{0:.3f}'.format(stats.mannwhitneyu(orders[np.logical_and(orders['group'] == 'A',\n",
        "                    np.logical_not(orders['visitor_id'].isin(abnormal_users)))]['revenue'],\n",
        "                                                       orders[np.logical_and( orders['group'] == 'B',\n",
        "                    np.logical_not(orders['visitor_id'].isin(abnormal_users)))]['revenue']).pvalue))\n",
        "\n",
        "print('Относительный прирост средней суммы чека группы B в очищенном датафрейме =', \"{:.2%}\".format(\n",
        "        orders[np.logical_and(orders['group'] == 'B', np.logical_not(orders['visitor_id'].isin(abnormal_users)))]['revenue'].mean()/\n",
        "        orders[np.logical_and(orders['group'] == 'A', np.logical_not(orders['visitor_id'].isin(abnormal_users)))]['revenue'].mean()- 1))"
      ]
    },
    {
      "cell_type": "markdown",
      "metadata": {
        "id": "W0s2XDOOaUIT"
      },
      "source": [
        "Финальный тест показывает p-value, который невероятно больше aplha = 0.05, что говорит нам о том, что мы никак не можем отвергнуть нулевую гипотезу и все же, скорее средние чеки равны, чем нет. Причем и относительный прирост подтверждает - группа В отстает от группы А всего на ~2%."
      ]
    },
    {
      "cell_type": "markdown",
      "metadata": {
        "id": "Re7xUToxaUIU"
      },
      "source": [
        "### Выводы по разделу 4"
      ]
    },
    {
      "cell_type": "markdown",
      "metadata": {
        "id": "I9X5fXhoaUIU"
      },
      "source": [
        "На основании полученых резульаттов можно прийти в решению __остановить тест и зафиксировать победу одной из групп - группы В__. Для такого вывода руководствовались следующими фактами:\n",
        "\n",
        " - Графики кумулятивного количества заказов и среднего чека подтверждают выдивнутый вывод. Группа В почти всегда опережает конкурента по этим показателям\n",
        " - Если рассматривать стат тесты, то средний чек находится на примерно равном уровне у обеих групп, но если мы берем во внимание \"сырые\" данные, то там ситуация куда выгоднее для группы В - средний чек больше почти на четверть\n",
        " - Даже в \"очищенном\" датафрейме среднее количество заказов у группы В больше на ~17%\n",
        " - A/B тест проходит уже месяц и мы можем видеть стагнацию в позициях групп, особенно на графиках. Продолжать не имеет смысла"
      ]
    },
    {
      "cell_type": "markdown",
      "metadata": {
        "id": "NldNZXfraUIU"
      },
      "source": [
        "## Общий вывод"
      ]
    },
    {
      "cell_type": "markdown",
      "metadata": {
        "id": "SfS27_cKaUIU"
      },
      "source": [
        "__Вывод:__\n",
        "\n",
        " - __1. Подготовка датафреймов -__ Импортировали нужные библиотеки, создали 3 DataFrame из csv файлов.\n",
        " - __2. Предобработка данных -__ Данные оказались очень хорошими и практически не нуждались в предобработке, но все же вот шаги, которые провели:\n",
        "   - Рассмотрели пропуски. По итогу их нигде не оказалось.\n",
        "   - Переименовали все столбцы для соответствия стандартам\n",
        "   - Привели все столбцы к правильному типу данных\n",
        "   - Проверили датафреймы на явные и неявные дубликаты. Их не оказалось\n",
        " - __3. Приоритизация гипотез -__ Создали DataFrame, в котором сравнили фреймворки ICE и RICE. В результате получили примерно похожие данные. Если руководствоваться более информативным фреймворком, наиболее важными гипотезами являются 7, 2, 0\n",
        " - __4. Анализ A/B теста -__ Провели глубокий анализ А/B теста, в ходе которого:\n",
        "   - Построили графики кумулятивной выручки и среднего чека по группам. Увидели, что группа В сильно лидирует по данным параметрам, также удостоверились в этом, построив относительный график среднего чека. Результат оказался таким же. Большее количество времени средний кумулятивный чек группы В был на 10% выше, чем у группы А, иногда доходив до отметки в 50%\n",
        "   - Проделали такие же действия с кумулятивным средним количеством заказов на посетителя. По этому параметру группа В также опережает своего конкурента. На относительном графике можно выделить цифру в ~11% в пользу группы В. По итогу группа В стабилизировалась около ометки в ~15%\n",
        "   - Рассмотрели аномальные значения в обеих группах по среднему чеку и количеству заказов и установили пороговые значения в 2 заказа и 28000 руб. среднего чека для того, чтобы в дальнейшем убрать все значения, выше потолоков\n",
        "   - Провели стат тесты сначала на \"сырых\" данных. Получили следующие результаты:\n",
        "     - Мы отвергли нулевую гипотезу о том, что между групами нет разницы в количестве заказов. С большим шансом, среднее количество находится на разном уровне. Относительный прирост подтверждает данный вывод. Группа B в среднем имеет на 14% больше количество заказов, чем группа А\n",
        "     - Не смогли отвергнуть нулевую гипотезу о том, что средние чеки двух групп равны. Велика вероятность того, что они находятся на одном уровне. Но если посмотерть на относительный прирост, то в группе В, в среднем, чек на целых 26% больше! Возможно, сказывается влияние выбросов.\n",
        "   - Затем убрали аномальные значения, используя потолки, которые нашли выше, и провели стат тесты уже на \"чистых\" данных. Получили следующие результаты:\n",
        "     - Снова отвергли нулевую гипотезу о том, что между групами нет разницы в количестве заказов. Все же теперь можем смело говорить, что группы не похожи по количеству заказов - в группе B их больше на почти 17%\n",
        "     - Нникак не смогли отвергнуть нулевую гипотезу о том, что средние чеки разные, так что, скорее средние чеки равны, чем нет. Причем и относительный прирост подтверждает - группа В отстает от группы А всего на ~2%.\n",
        " - __5. Общее заключение -__ На основании полученных результатов пришли к решению __остановить тест и зафиксировать победу одной из групп - группы В__, руководствуясь следующими выводами:\n",
        "   - Графики кумулятивного количества заказов и среднего чека подтверждают выдивнутый вывод. Группа В почти всегда опережает конкурента по этим показателям\n",
        "   - Если рассматривать стат тесты, то средний чек находится на примерно равном уровне у обеих групп, но если мы берем во внимание \"сырые\" данные, то там ситуация куда выгоднее для группы В - средний чек больше почти на четверть\n",
        "   - Даже в \"очищенном\" датафрейме среднее количество заказов у группы В больше на ~17%\n",
        "   - A/B тест проходит уже месяц и мы можем видеть стагнацию в позициях групп, особенно на графиках. Продолжать не имеет смысла"
      ]
    },
    {
      "cell_type": "code",
      "execution_count": null,
      "metadata": {
        "id": "36qbHcEqaUIV"
      },
      "outputs": [],
      "source": []
    }
  ],
  "metadata": {
    "ExecuteTimeLog": [
      {
        "duration": 1352,
        "start_time": "2024-08-20T14:34:42.861Z"
      },
      {
        "duration": 94,
        "start_time": "2024-08-20T14:35:14.817Z"
      },
      {
        "duration": 8,
        "start_time": "2024-08-20T14:35:58.205Z"
      },
      {
        "duration": 8,
        "start_time": "2024-08-20T14:36:49.075Z"
      },
      {
        "duration": 106,
        "start_time": "2024-08-20T14:36:52.766Z"
      },
      {
        "duration": 122,
        "start_time": "2024-08-20T14:37:10.929Z"
      },
      {
        "duration": 93,
        "start_time": "2024-08-20T14:37:38.668Z"
      },
      {
        "duration": 8,
        "start_time": "2024-08-20T14:38:01.986Z"
      },
      {
        "duration": 1825,
        "start_time": "2024-08-20T14:38:17.196Z"
      },
      {
        "duration": 2245,
        "start_time": "2024-08-20T14:38:27.280Z"
      },
      {
        "duration": 4,
        "start_time": "2024-08-20T14:38:39.294Z"
      },
      {
        "duration": 4,
        "start_time": "2024-08-20T14:38:43.572Z"
      },
      {
        "duration": 190,
        "start_time": "2024-08-20T14:39:52.501Z"
      },
      {
        "duration": 92,
        "start_time": "2024-08-20T14:40:05.214Z"
      },
      {
        "duration": 8,
        "start_time": "2024-08-20T14:40:23.855Z"
      },
      {
        "duration": 4,
        "start_time": "2024-08-20T14:40:26.422Z"
      },
      {
        "duration": 7,
        "start_time": "2024-08-20T14:40:29.956Z"
      },
      {
        "duration": 3,
        "start_time": "2024-08-20T14:41:19.767Z"
      },
      {
        "duration": 13,
        "start_time": "2024-08-20T14:41:22.900Z"
      },
      {
        "duration": 35,
        "start_time": "2024-08-20T14:41:41.550Z"
      },
      {
        "duration": 40,
        "start_time": "2024-08-20T14:41:47.955Z"
      },
      {
        "duration": 39,
        "start_time": "2024-08-20T14:41:58.415Z"
      },
      {
        "duration": 39,
        "start_time": "2024-08-20T14:42:09.818Z"
      },
      {
        "duration": 44,
        "start_time": "2024-08-20T14:42:16.765Z"
      },
      {
        "duration": 71,
        "start_time": "2024-08-20T14:42:38.288Z"
      },
      {
        "duration": 43,
        "start_time": "2024-08-20T14:42:51.602Z"
      },
      {
        "duration": 11,
        "start_time": "2024-08-20T14:43:40.363Z"
      },
      {
        "duration": 1634,
        "start_time": "2024-08-20T14:44:07.559Z"
      },
      {
        "duration": 5,
        "start_time": "2024-08-20T14:44:13.961Z"
      },
      {
        "duration": 11,
        "start_time": "2024-08-20T14:44:18.996Z"
      },
      {
        "duration": 8,
        "start_time": "2024-08-20T14:44:38.704Z"
      },
      {
        "duration": 4,
        "start_time": "2024-08-20T14:44:44.559Z"
      },
      {
        "duration": 11,
        "start_time": "2024-08-20T14:44:46.941Z"
      },
      {
        "duration": 10,
        "start_time": "2024-08-20T14:45:34.000Z"
      },
      {
        "duration": 6,
        "start_time": "2024-08-20T14:45:44.307Z"
      },
      {
        "duration": 7,
        "start_time": "2024-08-20T14:47:53.207Z"
      },
      {
        "duration": 1211,
        "start_time": "2024-08-20T14:50:43.189Z"
      },
      {
        "duration": 48,
        "start_time": "2024-08-20T14:50:44.402Z"
      },
      {
        "duration": 58,
        "start_time": "2024-08-20T14:50:44.452Z"
      },
      {
        "duration": 29,
        "start_time": "2024-08-20T14:50:44.512Z"
      },
      {
        "duration": 91,
        "start_time": "2024-08-20T14:50:44.543Z"
      },
      {
        "duration": 0,
        "start_time": "2024-08-20T14:50:44.635Z"
      },
      {
        "duration": 0,
        "start_time": "2024-08-20T14:50:44.637Z"
      },
      {
        "duration": 0,
        "start_time": "2024-08-20T14:50:44.638Z"
      },
      {
        "duration": 0,
        "start_time": "2024-08-20T14:50:44.639Z"
      },
      {
        "duration": 0,
        "start_time": "2024-08-20T14:50:44.639Z"
      },
      {
        "duration": 0,
        "start_time": "2024-08-20T14:50:44.640Z"
      },
      {
        "duration": 3,
        "start_time": "2024-08-20T14:50:50.860Z"
      },
      {
        "duration": 4,
        "start_time": "2024-08-20T14:50:53.429Z"
      },
      {
        "duration": 6,
        "start_time": "2024-08-20T14:50:54.893Z"
      },
      {
        "duration": 4,
        "start_time": "2024-08-20T14:50:57.512Z"
      },
      {
        "duration": 6,
        "start_time": "2024-08-20T14:50:57.930Z"
      },
      {
        "duration": 8,
        "start_time": "2024-08-20T14:50:59.402Z"
      },
      {
        "duration": 44,
        "start_time": "2024-08-20T14:51:01.001Z"
      },
      {
        "duration": 5,
        "start_time": "2024-08-20T14:51:03.715Z"
      },
      {
        "duration": 4,
        "start_time": "2024-08-20T14:51:35.024Z"
      },
      {
        "duration": 6,
        "start_time": "2024-08-20T14:51:37.590Z"
      },
      {
        "duration": 1351,
        "start_time": "2024-08-20T14:51:46.455Z"
      },
      {
        "duration": 48,
        "start_time": "2024-08-20T14:51:47.808Z"
      },
      {
        "duration": 59,
        "start_time": "2024-08-20T14:51:47.857Z"
      },
      {
        "duration": 29,
        "start_time": "2024-08-20T14:51:47.917Z"
      },
      {
        "duration": 4,
        "start_time": "2024-08-20T14:51:47.948Z"
      },
      {
        "duration": 6,
        "start_time": "2024-08-20T14:51:47.953Z"
      },
      {
        "duration": 6,
        "start_time": "2024-08-20T14:51:47.960Z"
      },
      {
        "duration": 10,
        "start_time": "2024-08-20T14:51:47.967Z"
      },
      {
        "duration": 6,
        "start_time": "2024-08-20T14:51:47.978Z"
      },
      {
        "duration": 13,
        "start_time": "2024-08-20T14:51:47.986Z"
      },
      {
        "duration": 101,
        "start_time": "2024-08-20T14:51:48.000Z"
      },
      {
        "duration": 0,
        "start_time": "2024-08-20T14:51:48.103Z"
      },
      {
        "duration": 4,
        "start_time": "2024-08-20T14:52:00.790Z"
      },
      {
        "duration": 5,
        "start_time": "2024-08-20T14:52:26.287Z"
      },
      {
        "duration": 11,
        "start_time": "2024-08-20T14:53:03.229Z"
      },
      {
        "duration": 5,
        "start_time": "2024-08-20T14:53:44.227Z"
      },
      {
        "duration": 4,
        "start_time": "2024-08-20T14:53:49.813Z"
      },
      {
        "duration": 4,
        "start_time": "2024-08-20T14:53:51.220Z"
      },
      {
        "duration": 3,
        "start_time": "2024-08-20T14:54:04.759Z"
      },
      {
        "duration": 9,
        "start_time": "2024-08-20T14:54:07.277Z"
      },
      {
        "duration": 3,
        "start_time": "2024-08-20T14:54:25.393Z"
      },
      {
        "duration": 8,
        "start_time": "2024-08-20T14:54:26.881Z"
      },
      {
        "duration": 3,
        "start_time": "2024-08-20T14:54:35.251Z"
      },
      {
        "duration": 9,
        "start_time": "2024-08-20T14:54:36.475Z"
      },
      {
        "duration": 10,
        "start_time": "2024-08-20T14:55:48.715Z"
      },
      {
        "duration": 7,
        "start_time": "2024-08-20T14:55:53.208Z"
      },
      {
        "duration": 7,
        "start_time": "2024-08-20T14:55:56.293Z"
      },
      {
        "duration": 8,
        "start_time": "2024-08-20T14:55:59.777Z"
      },
      {
        "duration": 5,
        "start_time": "2024-08-20T14:58:34.458Z"
      },
      {
        "duration": 25,
        "start_time": "2024-08-20T14:58:37.063Z"
      },
      {
        "duration": 171,
        "start_time": "2024-08-20T14:59:13.688Z"
      },
      {
        "duration": 111,
        "start_time": "2024-08-20T14:59:22.492Z"
      },
      {
        "duration": 24,
        "start_time": "2024-08-20T14:59:28.883Z"
      },
      {
        "duration": 264,
        "start_time": "2024-08-20T15:00:00.506Z"
      },
      {
        "duration": 307,
        "start_time": "2024-08-20T15:00:05.317Z"
      },
      {
        "duration": 246,
        "start_time": "2024-08-20T15:00:10.657Z"
      },
      {
        "duration": 3,
        "start_time": "2024-08-20T15:00:59.336Z"
      },
      {
        "duration": 199,
        "start_time": "2024-08-20T15:01:01.805Z"
      },
      {
        "duration": 220,
        "start_time": "2024-08-20T15:01:32.291Z"
      },
      {
        "duration": 314,
        "start_time": "2024-08-20T15:01:42.685Z"
      },
      {
        "duration": 219,
        "start_time": "2024-08-20T15:02:00.306Z"
      },
      {
        "duration": 196,
        "start_time": "2024-08-20T15:02:22.930Z"
      },
      {
        "duration": 285,
        "start_time": "2024-08-20T15:03:00.752Z"
      },
      {
        "duration": 10,
        "start_time": "2024-08-20T15:04:07.728Z"
      },
      {
        "duration": 200,
        "start_time": "2024-08-20T15:05:23.276Z"
      },
      {
        "duration": 203,
        "start_time": "2024-08-20T15:05:56.356Z"
      },
      {
        "duration": 200,
        "start_time": "2024-08-20T15:06:01.282Z"
      },
      {
        "duration": 305,
        "start_time": "2024-08-20T15:07:10.350Z"
      },
      {
        "duration": 315,
        "start_time": "2024-08-20T15:07:17.100Z"
      },
      {
        "duration": 332,
        "start_time": "2024-08-20T15:08:17.888Z"
      },
      {
        "duration": 975,
        "start_time": "2024-08-20T15:09:51.202Z"
      },
      {
        "duration": 253,
        "start_time": "2024-08-20T15:10:01.836Z"
      },
      {
        "duration": 254,
        "start_time": "2024-08-20T15:10:08.128Z"
      },
      {
        "duration": 282,
        "start_time": "2024-08-20T15:10:35.756Z"
      },
      {
        "duration": 169,
        "start_time": "2024-08-20T15:11:09.516Z"
      },
      {
        "duration": 297,
        "start_time": "2024-08-20T15:11:17.024Z"
      },
      {
        "duration": 192,
        "start_time": "2024-08-20T15:11:50.445Z"
      },
      {
        "duration": 193,
        "start_time": "2024-08-20T15:12:02.928Z"
      },
      {
        "duration": 317,
        "start_time": "2024-08-20T15:12:17.220Z"
      },
      {
        "duration": 138,
        "start_time": "2024-08-20T15:13:23.200Z"
      },
      {
        "duration": 10,
        "start_time": "2024-08-20T15:14:16.945Z"
      },
      {
        "duration": 6,
        "start_time": "2024-08-20T15:14:40.503Z"
      },
      {
        "duration": 121,
        "start_time": "2024-08-20T15:14:57.899Z"
      },
      {
        "duration": 5,
        "start_time": "2024-08-20T15:15:38.665Z"
      },
      {
        "duration": 129,
        "start_time": "2024-08-20T15:16:23.161Z"
      },
      {
        "duration": 4,
        "start_time": "2024-08-20T15:17:34.020Z"
      },
      {
        "duration": 14,
        "start_time": "2024-08-20T15:18:48.129Z"
      },
      {
        "duration": 138,
        "start_time": "2024-08-20T15:19:03.235Z"
      },
      {
        "duration": 10,
        "start_time": "2024-08-20T15:19:12.659Z"
      },
      {
        "duration": 521,
        "start_time": "2024-08-20T15:20:19.641Z"
      },
      {
        "duration": 3,
        "start_time": "2024-08-20T15:20:47.987Z"
      },
      {
        "duration": 693,
        "start_time": "2024-08-20T15:20:51.009Z"
      },
      {
        "duration": 95,
        "start_time": "2024-08-20T15:21:10.982Z"
      },
      {
        "duration": 97,
        "start_time": "2024-08-20T15:21:40.752Z"
      },
      {
        "duration": 190,
        "start_time": "2024-08-20T15:21:53.426Z"
      },
      {
        "duration": 6,
        "start_time": "2024-08-20T15:22:15.923Z"
      },
      {
        "duration": 14,
        "start_time": "2024-08-20T15:22:30.110Z"
      },
      {
        "duration": 70,
        "start_time": "2024-08-20T15:22:50.342Z"
      },
      {
        "duration": 76,
        "start_time": "2024-08-20T15:22:57.254Z"
      },
      {
        "duration": 138,
        "start_time": "2024-08-20T15:23:09.606Z"
      },
      {
        "duration": 10,
        "start_time": "2024-08-20T15:24:28.032Z"
      },
      {
        "duration": 2060,
        "start_time": "2024-08-20T15:24:55.784Z"
      },
      {
        "duration": 10,
        "start_time": "2024-08-20T15:25:08.368Z"
      },
      {
        "duration": 2056,
        "start_time": "2024-08-20T15:25:17.800Z"
      },
      {
        "duration": 2033,
        "start_time": "2024-08-20T15:25:29.270Z"
      },
      {
        "duration": 1844,
        "start_time": "2024-08-20T15:25:46.903Z"
      },
      {
        "duration": 8,
        "start_time": "2024-08-20T15:25:59.844Z"
      },
      {
        "duration": 1760,
        "start_time": "2024-08-20T15:26:06.795Z"
      },
      {
        "duration": 10,
        "start_time": "2024-08-20T15:26:15.457Z"
      },
      {
        "duration": 9,
        "start_time": "2024-08-20T15:26:22.325Z"
      },
      {
        "duration": 2042,
        "start_time": "2024-08-20T15:26:27.727Z"
      },
      {
        "duration": 8,
        "start_time": "2024-08-20T15:26:37.157Z"
      },
      {
        "duration": 23,
        "start_time": "2024-08-20T15:26:48.471Z"
      },
      {
        "duration": 589,
        "start_time": "2024-08-20T15:27:16.767Z"
      },
      {
        "duration": 2113,
        "start_time": "2024-08-20T15:27:27.884Z"
      },
      {
        "duration": 12,
        "start_time": "2024-08-20T15:27:47.722Z"
      },
      {
        "duration": 215,
        "start_time": "2024-08-20T15:37:07.004Z"
      },
      {
        "duration": 186,
        "start_time": "2024-08-20T15:37:15.568Z"
      },
      {
        "duration": 4,
        "start_time": "2024-08-20T15:38:03.840Z"
      },
      {
        "duration": 250,
        "start_time": "2024-08-20T15:47:44.321Z"
      },
      {
        "duration": 5,
        "start_time": "2024-08-20T15:48:20.874Z"
      },
      {
        "duration": 5,
        "start_time": "2024-08-20T15:48:38.472Z"
      },
      {
        "duration": 147,
        "start_time": "2024-08-20T15:49:18.117Z"
      },
      {
        "duration": 144,
        "start_time": "2024-08-20T15:49:57.291Z"
      },
      {
        "duration": 10,
        "start_time": "2024-08-20T15:50:13.056Z"
      },
      {
        "duration": 144,
        "start_time": "2024-08-20T15:52:29.202Z"
      },
      {
        "duration": 104,
        "start_time": "2024-08-20T15:52:48.020Z"
      },
      {
        "duration": 13,
        "start_time": "2024-08-20T15:52:54.228Z"
      },
      {
        "duration": 195,
        "start_time": "2024-08-20T15:55:04.816Z"
      },
      {
        "duration": 187,
        "start_time": "2024-08-20T15:59:23.591Z"
      },
      {
        "duration": 190,
        "start_time": "2024-08-20T16:00:14.895Z"
      },
      {
        "duration": 434,
        "start_time": "2024-08-20T16:01:01.084Z"
      },
      {
        "duration": 321,
        "start_time": "2024-08-20T16:01:14.975Z"
      },
      {
        "duration": 297,
        "start_time": "2024-08-20T16:01:43.633Z"
      },
      {
        "duration": 220,
        "start_time": "2024-08-20T16:02:28.849Z"
      },
      {
        "duration": 286,
        "start_time": "2024-08-20T16:04:03.820Z"
      },
      {
        "duration": 282,
        "start_time": "2024-08-20T16:04:10.356Z"
      },
      {
        "duration": 294,
        "start_time": "2024-08-20T16:04:16.514Z"
      },
      {
        "duration": 268,
        "start_time": "2024-08-20T16:04:22.737Z"
      },
      {
        "duration": 293,
        "start_time": "2024-08-20T16:04:26.112Z"
      },
      {
        "duration": 342,
        "start_time": "2024-08-20T16:05:07.176Z"
      },
      {
        "duration": 136,
        "start_time": "2024-08-20T16:07:03.962Z"
      },
      {
        "duration": 146,
        "start_time": "2024-08-20T16:08:13.821Z"
      },
      {
        "duration": 149,
        "start_time": "2024-08-20T16:08:52.697Z"
      },
      {
        "duration": 5,
        "start_time": "2024-08-20T16:09:04.322Z"
      },
      {
        "duration": 5,
        "start_time": "2024-08-20T16:09:27.362Z"
      },
      {
        "duration": 9,
        "start_time": "2024-08-20T16:10:40.134Z"
      },
      {
        "duration": 59,
        "start_time": "2024-08-20T16:10:55.735Z"
      },
      {
        "duration": 67,
        "start_time": "2024-08-20T16:10:59.885Z"
      },
      {
        "duration": 1163,
        "start_time": "2024-08-20T16:14:29.710Z"
      },
      {
        "duration": 49,
        "start_time": "2024-08-20T16:14:30.875Z"
      },
      {
        "duration": 58,
        "start_time": "2024-08-20T16:14:30.926Z"
      },
      {
        "duration": 29,
        "start_time": "2024-08-20T16:14:30.986Z"
      },
      {
        "duration": 3,
        "start_time": "2024-08-20T16:14:31.017Z"
      },
      {
        "duration": 14,
        "start_time": "2024-08-20T16:14:31.021Z"
      },
      {
        "duration": 27,
        "start_time": "2024-08-20T16:14:31.036Z"
      },
      {
        "duration": 20,
        "start_time": "2024-08-20T16:14:31.065Z"
      },
      {
        "duration": 6,
        "start_time": "2024-08-20T16:14:31.086Z"
      },
      {
        "duration": 7,
        "start_time": "2024-08-20T16:14:31.094Z"
      },
      {
        "duration": 4,
        "start_time": "2024-08-20T16:14:31.102Z"
      },
      {
        "duration": 6,
        "start_time": "2024-08-20T16:14:31.108Z"
      },
      {
        "duration": 3,
        "start_time": "2024-08-20T16:14:31.116Z"
      },
      {
        "duration": 3,
        "start_time": "2024-08-20T16:14:31.122Z"
      },
      {
        "duration": 13,
        "start_time": "2024-08-20T16:14:31.126Z"
      },
      {
        "duration": 22,
        "start_time": "2024-08-20T16:14:31.140Z"
      },
      {
        "duration": 165,
        "start_time": "2024-08-20T16:14:31.164Z"
      },
      {
        "duration": 116,
        "start_time": "2024-08-20T16:14:31.331Z"
      },
      {
        "duration": 11,
        "start_time": "2024-08-20T16:14:31.449Z"
      },
      {
        "duration": 287,
        "start_time": "2024-08-20T16:14:31.462Z"
      },
      {
        "duration": 199,
        "start_time": "2024-08-20T16:14:31.751Z"
      },
      {
        "duration": 2215,
        "start_time": "2024-08-20T16:14:31.952Z"
      },
      {
        "duration": 0,
        "start_time": "2024-08-20T16:14:34.169Z"
      },
      {
        "duration": 0,
        "start_time": "2024-08-20T16:14:34.170Z"
      },
      {
        "duration": 0,
        "start_time": "2024-08-20T16:14:34.171Z"
      },
      {
        "duration": 0,
        "start_time": "2024-08-20T16:14:34.172Z"
      },
      {
        "duration": 0,
        "start_time": "2024-08-20T16:14:34.173Z"
      },
      {
        "duration": 0,
        "start_time": "2024-08-20T16:14:34.174Z"
      },
      {
        "duration": 0,
        "start_time": "2024-08-20T16:14:34.175Z"
      },
      {
        "duration": 0,
        "start_time": "2024-08-20T16:14:34.176Z"
      },
      {
        "duration": 0,
        "start_time": "2024-08-20T16:14:34.177Z"
      },
      {
        "duration": 0,
        "start_time": "2024-08-20T16:14:34.178Z"
      },
      {
        "duration": 0,
        "start_time": "2024-08-20T16:14:34.179Z"
      },
      {
        "duration": 0,
        "start_time": "2024-08-20T16:14:34.180Z"
      },
      {
        "duration": 0,
        "start_time": "2024-08-20T16:14:34.181Z"
      },
      {
        "duration": 0,
        "start_time": "2024-08-20T16:14:34.183Z"
      },
      {
        "duration": 0,
        "start_time": "2024-08-20T16:14:34.185Z"
      },
      {
        "duration": 0,
        "start_time": "2024-08-20T16:14:34.185Z"
      },
      {
        "duration": 0,
        "start_time": "2024-08-20T16:14:34.186Z"
      },
      {
        "duration": 9,
        "start_time": "2024-08-20T16:14:56.290Z"
      },
      {
        "duration": 297,
        "start_time": "2024-08-20T16:15:11.906Z"
      },
      {
        "duration": 212,
        "start_time": "2024-08-20T16:15:23.768Z"
      },
      {
        "duration": 341,
        "start_time": "2024-08-20T16:15:25.672Z"
      },
      {
        "duration": 7,
        "start_time": "2024-08-20T16:15:27.102Z"
      },
      {
        "duration": 131,
        "start_time": "2024-08-20T16:15:27.953Z"
      },
      {
        "duration": 5,
        "start_time": "2024-08-20T16:15:29.801Z"
      },
      {
        "duration": 155,
        "start_time": "2024-08-20T16:15:30.610Z"
      },
      {
        "duration": 4,
        "start_time": "2024-08-20T16:15:33.401Z"
      },
      {
        "duration": 59,
        "start_time": "2024-08-20T16:15:34.477Z"
      },
      {
        "duration": 79,
        "start_time": "2024-08-20T16:15:35.343Z"
      },
      {
        "duration": 285,
        "start_time": "2024-08-20T16:15:36.292Z"
      },
      {
        "duration": 6,
        "start_time": "2024-08-20T16:15:38.234Z"
      },
      {
        "duration": 136,
        "start_time": "2024-08-20T16:15:38.854Z"
      },
      {
        "duration": 10,
        "start_time": "2024-08-20T16:15:39.979Z"
      },
      {
        "duration": 9,
        "start_time": "2024-08-20T16:15:40.804Z"
      },
      {
        "duration": 8,
        "start_time": "2024-08-20T16:15:41.781Z"
      },
      {
        "duration": 7,
        "start_time": "2024-08-20T16:15:50.322Z"
      },
      {
        "duration": 23,
        "start_time": "2024-08-20T16:15:51.263Z"
      },
      {
        "duration": 13,
        "start_time": "2024-08-20T16:15:52.391Z"
      },
      {
        "duration": 9,
        "start_time": "2024-08-20T16:18:46.961Z"
      },
      {
        "duration": 43,
        "start_time": "2024-08-20T16:19:22.064Z"
      },
      {
        "duration": 42,
        "start_time": "2024-08-20T16:19:31.828Z"
      },
      {
        "duration": 42,
        "start_time": "2024-08-20T16:19:33.125Z"
      },
      {
        "duration": 7,
        "start_time": "2024-08-20T16:19:48.881Z"
      },
      {
        "duration": 9,
        "start_time": "2024-08-20T16:20:20.821Z"
      },
      {
        "duration": 52,
        "start_time": "2024-08-20T16:20:54.257Z"
      },
      {
        "duration": 9,
        "start_time": "2024-08-20T16:20:56.063Z"
      },
      {
        "duration": 10,
        "start_time": "2024-08-20T16:21:28.381Z"
      },
      {
        "duration": 1199,
        "start_time": "2024-08-20T16:25:33.390Z"
      },
      {
        "duration": 46,
        "start_time": "2024-08-20T16:25:34.591Z"
      },
      {
        "duration": 56,
        "start_time": "2024-08-20T16:25:34.639Z"
      },
      {
        "duration": 28,
        "start_time": "2024-08-20T16:25:34.697Z"
      },
      {
        "duration": 3,
        "start_time": "2024-08-20T16:25:34.727Z"
      },
      {
        "duration": 12,
        "start_time": "2024-08-20T16:25:34.732Z"
      },
      {
        "duration": 70,
        "start_time": "2024-08-20T16:25:34.745Z"
      },
      {
        "duration": 56,
        "start_time": "2024-08-20T16:25:34.817Z"
      },
      {
        "duration": 25,
        "start_time": "2024-08-20T16:25:34.874Z"
      },
      {
        "duration": 12,
        "start_time": "2024-08-20T16:25:34.900Z"
      },
      {
        "duration": 8,
        "start_time": "2024-08-20T16:25:34.913Z"
      },
      {
        "duration": 14,
        "start_time": "2024-08-20T16:25:34.922Z"
      },
      {
        "duration": 6,
        "start_time": "2024-08-20T16:25:34.938Z"
      },
      {
        "duration": 6,
        "start_time": "2024-08-20T16:25:34.947Z"
      },
      {
        "duration": 20,
        "start_time": "2024-08-20T16:25:34.954Z"
      },
      {
        "duration": 13,
        "start_time": "2024-08-20T16:25:34.975Z"
      },
      {
        "duration": 156,
        "start_time": "2024-08-20T16:25:34.989Z"
      },
      {
        "duration": 111,
        "start_time": "2024-08-20T16:25:35.147Z"
      },
      {
        "duration": 12,
        "start_time": "2024-08-20T16:25:35.259Z"
      },
      {
        "duration": 352,
        "start_time": "2024-08-20T16:25:35.273Z"
      },
      {
        "duration": 217,
        "start_time": "2024-08-20T16:25:35.627Z"
      },
      {
        "duration": 101,
        "start_time": "2024-08-20T16:25:35.846Z"
      },
      {
        "duration": 0,
        "start_time": "2024-08-20T16:25:35.949Z"
      },
      {
        "duration": 0,
        "start_time": "2024-08-20T16:25:35.951Z"
      },
      {
        "duration": 0,
        "start_time": "2024-08-20T16:25:35.952Z"
      },
      {
        "duration": 0,
        "start_time": "2024-08-20T16:25:35.954Z"
      },
      {
        "duration": 0,
        "start_time": "2024-08-20T16:25:35.955Z"
      },
      {
        "duration": 0,
        "start_time": "2024-08-20T16:25:35.956Z"
      },
      {
        "duration": 0,
        "start_time": "2024-08-20T16:25:35.957Z"
      },
      {
        "duration": 0,
        "start_time": "2024-08-20T16:25:35.959Z"
      },
      {
        "duration": 0,
        "start_time": "2024-08-20T16:25:35.960Z"
      },
      {
        "duration": 0,
        "start_time": "2024-08-20T16:25:35.961Z"
      },
      {
        "duration": 0,
        "start_time": "2024-08-20T16:25:35.963Z"
      },
      {
        "duration": 0,
        "start_time": "2024-08-20T16:25:35.964Z"
      },
      {
        "duration": 0,
        "start_time": "2024-08-20T16:25:35.965Z"
      },
      {
        "duration": 0,
        "start_time": "2024-08-20T16:25:35.966Z"
      },
      {
        "duration": 0,
        "start_time": "2024-08-20T16:25:35.996Z"
      },
      {
        "duration": 0,
        "start_time": "2024-08-20T16:25:35.998Z"
      },
      {
        "duration": 0,
        "start_time": "2024-08-20T16:25:35.999Z"
      },
      {
        "duration": 0,
        "start_time": "2024-08-20T16:25:36.000Z"
      },
      {
        "duration": 0,
        "start_time": "2024-08-20T16:25:36.002Z"
      },
      {
        "duration": 0,
        "start_time": "2024-08-20T16:25:36.003Z"
      },
      {
        "duration": 0,
        "start_time": "2024-08-20T16:25:36.005Z"
      },
      {
        "duration": 0,
        "start_time": "2024-08-20T16:25:36.007Z"
      },
      {
        "duration": 0,
        "start_time": "2024-08-20T16:25:36.008Z"
      },
      {
        "duration": 309,
        "start_time": "2024-08-20T16:25:56.674Z"
      },
      {
        "duration": 214,
        "start_time": "2024-08-20T16:25:59.912Z"
      },
      {
        "duration": 2286,
        "start_time": "2024-08-20T16:26:00.783Z"
      },
      {
        "duration": 0,
        "start_time": "2024-08-20T16:26:03.070Z"
      },
      {
        "duration": 0,
        "start_time": "2024-08-20T16:26:03.072Z"
      },
      {
        "duration": 0,
        "start_time": "2024-08-20T16:26:03.072Z"
      },
      {
        "duration": 355,
        "start_time": "2024-08-20T16:26:15.781Z"
      },
      {
        "duration": 6,
        "start_time": "2024-08-20T16:26:18.370Z"
      },
      {
        "duration": 137,
        "start_time": "2024-08-20T16:26:18.832Z"
      },
      {
        "duration": 4,
        "start_time": "2024-08-20T16:26:19.682Z"
      },
      {
        "duration": 146,
        "start_time": "2024-08-20T16:26:20.019Z"
      },
      {
        "duration": 5,
        "start_time": "2024-08-20T16:26:20.728Z"
      },
      {
        "duration": 60,
        "start_time": "2024-08-20T16:26:21.012Z"
      },
      {
        "duration": 67,
        "start_time": "2024-08-20T16:26:21.146Z"
      },
      {
        "duration": 118,
        "start_time": "2024-08-20T16:26:21.295Z"
      },
      {
        "duration": 43,
        "start_time": "2024-08-20T16:26:21.426Z"
      },
      {
        "duration": 53,
        "start_time": "2024-08-20T16:26:21.572Z"
      },
      {
        "duration": 50,
        "start_time": "2024-08-20T16:26:21.707Z"
      },
      {
        "duration": 8,
        "start_time": "2024-08-20T16:26:22.253Z"
      },
      {
        "duration": 21,
        "start_time": "2024-08-20T16:26:22.405Z"
      },
      {
        "duration": 6,
        "start_time": "2024-08-20T16:26:22.551Z"
      },
      {
        "duration": 143,
        "start_time": "2024-08-20T16:26:22.699Z"
      },
      {
        "duration": 10,
        "start_time": "2024-08-20T16:26:22.984Z"
      },
      {
        "duration": 8,
        "start_time": "2024-08-20T16:26:23.266Z"
      },
      {
        "duration": 7,
        "start_time": "2024-08-20T16:26:23.427Z"
      },
      {
        "duration": 22,
        "start_time": "2024-08-20T16:26:23.573Z"
      },
      {
        "duration": 12,
        "start_time": "2024-08-20T16:26:23.857Z"
      },
      {
        "duration": 1228,
        "start_time": "2024-08-20T16:35:32.569Z"
      },
      {
        "duration": 48,
        "start_time": "2024-08-20T16:35:33.799Z"
      },
      {
        "duration": 104,
        "start_time": "2024-08-20T16:35:33.848Z"
      },
      {
        "duration": 29,
        "start_time": "2024-08-20T16:35:33.953Z"
      },
      {
        "duration": 3,
        "start_time": "2024-08-20T16:35:33.985Z"
      },
      {
        "duration": 14,
        "start_time": "2024-08-20T16:35:33.990Z"
      },
      {
        "duration": 10,
        "start_time": "2024-08-20T16:35:34.005Z"
      },
      {
        "duration": 16,
        "start_time": "2024-08-20T16:35:34.016Z"
      },
      {
        "duration": 8,
        "start_time": "2024-08-20T16:35:34.033Z"
      },
      {
        "duration": 13,
        "start_time": "2024-08-20T16:35:34.043Z"
      },
      {
        "duration": 12,
        "start_time": "2024-08-20T16:35:34.057Z"
      },
      {
        "duration": 7,
        "start_time": "2024-08-20T16:35:34.070Z"
      },
      {
        "duration": 6,
        "start_time": "2024-08-20T16:35:34.078Z"
      },
      {
        "duration": 4,
        "start_time": "2024-08-20T16:35:34.087Z"
      },
      {
        "duration": 11,
        "start_time": "2024-08-20T16:35:34.092Z"
      },
      {
        "duration": 10,
        "start_time": "2024-08-20T16:35:34.104Z"
      },
      {
        "duration": 153,
        "start_time": "2024-08-20T16:35:34.115Z"
      },
      {
        "duration": 116,
        "start_time": "2024-08-20T16:35:34.269Z"
      },
      {
        "duration": 20,
        "start_time": "2024-08-20T16:35:34.386Z"
      },
      {
        "duration": 276,
        "start_time": "2024-08-20T16:35:34.407Z"
      },
      {
        "duration": 202,
        "start_time": "2024-08-20T16:35:34.684Z"
      },
      {
        "duration": 312,
        "start_time": "2024-08-20T16:35:34.895Z"
      },
      {
        "duration": 238,
        "start_time": "2024-08-20T16:35:35.208Z"
      },
      {
        "duration": 398,
        "start_time": "2024-08-20T16:35:35.447Z"
      },
      {
        "duration": 7,
        "start_time": "2024-08-20T16:35:35.847Z"
      },
      {
        "duration": 198,
        "start_time": "2024-08-20T16:35:35.855Z"
      },
      {
        "duration": 5,
        "start_time": "2024-08-20T16:35:36.055Z"
      },
      {
        "duration": 184,
        "start_time": "2024-08-20T16:35:36.061Z"
      },
      {
        "duration": 4,
        "start_time": "2024-08-20T16:35:36.246Z"
      },
      {
        "duration": 79,
        "start_time": "2024-08-20T16:35:36.252Z"
      },
      {
        "duration": 92,
        "start_time": "2024-08-20T16:35:36.333Z"
      },
      {
        "duration": 127,
        "start_time": "2024-08-20T16:35:36.427Z"
      },
      {
        "duration": 73,
        "start_time": "2024-08-20T16:35:36.556Z"
      },
      {
        "duration": 66,
        "start_time": "2024-08-20T16:35:36.630Z"
      },
      {
        "duration": 57,
        "start_time": "2024-08-20T16:35:36.697Z"
      },
      {
        "duration": 108,
        "start_time": "2024-08-20T16:35:36.755Z"
      },
      {
        "duration": 0,
        "start_time": "2024-08-20T16:35:36.864Z"
      },
      {
        "duration": 0,
        "start_time": "2024-08-20T16:35:36.865Z"
      },
      {
        "duration": 0,
        "start_time": "2024-08-20T16:35:36.866Z"
      },
      {
        "duration": 0,
        "start_time": "2024-08-20T16:35:36.867Z"
      },
      {
        "duration": 0,
        "start_time": "2024-08-20T16:35:36.868Z"
      },
      {
        "duration": 0,
        "start_time": "2024-08-20T16:35:36.870Z"
      },
      {
        "duration": 0,
        "start_time": "2024-08-20T16:35:36.871Z"
      },
      {
        "duration": 0,
        "start_time": "2024-08-20T16:35:36.871Z"
      },
      {
        "duration": 23,
        "start_time": "2024-08-20T16:35:51.575Z"
      },
      {
        "duration": 6,
        "start_time": "2024-08-20T16:35:52.326Z"
      },
      {
        "duration": 137,
        "start_time": "2024-08-20T16:35:53.197Z"
      },
      {
        "duration": 9,
        "start_time": "2024-08-20T16:35:54.117Z"
      },
      {
        "duration": 9,
        "start_time": "2024-08-20T16:35:54.408Z"
      },
      {
        "duration": 8,
        "start_time": "2024-08-20T16:35:54.553Z"
      },
      {
        "duration": 23,
        "start_time": "2024-08-20T16:35:54.688Z"
      },
      {
        "duration": 12,
        "start_time": "2024-08-20T16:35:54.957Z"
      },
      {
        "duration": 24,
        "start_time": "2024-08-20T16:53:19.268Z"
      },
      {
        "duration": 6,
        "start_time": "2024-08-20T16:56:08.956Z"
      },
      {
        "duration": 6,
        "start_time": "2024-08-20T16:56:39.539Z"
      },
      {
        "duration": 144,
        "start_time": "2024-08-20T16:56:41.567Z"
      },
      {
        "duration": 4,
        "start_time": "2024-08-20T16:56:57.536Z"
      },
      {
        "duration": 4,
        "start_time": "2024-08-20T16:57:38.640Z"
      },
      {
        "duration": 27,
        "start_time": "2024-08-20T16:58:33.471Z"
      },
      {
        "duration": 1318,
        "start_time": "2024-08-20T16:58:44.765Z"
      },
      {
        "duration": 50,
        "start_time": "2024-08-20T16:58:46.085Z"
      },
      {
        "duration": 61,
        "start_time": "2024-08-20T16:58:46.137Z"
      },
      {
        "duration": 29,
        "start_time": "2024-08-20T16:58:46.200Z"
      },
      {
        "duration": 3,
        "start_time": "2024-08-20T16:58:46.231Z"
      },
      {
        "duration": 5,
        "start_time": "2024-08-20T16:58:46.236Z"
      },
      {
        "duration": 32,
        "start_time": "2024-08-20T16:58:46.242Z"
      },
      {
        "duration": 6,
        "start_time": "2024-08-20T16:58:46.275Z"
      },
      {
        "duration": 9,
        "start_time": "2024-08-20T16:58:46.282Z"
      },
      {
        "duration": 13,
        "start_time": "2024-08-20T16:58:46.293Z"
      },
      {
        "duration": 21,
        "start_time": "2024-08-20T16:58:46.307Z"
      },
      {
        "duration": 6,
        "start_time": "2024-08-20T16:58:46.330Z"
      },
      {
        "duration": 4,
        "start_time": "2024-08-20T16:58:46.337Z"
      },
      {
        "duration": 4,
        "start_time": "2024-08-20T16:58:46.344Z"
      },
      {
        "duration": 21,
        "start_time": "2024-08-20T16:58:46.350Z"
      },
      {
        "duration": 6,
        "start_time": "2024-08-20T16:58:46.373Z"
      },
      {
        "duration": 191,
        "start_time": "2024-08-20T16:58:46.380Z"
      },
      {
        "duration": 125,
        "start_time": "2024-08-20T16:58:46.573Z"
      },
      {
        "duration": 38,
        "start_time": "2024-08-20T16:58:46.700Z"
      },
      {
        "duration": 299,
        "start_time": "2024-08-20T16:58:46.739Z"
      },
      {
        "duration": 213,
        "start_time": "2024-08-20T16:58:47.040Z"
      },
      {
        "duration": 298,
        "start_time": "2024-08-20T16:58:47.254Z"
      },
      {
        "duration": 235,
        "start_time": "2024-08-20T16:58:47.553Z"
      },
      {
        "duration": 351,
        "start_time": "2024-08-20T16:58:47.789Z"
      },
      {
        "duration": 6,
        "start_time": "2024-08-20T16:58:48.141Z"
      },
      {
        "duration": 158,
        "start_time": "2024-08-20T16:58:48.149Z"
      },
      {
        "duration": 4,
        "start_time": "2024-08-20T16:58:48.309Z"
      },
      {
        "duration": 171,
        "start_time": "2024-08-20T16:58:48.315Z"
      },
      {
        "duration": 10,
        "start_time": "2024-08-20T16:58:48.488Z"
      },
      {
        "duration": 66,
        "start_time": "2024-08-20T16:58:48.500Z"
      },
      {
        "duration": 79,
        "start_time": "2024-08-20T16:58:48.568Z"
      },
      {
        "duration": 126,
        "start_time": "2024-08-20T16:58:48.649Z"
      },
      {
        "duration": 55,
        "start_time": "2024-08-20T16:58:48.777Z"
      },
      {
        "duration": 68,
        "start_time": "2024-08-20T16:58:48.834Z"
      },
      {
        "duration": 72,
        "start_time": "2024-08-20T16:58:48.904Z"
      },
      {
        "duration": 24,
        "start_time": "2024-08-20T16:58:48.978Z"
      },
      {
        "duration": 95,
        "start_time": "2024-08-20T16:58:49.004Z"
      },
      {
        "duration": 0,
        "start_time": "2024-08-20T16:58:49.100Z"
      },
      {
        "duration": 0,
        "start_time": "2024-08-20T16:58:49.101Z"
      },
      {
        "duration": 0,
        "start_time": "2024-08-20T16:58:49.102Z"
      },
      {
        "duration": 0,
        "start_time": "2024-08-20T16:58:49.103Z"
      },
      {
        "duration": 0,
        "start_time": "2024-08-20T16:58:49.104Z"
      },
      {
        "duration": 0,
        "start_time": "2024-08-20T16:58:49.105Z"
      },
      {
        "duration": 32,
        "start_time": "2024-08-20T16:58:55.305Z"
      },
      {
        "duration": 11,
        "start_time": "2024-08-20T16:58:55.853Z"
      },
      {
        "duration": 9,
        "start_time": "2024-08-20T16:58:56.133Z"
      },
      {
        "duration": 8,
        "start_time": "2024-08-20T16:58:56.805Z"
      },
      {
        "duration": 24,
        "start_time": "2024-08-20T16:58:56.952Z"
      },
      {
        "duration": 13,
        "start_time": "2024-08-20T16:58:58.695Z"
      },
      {
        "duration": 5,
        "start_time": "2024-08-20T16:59:43.677Z"
      },
      {
        "duration": 27,
        "start_time": "2024-08-20T17:00:55.842Z"
      },
      {
        "duration": 29,
        "start_time": "2024-08-20T17:00:59.538Z"
      },
      {
        "duration": 28,
        "start_time": "2024-08-20T17:01:33.608Z"
      },
      {
        "duration": 10,
        "start_time": "2024-08-20T17:01:54.699Z"
      },
      {
        "duration": 11,
        "start_time": "2024-08-20T17:02:56.060Z"
      },
      {
        "duration": 138,
        "start_time": "2024-08-20T17:04:40.275Z"
      },
      {
        "duration": 135,
        "start_time": "2024-08-20T17:04:48.478Z"
      },
      {
        "duration": 138,
        "start_time": "2024-08-20T17:04:57.593Z"
      },
      {
        "duration": 4,
        "start_time": "2024-08-20T17:05:20.926Z"
      },
      {
        "duration": 12,
        "start_time": "2024-08-20T17:05:28.972Z"
      },
      {
        "duration": 130,
        "start_time": "2024-08-20T17:05:36.335Z"
      },
      {
        "duration": 6,
        "start_time": "2024-08-20T17:05:51.477Z"
      },
      {
        "duration": 3,
        "start_time": "2024-08-20T17:06:14.967Z"
      },
      {
        "duration": 131,
        "start_time": "2024-08-20T17:06:21.665Z"
      },
      {
        "duration": 4,
        "start_time": "2024-08-20T17:06:49.733Z"
      },
      {
        "duration": 12,
        "start_time": "2024-08-20T17:06:53.127Z"
      },
      {
        "duration": 131,
        "start_time": "2024-08-20T17:06:58.007Z"
      },
      {
        "duration": 8,
        "start_time": "2024-08-20T17:07:25.141Z"
      },
      {
        "duration": 7,
        "start_time": "2024-08-20T17:07:35.643Z"
      },
      {
        "duration": 8,
        "start_time": "2024-08-20T17:07:45.738Z"
      },
      {
        "duration": 5,
        "start_time": "2024-08-20T17:07:57.436Z"
      },
      {
        "duration": 3,
        "start_time": "2024-08-20T17:08:12.199Z"
      },
      {
        "duration": 2222,
        "start_time": "2024-08-20T17:08:16.922Z"
      },
      {
        "duration": 171,
        "start_time": "2024-08-20T17:08:25.867Z"
      },
      {
        "duration": 149,
        "start_time": "2024-08-20T17:09:03.682Z"
      },
      {
        "duration": 9,
        "start_time": "2024-08-20T17:09:19.596Z"
      },
      {
        "duration": 8,
        "start_time": "2024-08-20T17:09:34.369Z"
      },
      {
        "duration": 23,
        "start_time": "2024-08-20T17:09:37.494Z"
      },
      {
        "duration": 9,
        "start_time": "2024-08-20T17:10:35.428Z"
      },
      {
        "duration": 8,
        "start_time": "2024-08-20T17:10:39.251Z"
      },
      {
        "duration": 24,
        "start_time": "2024-08-20T17:10:40.806Z"
      },
      {
        "duration": 12,
        "start_time": "2024-08-20T17:11:38.516Z"
      },
      {
        "duration": 11,
        "start_time": "2024-08-20T17:13:08.748Z"
      },
      {
        "duration": 14,
        "start_time": "2024-08-20T17:13:37.691Z"
      },
      {
        "duration": 24,
        "start_time": "2024-08-20T17:14:14.832Z"
      },
      {
        "duration": 14,
        "start_time": "2024-08-20T17:14:23.203Z"
      },
      {
        "duration": 32,
        "start_time": "2024-08-20T17:14:50.376Z"
      },
      {
        "duration": 31,
        "start_time": "2024-08-20T17:14:56.020Z"
      },
      {
        "duration": 30,
        "start_time": "2024-08-20T17:15:01.328Z"
      },
      {
        "duration": 25,
        "start_time": "2024-08-20T17:15:04.758Z"
      },
      {
        "duration": 24,
        "start_time": "2024-08-20T17:15:30.602Z"
      },
      {
        "duration": 23,
        "start_time": "2024-08-20T17:15:41.973Z"
      },
      {
        "duration": 26,
        "start_time": "2024-08-20T17:15:45.852Z"
      },
      {
        "duration": 24,
        "start_time": "2024-08-20T17:15:47.974Z"
      },
      {
        "duration": 14,
        "start_time": "2024-08-20T17:15:57.459Z"
      },
      {
        "duration": 12,
        "start_time": "2024-08-20T17:16:24.934Z"
      },
      {
        "duration": 11,
        "start_time": "2024-08-20T17:17:13.101Z"
      },
      {
        "duration": 2315,
        "start_time": "2024-08-20T17:17:59.585Z"
      },
      {
        "duration": 48,
        "start_time": "2024-08-20T17:18:01.902Z"
      },
      {
        "duration": 58,
        "start_time": "2024-08-20T17:18:01.952Z"
      },
      {
        "duration": 121,
        "start_time": "2024-08-20T17:18:02.013Z"
      },
      {
        "duration": 4,
        "start_time": "2024-08-20T17:18:02.136Z"
      },
      {
        "duration": 32,
        "start_time": "2024-08-20T17:18:02.142Z"
      },
      {
        "duration": 30,
        "start_time": "2024-08-20T17:18:02.176Z"
      },
      {
        "duration": 5,
        "start_time": "2024-08-20T17:18:02.208Z"
      },
      {
        "duration": 8,
        "start_time": "2024-08-20T17:18:02.214Z"
      },
      {
        "duration": 8,
        "start_time": "2024-08-20T17:18:02.224Z"
      },
      {
        "duration": 5,
        "start_time": "2024-08-20T17:18:02.234Z"
      },
      {
        "duration": 22,
        "start_time": "2024-08-20T17:18:02.241Z"
      },
      {
        "duration": 22,
        "start_time": "2024-08-20T17:18:02.266Z"
      },
      {
        "duration": 5,
        "start_time": "2024-08-20T17:18:02.290Z"
      },
      {
        "duration": 10,
        "start_time": "2024-08-20T17:18:02.297Z"
      },
      {
        "duration": 9,
        "start_time": "2024-08-20T17:18:02.308Z"
      },
      {
        "duration": 190,
        "start_time": "2024-08-20T17:18:02.318Z"
      },
      {
        "duration": 125,
        "start_time": "2024-08-20T17:18:02.510Z"
      },
      {
        "duration": 12,
        "start_time": "2024-08-20T17:18:02.637Z"
      },
      {
        "duration": 319,
        "start_time": "2024-08-20T17:18:02.651Z"
      },
      {
        "duration": 215,
        "start_time": "2024-08-20T17:18:02.972Z"
      },
      {
        "duration": 329,
        "start_time": "2024-08-20T17:18:03.189Z"
      },
      {
        "duration": 231,
        "start_time": "2024-08-20T17:18:03.520Z"
      },
      {
        "duration": 330,
        "start_time": "2024-08-20T17:18:03.752Z"
      },
      {
        "duration": 15,
        "start_time": "2024-08-20T17:18:04.084Z"
      },
      {
        "duration": 165,
        "start_time": "2024-08-20T17:18:04.101Z"
      },
      {
        "duration": 5,
        "start_time": "2024-08-20T17:18:04.268Z"
      },
      {
        "duration": 174,
        "start_time": "2024-08-20T17:18:04.274Z"
      },
      {
        "duration": 4,
        "start_time": "2024-08-20T17:18:04.450Z"
      },
      {
        "duration": 262,
        "start_time": "2024-08-20T17:18:04.455Z"
      },
      {
        "duration": 5,
        "start_time": "2024-08-20T17:18:04.718Z"
      },
      {
        "duration": 80,
        "start_time": "2024-08-20T17:18:04.725Z"
      },
      {
        "duration": 77,
        "start_time": "2024-08-20T17:18:04.807Z"
      },
      {
        "duration": 54,
        "start_time": "2024-08-20T17:18:04.886Z"
      },
      {
        "duration": 110,
        "start_time": "2024-08-20T17:18:04.942Z"
      },
      {
        "duration": 58,
        "start_time": "2024-08-20T17:18:05.054Z"
      },
      {
        "duration": 57,
        "start_time": "2024-08-20T17:18:05.114Z"
      },
      {
        "duration": 34,
        "start_time": "2024-08-20T17:18:05.173Z"
      },
      {
        "duration": 30,
        "start_time": "2024-08-20T17:18:05.209Z"
      },
      {
        "duration": 14,
        "start_time": "2024-08-20T17:18:05.245Z"
      },
      {
        "duration": 38,
        "start_time": "2024-08-20T17:18:05.261Z"
      },
      {
        "duration": 33,
        "start_time": "2024-08-20T17:18:05.300Z"
      },
      {
        "duration": 38,
        "start_time": "2024-08-20T17:18:05.335Z"
      },
      {
        "duration": 27,
        "start_time": "2024-08-20T17:18:05.375Z"
      },
      {
        "duration": 3,
        "start_time": "2024-08-20T21:47:00.414Z"
      },
      {
        "duration": 565,
        "start_time": "2024-08-20T21:47:06.860Z"
      },
      {
        "duration": 48,
        "start_time": "2024-08-20T21:47:07.427Z"
      },
      {
        "duration": 57,
        "start_time": "2024-08-20T21:47:07.477Z"
      },
      {
        "duration": 30,
        "start_time": "2024-08-20T21:47:07.535Z"
      },
      {
        "duration": 4,
        "start_time": "2024-08-20T21:47:07.567Z"
      },
      {
        "duration": 4,
        "start_time": "2024-08-20T21:47:07.572Z"
      },
      {
        "duration": 20,
        "start_time": "2024-08-20T21:47:07.578Z"
      },
      {
        "duration": 11,
        "start_time": "2024-08-20T21:47:07.599Z"
      },
      {
        "duration": 21,
        "start_time": "2024-08-20T21:47:07.611Z"
      },
      {
        "duration": 17,
        "start_time": "2024-08-20T21:47:07.634Z"
      },
      {
        "duration": 11,
        "start_time": "2024-08-20T21:47:07.653Z"
      },
      {
        "duration": 6,
        "start_time": "2024-08-20T21:47:07.665Z"
      },
      {
        "duration": 23,
        "start_time": "2024-08-20T21:47:07.672Z"
      },
      {
        "duration": 185,
        "start_time": "2024-08-20T21:47:07.698Z"
      },
      {
        "duration": 19,
        "start_time": "2024-08-20T21:47:07.885Z"
      },
      {
        "duration": 11,
        "start_time": "2024-08-20T21:47:07.906Z"
      },
      {
        "duration": 173,
        "start_time": "2024-08-20T21:47:07.919Z"
      },
      {
        "duration": 113,
        "start_time": "2024-08-20T21:47:08.094Z"
      },
      {
        "duration": 11,
        "start_time": "2024-08-20T21:47:08.208Z"
      },
      {
        "duration": 283,
        "start_time": "2024-08-20T21:47:08.221Z"
      },
      {
        "duration": 205,
        "start_time": "2024-08-20T21:47:08.506Z"
      },
      {
        "duration": 309,
        "start_time": "2024-08-20T21:47:08.712Z"
      },
      {
        "duration": 274,
        "start_time": "2024-08-20T21:47:09.022Z"
      },
      {
        "duration": 370,
        "start_time": "2024-08-20T21:47:09.301Z"
      },
      {
        "duration": 6,
        "start_time": "2024-08-20T21:47:09.672Z"
      },
      {
        "duration": 220,
        "start_time": "2024-08-20T21:47:09.679Z"
      },
      {
        "duration": 4,
        "start_time": "2024-08-20T21:47:09.901Z"
      },
      {
        "duration": 154,
        "start_time": "2024-08-20T21:47:09.907Z"
      },
      {
        "duration": 4,
        "start_time": "2024-08-20T21:47:10.063Z"
      },
      {
        "duration": 162,
        "start_time": "2024-08-20T21:47:10.068Z"
      },
      {
        "duration": 4,
        "start_time": "2024-08-20T21:47:10.232Z"
      },
      {
        "duration": 78,
        "start_time": "2024-08-20T21:47:10.238Z"
      },
      {
        "duration": 65,
        "start_time": "2024-08-20T21:47:10.317Z"
      },
      {
        "duration": 53,
        "start_time": "2024-08-20T21:47:10.383Z"
      },
      {
        "duration": 43,
        "start_time": "2024-08-20T21:47:10.437Z"
      },
      {
        "duration": 91,
        "start_time": "2024-08-20T21:47:10.481Z"
      },
      {
        "duration": 56,
        "start_time": "2024-08-20T21:47:10.574Z"
      },
      {
        "duration": 22,
        "start_time": "2024-08-20T21:47:10.631Z"
      },
      {
        "duration": 81,
        "start_time": "2024-08-20T21:47:10.655Z"
      },
      {
        "duration": 0,
        "start_time": "2024-08-20T21:47:10.738Z"
      },
      {
        "duration": 0,
        "start_time": "2024-08-20T21:47:10.739Z"
      },
      {
        "duration": 0,
        "start_time": "2024-08-20T21:47:10.740Z"
      },
      {
        "duration": 0,
        "start_time": "2024-08-20T21:47:10.741Z"
      },
      {
        "duration": 0,
        "start_time": "2024-08-20T21:47:10.742Z"
      },
      {
        "duration": 366,
        "start_time": "2024-08-20T21:47:43.541Z"
      },
      {
        "duration": 3,
        "start_time": "2024-08-20T21:47:47.042Z"
      },
      {
        "duration": 56,
        "start_time": "2024-08-20T21:47:47.047Z"
      },
      {
        "duration": 58,
        "start_time": "2024-08-20T21:47:47.105Z"
      },
      {
        "duration": 30,
        "start_time": "2024-08-20T21:47:47.164Z"
      },
      {
        "duration": 4,
        "start_time": "2024-08-20T21:47:47.195Z"
      },
      {
        "duration": 65,
        "start_time": "2024-08-20T21:47:47.200Z"
      },
      {
        "duration": 5,
        "start_time": "2024-08-20T21:47:47.267Z"
      },
      {
        "duration": 5,
        "start_time": "2024-08-20T21:47:47.273Z"
      },
      {
        "duration": 12,
        "start_time": "2024-08-20T21:47:47.279Z"
      },
      {
        "duration": 102,
        "start_time": "2024-08-20T21:47:47.292Z"
      },
      {
        "duration": 5,
        "start_time": "2024-08-20T21:47:47.396Z"
      },
      {
        "duration": 7,
        "start_time": "2024-08-20T21:47:47.402Z"
      },
      {
        "duration": 5,
        "start_time": "2024-08-20T21:47:47.411Z"
      },
      {
        "duration": 4,
        "start_time": "2024-08-20T21:47:47.418Z"
      },
      {
        "duration": 9,
        "start_time": "2024-08-20T21:47:47.423Z"
      },
      {
        "duration": 10,
        "start_time": "2024-08-20T21:47:47.433Z"
      },
      {
        "duration": 156,
        "start_time": "2024-08-20T21:47:47.445Z"
      },
      {
        "duration": 112,
        "start_time": "2024-08-20T21:47:47.603Z"
      },
      {
        "duration": 11,
        "start_time": "2024-08-20T21:47:47.717Z"
      },
      {
        "duration": 234,
        "start_time": "2024-08-20T21:47:47.729Z"
      },
      {
        "duration": 188,
        "start_time": "2024-08-20T21:47:47.965Z"
      },
      {
        "duration": 284,
        "start_time": "2024-08-20T21:47:48.155Z"
      },
      {
        "duration": 219,
        "start_time": "2024-08-20T21:47:48.440Z"
      },
      {
        "duration": 322,
        "start_time": "2024-08-20T21:47:48.660Z"
      },
      {
        "duration": 6,
        "start_time": "2024-08-20T21:47:48.983Z"
      },
      {
        "duration": 145,
        "start_time": "2024-08-20T21:47:48.991Z"
      },
      {
        "duration": 4,
        "start_time": "2024-08-20T21:47:49.138Z"
      },
      {
        "duration": 163,
        "start_time": "2024-08-20T21:47:49.144Z"
      },
      {
        "duration": 4,
        "start_time": "2024-08-20T21:47:49.308Z"
      },
      {
        "duration": 177,
        "start_time": "2024-08-20T21:47:49.314Z"
      },
      {
        "duration": 5,
        "start_time": "2024-08-20T21:47:49.492Z"
      },
      {
        "duration": 90,
        "start_time": "2024-08-20T21:47:49.501Z"
      },
      {
        "duration": 109,
        "start_time": "2024-08-20T21:47:49.593Z"
      },
      {
        "duration": 43,
        "start_time": "2024-08-20T21:47:49.703Z"
      },
      {
        "duration": 86,
        "start_time": "2024-08-20T21:47:49.747Z"
      },
      {
        "duration": 111,
        "start_time": "2024-08-20T21:47:49.835Z"
      },
      {
        "duration": 56,
        "start_time": "2024-08-20T21:47:49.948Z"
      },
      {
        "duration": 38,
        "start_time": "2024-08-20T21:47:50.006Z"
      },
      {
        "duration": 28,
        "start_time": "2024-08-20T21:47:50.046Z"
      },
      {
        "duration": 10,
        "start_time": "2024-08-20T21:47:50.075Z"
      },
      {
        "duration": 23,
        "start_time": "2024-08-20T21:47:50.088Z"
      },
      {
        "duration": 7,
        "start_time": "2024-08-20T21:47:50.112Z"
      },
      {
        "duration": 24,
        "start_time": "2024-08-20T21:47:50.120Z"
      },
      {
        "duration": 12,
        "start_time": "2024-08-20T21:47:50.146Z"
      },
      {
        "duration": 32,
        "start_time": "2024-08-20T21:55:14.641Z"
      },
      {
        "duration": 7,
        "start_time": "2024-08-20T21:56:19.820Z"
      },
      {
        "duration": 7,
        "start_time": "2024-08-20T21:56:33.856Z"
      },
      {
        "duration": 1001,
        "start_time": "2024-08-20T21:56:46.248Z"
      },
      {
        "duration": 50,
        "start_time": "2024-08-20T21:56:47.251Z"
      },
      {
        "duration": 58,
        "start_time": "2024-08-20T21:56:47.303Z"
      },
      {
        "duration": 29,
        "start_time": "2024-08-20T21:56:47.363Z"
      },
      {
        "duration": 4,
        "start_time": "2024-08-20T21:56:47.394Z"
      },
      {
        "duration": 9,
        "start_time": "2024-08-20T21:56:47.400Z"
      },
      {
        "duration": 6,
        "start_time": "2024-08-20T21:56:47.410Z"
      },
      {
        "duration": 31,
        "start_time": "2024-08-20T21:56:47.417Z"
      },
      {
        "duration": 3,
        "start_time": "2024-08-20T21:56:47.450Z"
      },
      {
        "duration": 10,
        "start_time": "2024-08-20T21:56:47.455Z"
      },
      {
        "duration": 7,
        "start_time": "2024-08-20T21:56:47.466Z"
      },
      {
        "duration": 5,
        "start_time": "2024-08-20T21:56:47.474Z"
      },
      {
        "duration": 5,
        "start_time": "2024-08-20T21:56:47.481Z"
      },
      {
        "duration": 4,
        "start_time": "2024-08-20T21:56:47.487Z"
      },
      {
        "duration": 10,
        "start_time": "2024-08-20T21:56:47.492Z"
      },
      {
        "duration": 24,
        "start_time": "2024-08-20T21:56:47.503Z"
      },
      {
        "duration": 7,
        "start_time": "2024-08-20T21:56:47.529Z"
      },
      {
        "duration": 157,
        "start_time": "2024-08-20T21:56:47.537Z"
      },
      {
        "duration": 114,
        "start_time": "2024-08-20T21:56:47.695Z"
      },
      {
        "duration": 11,
        "start_time": "2024-08-20T21:56:47.810Z"
      },
      {
        "duration": 285,
        "start_time": "2024-08-20T21:56:47.822Z"
      },
      {
        "duration": 200,
        "start_time": "2024-08-20T21:56:48.109Z"
      },
      {
        "duration": 303,
        "start_time": "2024-08-20T21:56:48.310Z"
      },
      {
        "duration": 213,
        "start_time": "2024-08-20T21:56:48.615Z"
      },
      {
        "duration": 314,
        "start_time": "2024-08-20T21:56:48.829Z"
      },
      {
        "duration": 6,
        "start_time": "2024-08-20T21:56:49.144Z"
      },
      {
        "duration": 144,
        "start_time": "2024-08-20T21:56:49.151Z"
      },
      {
        "duration": 8,
        "start_time": "2024-08-20T21:56:49.296Z"
      },
      {
        "duration": 155,
        "start_time": "2024-08-20T21:56:49.306Z"
      },
      {
        "duration": 4,
        "start_time": "2024-08-20T21:56:49.462Z"
      },
      {
        "duration": 162,
        "start_time": "2024-08-20T21:56:49.467Z"
      },
      {
        "duration": 4,
        "start_time": "2024-08-20T21:56:49.630Z"
      },
      {
        "duration": 81,
        "start_time": "2024-08-20T21:56:49.635Z"
      },
      {
        "duration": 60,
        "start_time": "2024-08-20T21:56:49.718Z"
      },
      {
        "duration": 117,
        "start_time": "2024-08-20T21:56:49.779Z"
      },
      {
        "duration": 46,
        "start_time": "2024-08-20T21:56:49.898Z"
      },
      {
        "duration": 52,
        "start_time": "2024-08-20T21:56:49.945Z"
      },
      {
        "duration": 54,
        "start_time": "2024-08-20T21:56:50.002Z"
      },
      {
        "duration": 37,
        "start_time": "2024-08-20T21:56:50.058Z"
      },
      {
        "duration": 26,
        "start_time": "2024-08-20T21:56:50.098Z"
      },
      {
        "duration": 27,
        "start_time": "2024-08-20T21:56:50.126Z"
      },
      {
        "duration": 37,
        "start_time": "2024-08-20T21:56:50.154Z"
      },
      {
        "duration": 41,
        "start_time": "2024-08-20T21:56:50.192Z"
      },
      {
        "duration": 37,
        "start_time": "2024-08-20T21:56:50.234Z"
      },
      {
        "duration": 13,
        "start_time": "2024-08-20T21:56:50.273Z"
      },
      {
        "duration": 9,
        "start_time": "2024-08-20T21:59:44.414Z"
      },
      {
        "duration": 17,
        "start_time": "2024-08-20T22:00:27.216Z"
      },
      {
        "duration": 2,
        "start_time": "2024-08-20T22:01:38.490Z"
      },
      {
        "duration": 15,
        "start_time": "2024-08-20T22:01:42.886Z"
      },
      {
        "duration": 15,
        "start_time": "2024-08-20T22:02:10.841Z"
      },
      {
        "duration": 93,
        "start_time": "2024-08-20T22:02:14.955Z"
      },
      {
        "duration": 39,
        "start_time": "2024-08-20T22:02:26.092Z"
      },
      {
        "duration": 3,
        "start_time": "2024-08-20T22:02:36.362Z"
      },
      {
        "duration": 40,
        "start_time": "2024-08-20T22:02:44.617Z"
      },
      {
        "duration": 4,
        "start_time": "2024-08-20T22:05:24.625Z"
      },
      {
        "duration": 15,
        "start_time": "2024-08-20T22:05:28.760Z"
      },
      {
        "duration": 11,
        "start_time": "2024-08-20T22:16:57.942Z"
      },
      {
        "duration": 68,
        "start_time": "2024-08-20T22:17:16.512Z"
      },
      {
        "duration": 14,
        "start_time": "2024-08-20T22:17:47.808Z"
      },
      {
        "duration": 13,
        "start_time": "2024-08-20T22:18:43.805Z"
      },
      {
        "duration": 10,
        "start_time": "2024-08-20T22:19:23.848Z"
      },
      {
        "duration": 10,
        "start_time": "2024-08-20T22:19:26.183Z"
      },
      {
        "duration": 14,
        "start_time": "2024-08-20T22:19:36.273Z"
      },
      {
        "duration": 12,
        "start_time": "2024-08-20T22:19:42.409Z"
      },
      {
        "duration": 5,
        "start_time": "2024-08-20T22:19:56.318Z"
      },
      {
        "duration": 5,
        "start_time": "2024-08-20T22:19:58.679Z"
      },
      {
        "duration": 22,
        "start_time": "2024-08-20T22:21:31.933Z"
      },
      {
        "duration": 21,
        "start_time": "2024-08-20T22:21:39.614Z"
      },
      {
        "duration": 123,
        "start_time": "2024-08-20T22:21:45.539Z"
      },
      {
        "duration": 20,
        "start_time": "2024-08-20T22:22:21.200Z"
      },
      {
        "duration": 148,
        "start_time": "2024-08-20T22:23:01.403Z"
      },
      {
        "duration": 105,
        "start_time": "2024-08-20T22:23:03.757Z"
      },
      {
        "duration": 12,
        "start_time": "2024-08-20T22:23:05.678Z"
      },
      {
        "duration": 1039,
        "start_time": "2024-08-20T22:23:47.596Z"
      },
      {
        "duration": 35,
        "start_time": "2024-08-20T22:23:48.637Z"
      },
      {
        "duration": 47,
        "start_time": "2024-08-20T22:23:48.674Z"
      },
      {
        "duration": 58,
        "start_time": "2024-08-20T22:23:48.723Z"
      },
      {
        "duration": 28,
        "start_time": "2024-08-20T22:23:48.783Z"
      },
      {
        "duration": 3,
        "start_time": "2024-08-20T22:23:48.812Z"
      },
      {
        "duration": 8,
        "start_time": "2024-08-20T22:23:48.816Z"
      },
      {
        "duration": 8,
        "start_time": "2024-08-20T22:23:48.826Z"
      },
      {
        "duration": 5,
        "start_time": "2024-08-20T22:23:48.836Z"
      },
      {
        "duration": 3,
        "start_time": "2024-08-20T22:23:48.842Z"
      },
      {
        "duration": 7,
        "start_time": "2024-08-20T22:23:48.846Z"
      },
      {
        "duration": 7,
        "start_time": "2024-08-20T22:23:48.854Z"
      },
      {
        "duration": 5,
        "start_time": "2024-08-20T22:23:48.862Z"
      },
      {
        "duration": 6,
        "start_time": "2024-08-20T22:23:48.869Z"
      },
      {
        "duration": 28,
        "start_time": "2024-08-20T22:23:48.877Z"
      },
      {
        "duration": 31,
        "start_time": "2024-08-20T22:23:48.906Z"
      },
      {
        "duration": 38,
        "start_time": "2024-08-20T22:23:48.938Z"
      },
      {
        "duration": 5,
        "start_time": "2024-08-20T22:23:48.977Z"
      },
      {
        "duration": 151,
        "start_time": "2024-08-20T22:23:48.983Z"
      },
      {
        "duration": 113,
        "start_time": "2024-08-20T22:23:49.135Z"
      },
      {
        "duration": 11,
        "start_time": "2024-08-20T22:23:49.250Z"
      },
      {
        "duration": 283,
        "start_time": "2024-08-20T22:23:49.262Z"
      },
      {
        "duration": 193,
        "start_time": "2024-08-20T22:23:49.546Z"
      },
      {
        "duration": 281,
        "start_time": "2024-08-20T22:23:49.740Z"
      },
      {
        "duration": 219,
        "start_time": "2024-08-20T22:23:50.023Z"
      },
      {
        "duration": 308,
        "start_time": "2024-08-20T22:23:50.243Z"
      },
      {
        "duration": 6,
        "start_time": "2024-08-20T22:23:50.553Z"
      },
      {
        "duration": 144,
        "start_time": "2024-08-20T22:23:50.560Z"
      },
      {
        "duration": 5,
        "start_time": "2024-08-20T22:23:50.705Z"
      },
      {
        "duration": 159,
        "start_time": "2024-08-20T22:23:50.711Z"
      },
      {
        "duration": 4,
        "start_time": "2024-08-20T22:23:50.872Z"
      },
      {
        "duration": 164,
        "start_time": "2024-08-20T22:23:50.877Z"
      },
      {
        "duration": 5,
        "start_time": "2024-08-20T22:23:51.042Z"
      },
      {
        "duration": 70,
        "start_time": "2024-08-20T22:23:51.048Z"
      },
      {
        "duration": 67,
        "start_time": "2024-08-20T22:23:51.120Z"
      },
      {
        "duration": 114,
        "start_time": "2024-08-20T22:23:51.201Z"
      },
      {
        "duration": 54,
        "start_time": "2024-08-20T22:23:51.316Z"
      },
      {
        "duration": 110,
        "start_time": "2024-08-20T22:23:51.372Z"
      },
      {
        "duration": 53,
        "start_time": "2024-08-20T22:23:51.483Z"
      },
      {
        "duration": 22,
        "start_time": "2024-08-20T22:23:51.538Z"
      },
      {
        "duration": 40,
        "start_time": "2024-08-20T22:23:51.564Z"
      },
      {
        "duration": 10,
        "start_time": "2024-08-20T22:23:51.606Z"
      },
      {
        "duration": 22,
        "start_time": "2024-08-20T22:23:51.617Z"
      },
      {
        "duration": 39,
        "start_time": "2024-08-20T22:23:51.641Z"
      },
      {
        "duration": 23,
        "start_time": "2024-08-20T22:23:51.682Z"
      },
      {
        "duration": 14,
        "start_time": "2024-08-20T22:23:51.706Z"
      },
      {
        "duration": 9,
        "start_time": "2024-08-20T22:28:43.073Z"
      },
      {
        "duration": 13,
        "start_time": "2024-08-20T22:31:56.372Z"
      },
      {
        "duration": 339,
        "start_time": "2024-08-20T22:36:40.374Z"
      },
      {
        "duration": 27,
        "start_time": "2024-08-20T22:49:43.641Z"
      },
      {
        "duration": 26,
        "start_time": "2024-08-20T22:50:09.717Z"
      },
      {
        "duration": 25,
        "start_time": "2024-08-20T22:50:18.402Z"
      },
      {
        "duration": 3,
        "start_time": "2024-08-20T22:53:08.615Z"
      },
      {
        "duration": 12,
        "start_time": "2024-08-20T23:01:21.252Z"
      },
      {
        "duration": 7,
        "start_time": "2024-08-20T23:06:45.012Z"
      },
      {
        "duration": 24,
        "start_time": "2024-08-20T23:06:47.047Z"
      },
      {
        "duration": 7,
        "start_time": "2024-08-20T23:07:00.737Z"
      },
      {
        "duration": 29,
        "start_time": "2024-08-20T23:07:02.357Z"
      },
      {
        "duration": 8,
        "start_time": "2024-08-20T23:07:26.628Z"
      },
      {
        "duration": 23,
        "start_time": "2024-08-20T23:08:28.042Z"
      },
      {
        "duration": 15,
        "start_time": "2024-08-20T23:12:46.714Z"
      },
      {
        "duration": 58,
        "start_time": "2024-08-20T23:13:45.162Z"
      },
      {
        "duration": 12,
        "start_time": "2024-08-20T23:14:58.230Z"
      },
      {
        "duration": 3,
        "start_time": "2024-08-20T23:15:43.398Z"
      },
      {
        "duration": 36,
        "start_time": "2024-08-20T23:15:43.403Z"
      },
      {
        "duration": 45,
        "start_time": "2024-08-20T23:15:43.440Z"
      },
      {
        "duration": 59,
        "start_time": "2024-08-20T23:15:43.486Z"
      },
      {
        "duration": 29,
        "start_time": "2024-08-20T23:15:43.546Z"
      },
      {
        "duration": 3,
        "start_time": "2024-08-20T23:15:43.577Z"
      },
      {
        "duration": 12,
        "start_time": "2024-08-20T23:15:43.581Z"
      },
      {
        "duration": 5,
        "start_time": "2024-08-20T23:15:43.595Z"
      },
      {
        "duration": 6,
        "start_time": "2024-08-20T23:15:43.602Z"
      },
      {
        "duration": 4,
        "start_time": "2024-08-20T23:15:43.609Z"
      },
      {
        "duration": 8,
        "start_time": "2024-08-20T23:15:43.614Z"
      },
      {
        "duration": 7,
        "start_time": "2024-08-20T23:15:43.624Z"
      },
      {
        "duration": 13,
        "start_time": "2024-08-20T23:15:43.633Z"
      },
      {
        "duration": 6,
        "start_time": "2024-08-20T23:15:43.647Z"
      },
      {
        "duration": 4,
        "start_time": "2024-08-20T23:15:43.654Z"
      },
      {
        "duration": 5,
        "start_time": "2024-08-20T23:15:43.659Z"
      },
      {
        "duration": 42,
        "start_time": "2024-08-20T23:15:43.665Z"
      },
      {
        "duration": 5,
        "start_time": "2024-08-20T23:15:43.708Z"
      },
      {
        "duration": 157,
        "start_time": "2024-08-20T23:15:43.715Z"
      },
      {
        "duration": 112,
        "start_time": "2024-08-20T23:15:43.874Z"
      },
      {
        "duration": 15,
        "start_time": "2024-08-20T23:15:43.988Z"
      },
      {
        "duration": 200,
        "start_time": "2024-08-20T23:15:44.004Z"
      },
      {
        "duration": 190,
        "start_time": "2024-08-20T23:15:44.206Z"
      },
      {
        "duration": 308,
        "start_time": "2024-08-20T23:15:44.398Z"
      },
      {
        "duration": 217,
        "start_time": "2024-08-20T23:15:44.708Z"
      },
      {
        "duration": 324,
        "start_time": "2024-08-20T23:15:44.927Z"
      },
      {
        "duration": 7,
        "start_time": "2024-08-20T23:15:45.252Z"
      },
      {
        "duration": 192,
        "start_time": "2024-08-20T23:15:45.260Z"
      },
      {
        "duration": 5,
        "start_time": "2024-08-20T23:15:45.453Z"
      },
      {
        "duration": 157,
        "start_time": "2024-08-20T23:15:45.459Z"
      },
      {
        "duration": 4,
        "start_time": "2024-08-20T23:15:45.617Z"
      },
      {
        "duration": 168,
        "start_time": "2024-08-20T23:15:45.623Z"
      },
      {
        "duration": 13,
        "start_time": "2024-08-20T23:15:45.792Z"
      },
      {
        "duration": 73,
        "start_time": "2024-08-20T23:15:45.806Z"
      },
      {
        "duration": 74,
        "start_time": "2024-08-20T23:15:45.881Z"
      },
      {
        "duration": 53,
        "start_time": "2024-08-20T23:15:45.957Z"
      },
      {
        "duration": 46,
        "start_time": "2024-08-20T23:15:46.013Z"
      },
      {
        "duration": 69,
        "start_time": "2024-08-20T23:15:46.061Z"
      },
      {
        "duration": 70,
        "start_time": "2024-08-20T23:15:46.132Z"
      },
      {
        "duration": 23,
        "start_time": "2024-08-20T23:15:46.203Z"
      },
      {
        "duration": 27,
        "start_time": "2024-08-20T23:15:46.227Z"
      },
      {
        "duration": 70,
        "start_time": "2024-08-20T23:15:46.255Z"
      },
      {
        "duration": 18,
        "start_time": "2024-08-20T23:15:46.327Z"
      },
      {
        "duration": 8,
        "start_time": "2024-08-20T23:15:46.347Z"
      },
      {
        "duration": 24,
        "start_time": "2024-08-20T23:15:46.357Z"
      },
      {
        "duration": 13,
        "start_time": "2024-08-20T23:15:46.382Z"
      },
      {
        "duration": 12,
        "start_time": "2024-08-20T23:16:07.738Z"
      },
      {
        "duration": 1193,
        "start_time": "2024-08-21T11:29:22.770Z"
      },
      {
        "duration": 50,
        "start_time": "2024-08-21T11:29:23.965Z"
      },
      {
        "duration": 84,
        "start_time": "2024-08-21T11:29:24.016Z"
      },
      {
        "duration": 103,
        "start_time": "2024-08-21T11:29:24.102Z"
      },
      {
        "duration": 80,
        "start_time": "2024-08-21T11:29:24.206Z"
      },
      {
        "duration": 3,
        "start_time": "2024-08-21T11:29:24.287Z"
      },
      {
        "duration": 4,
        "start_time": "2024-08-21T11:29:24.292Z"
      },
      {
        "duration": 4,
        "start_time": "2024-08-21T11:29:24.297Z"
      },
      {
        "duration": 5,
        "start_time": "2024-08-21T11:29:24.302Z"
      },
      {
        "duration": 3,
        "start_time": "2024-08-21T11:29:24.309Z"
      },
      {
        "duration": 8,
        "start_time": "2024-08-21T11:29:24.313Z"
      },
      {
        "duration": 10,
        "start_time": "2024-08-21T11:29:24.322Z"
      },
      {
        "duration": 12,
        "start_time": "2024-08-21T11:29:24.334Z"
      },
      {
        "duration": 23,
        "start_time": "2024-08-21T11:29:24.348Z"
      },
      {
        "duration": 12,
        "start_time": "2024-08-21T11:29:24.372Z"
      },
      {
        "duration": 10,
        "start_time": "2024-08-21T11:29:24.385Z"
      },
      {
        "duration": 20,
        "start_time": "2024-08-21T11:29:24.397Z"
      },
      {
        "duration": 5,
        "start_time": "2024-08-21T11:29:24.418Z"
      },
      {
        "duration": 144,
        "start_time": "2024-08-21T11:29:24.424Z"
      },
      {
        "duration": 97,
        "start_time": "2024-08-21T11:29:24.569Z"
      },
      {
        "duration": 20,
        "start_time": "2024-08-21T11:29:24.668Z"
      },
      {
        "duration": 269,
        "start_time": "2024-08-21T11:29:24.689Z"
      },
      {
        "duration": 175,
        "start_time": "2024-08-21T11:29:24.960Z"
      },
      {
        "duration": 308,
        "start_time": "2024-08-21T11:29:25.136Z"
      },
      {
        "duration": 204,
        "start_time": "2024-08-21T11:29:25.445Z"
      },
      {
        "duration": 292,
        "start_time": "2024-08-21T11:29:25.651Z"
      },
      {
        "duration": 5,
        "start_time": "2024-08-21T11:29:25.945Z"
      },
      {
        "duration": 129,
        "start_time": "2024-08-21T11:29:25.953Z"
      },
      {
        "duration": 4,
        "start_time": "2024-08-21T11:29:26.083Z"
      },
      {
        "duration": 149,
        "start_time": "2024-08-21T11:29:26.088Z"
      },
      {
        "duration": 3,
        "start_time": "2024-08-21T11:29:26.238Z"
      },
      {
        "duration": 152,
        "start_time": "2024-08-21T11:29:26.242Z"
      },
      {
        "duration": 9,
        "start_time": "2024-08-21T11:29:26.396Z"
      },
      {
        "duration": 56,
        "start_time": "2024-08-21T11:29:26.407Z"
      },
      {
        "duration": 76,
        "start_time": "2024-08-21T11:29:26.464Z"
      },
      {
        "duration": 89,
        "start_time": "2024-08-21T11:29:26.542Z"
      },
      {
        "duration": 55,
        "start_time": "2024-08-21T11:29:26.632Z"
      },
      {
        "duration": 51,
        "start_time": "2024-08-21T11:29:26.689Z"
      },
      {
        "duration": 44,
        "start_time": "2024-08-21T11:29:26.742Z"
      },
      {
        "duration": 29,
        "start_time": "2024-08-21T11:29:26.788Z"
      },
      {
        "duration": 67,
        "start_time": "2024-08-21T11:29:26.818Z"
      },
      {
        "duration": 20,
        "start_time": "2024-08-21T11:29:26.886Z"
      },
      {
        "duration": 9,
        "start_time": "2024-08-21T11:29:26.907Z"
      },
      {
        "duration": 12,
        "start_time": "2024-08-21T11:29:26.917Z"
      },
      {
        "duration": 26,
        "start_time": "2024-08-21T11:29:26.930Z"
      },
      {
        "duration": 11,
        "start_time": "2024-08-21T11:29:26.957Z"
      },
      {
        "duration": 9,
        "start_time": "2024-08-21T11:34:44.147Z"
      },
      {
        "duration": 7,
        "start_time": "2024-08-21T11:35:01.206Z"
      },
      {
        "duration": 29,
        "start_time": "2024-08-21T11:35:02.943Z"
      },
      {
        "duration": 16,
        "start_time": "2024-08-21T11:35:23.068Z"
      },
      {
        "duration": 6,
        "start_time": "2024-08-21T11:41:27.632Z"
      },
      {
        "duration": 10,
        "start_time": "2024-08-21T11:41:38.769Z"
      },
      {
        "duration": 993,
        "start_time": "2024-08-21T12:02:57.967Z"
      },
      {
        "duration": 30,
        "start_time": "2024-08-21T12:02:58.961Z"
      },
      {
        "duration": 39,
        "start_time": "2024-08-21T12:02:58.993Z"
      },
      {
        "duration": 48,
        "start_time": "2024-08-21T12:02:59.034Z"
      },
      {
        "duration": 28,
        "start_time": "2024-08-21T12:02:59.084Z"
      },
      {
        "duration": 3,
        "start_time": "2024-08-21T12:02:59.114Z"
      },
      {
        "duration": 12,
        "start_time": "2024-08-21T12:02:59.119Z"
      },
      {
        "duration": 6,
        "start_time": "2024-08-21T12:02:59.132Z"
      },
      {
        "duration": 82,
        "start_time": "2024-08-21T12:02:59.139Z"
      },
      {
        "duration": 4,
        "start_time": "2024-08-21T12:02:59.223Z"
      },
      {
        "duration": 22,
        "start_time": "2024-08-21T12:02:59.228Z"
      },
      {
        "duration": 34,
        "start_time": "2024-08-21T12:02:59.251Z"
      },
      {
        "duration": 29,
        "start_time": "2024-08-21T12:02:59.286Z"
      },
      {
        "duration": 15,
        "start_time": "2024-08-21T12:02:59.317Z"
      },
      {
        "duration": 16,
        "start_time": "2024-08-21T12:02:59.333Z"
      },
      {
        "duration": 21,
        "start_time": "2024-08-21T12:02:59.350Z"
      },
      {
        "duration": 41,
        "start_time": "2024-08-21T12:02:59.373Z"
      },
      {
        "duration": 28,
        "start_time": "2024-08-21T12:02:59.415Z"
      },
      {
        "duration": 134,
        "start_time": "2024-08-21T12:02:59.444Z"
      },
      {
        "duration": 97,
        "start_time": "2024-08-21T12:02:59.579Z"
      },
      {
        "duration": 12,
        "start_time": "2024-08-21T12:02:59.677Z"
      },
      {
        "duration": 244,
        "start_time": "2024-08-21T12:02:59.690Z"
      },
      {
        "duration": 185,
        "start_time": "2024-08-21T12:02:59.935Z"
      },
      {
        "duration": 370,
        "start_time": "2024-08-21T12:03:00.122Z"
      },
      {
        "duration": 197,
        "start_time": "2024-08-21T12:03:00.493Z"
      },
      {
        "duration": 456,
        "start_time": "2024-08-21T12:03:00.691Z"
      },
      {
        "duration": 5,
        "start_time": "2024-08-21T12:03:01.148Z"
      },
      {
        "duration": 208,
        "start_time": "2024-08-21T12:03:01.156Z"
      },
      {
        "duration": 4,
        "start_time": "2024-08-21T12:03:01.366Z"
      },
      {
        "duration": 165,
        "start_time": "2024-08-21T12:03:01.372Z"
      },
      {
        "duration": 4,
        "start_time": "2024-08-21T12:03:01.539Z"
      },
      {
        "duration": 227,
        "start_time": "2024-08-21T12:03:01.544Z"
      },
      {
        "duration": 5,
        "start_time": "2024-08-21T12:03:01.773Z"
      },
      {
        "duration": 95,
        "start_time": "2024-08-21T12:03:01.779Z"
      },
      {
        "duration": 75,
        "start_time": "2024-08-21T12:03:01.875Z"
      },
      {
        "duration": 97,
        "start_time": "2024-08-21T12:03:01.951Z"
      },
      {
        "duration": 92,
        "start_time": "2024-08-21T12:03:02.050Z"
      },
      {
        "duration": 64,
        "start_time": "2024-08-21T12:03:02.144Z"
      },
      {
        "duration": 46,
        "start_time": "2024-08-21T12:03:02.209Z"
      },
      {
        "duration": 22,
        "start_time": "2024-08-21T12:03:02.257Z"
      },
      {
        "duration": 45,
        "start_time": "2024-08-21T12:03:02.281Z"
      },
      {
        "duration": 9,
        "start_time": "2024-08-21T12:03:02.328Z"
      },
      {
        "duration": 72,
        "start_time": "2024-08-21T12:03:02.339Z"
      },
      {
        "duration": 33,
        "start_time": "2024-08-21T12:03:02.412Z"
      },
      {
        "duration": 70,
        "start_time": "2024-08-21T12:03:02.446Z"
      },
      {
        "duration": 32,
        "start_time": "2024-08-21T12:03:02.518Z"
      },
      {
        "duration": 1333,
        "start_time": "2024-08-21T12:11:44.383Z"
      },
      {
        "duration": 33,
        "start_time": "2024-08-21T12:11:45.719Z"
      },
      {
        "duration": 106,
        "start_time": "2024-08-21T12:11:45.754Z"
      },
      {
        "duration": 102,
        "start_time": "2024-08-21T12:11:45.862Z"
      },
      {
        "duration": 76,
        "start_time": "2024-08-21T12:11:45.966Z"
      },
      {
        "duration": 3,
        "start_time": "2024-08-21T12:11:46.044Z"
      },
      {
        "duration": 19,
        "start_time": "2024-08-21T12:11:46.049Z"
      },
      {
        "duration": 36,
        "start_time": "2024-08-21T12:11:46.070Z"
      },
      {
        "duration": 6,
        "start_time": "2024-08-21T12:11:46.107Z"
      },
      {
        "duration": 12,
        "start_time": "2024-08-21T12:11:46.116Z"
      },
      {
        "duration": 9,
        "start_time": "2024-08-21T12:11:46.130Z"
      },
      {
        "duration": 26,
        "start_time": "2024-08-21T12:11:46.141Z"
      },
      {
        "duration": 7,
        "start_time": "2024-08-21T12:11:46.168Z"
      },
      {
        "duration": 17,
        "start_time": "2024-08-21T12:11:46.176Z"
      },
      {
        "duration": 10,
        "start_time": "2024-08-21T12:11:46.194Z"
      },
      {
        "duration": 17,
        "start_time": "2024-08-21T12:11:46.205Z"
      },
      {
        "duration": 22,
        "start_time": "2024-08-21T12:11:46.224Z"
      },
      {
        "duration": 5,
        "start_time": "2024-08-21T12:11:46.247Z"
      },
      {
        "duration": 160,
        "start_time": "2024-08-21T12:11:46.254Z"
      },
      {
        "duration": 123,
        "start_time": "2024-08-21T12:11:46.416Z"
      },
      {
        "duration": 26,
        "start_time": "2024-08-21T12:11:46.541Z"
      },
      {
        "duration": 301,
        "start_time": "2024-08-21T12:11:46.568Z"
      },
      {
        "duration": 225,
        "start_time": "2024-08-21T12:11:46.870Z"
      },
      {
        "duration": 372,
        "start_time": "2024-08-21T12:11:47.097Z"
      },
      {
        "duration": 236,
        "start_time": "2024-08-21T12:11:47.470Z"
      },
      {
        "duration": 350,
        "start_time": "2024-08-21T12:11:47.708Z"
      },
      {
        "duration": 7,
        "start_time": "2024-08-21T12:11:48.060Z"
      },
      {
        "duration": 155,
        "start_time": "2024-08-21T12:11:48.072Z"
      },
      {
        "duration": 5,
        "start_time": "2024-08-21T12:11:48.229Z"
      },
      {
        "duration": 188,
        "start_time": "2024-08-21T12:11:48.236Z"
      },
      {
        "duration": 4,
        "start_time": "2024-08-21T12:11:48.426Z"
      },
      {
        "duration": 181,
        "start_time": "2024-08-21T12:11:48.431Z"
      },
      {
        "duration": 5,
        "start_time": "2024-08-21T12:11:48.614Z"
      },
      {
        "duration": 84,
        "start_time": "2024-08-21T12:11:48.621Z"
      },
      {
        "duration": 71,
        "start_time": "2024-08-21T12:11:48.707Z"
      },
      {
        "duration": 136,
        "start_time": "2024-08-21T12:11:48.780Z"
      },
      {
        "duration": 54,
        "start_time": "2024-08-21T12:11:48.917Z"
      },
      {
        "duration": 67,
        "start_time": "2024-08-21T12:11:48.973Z"
      },
      {
        "duration": 110,
        "start_time": "2024-08-21T12:11:49.042Z"
      },
      {
        "duration": 26,
        "start_time": "2024-08-21T12:11:49.154Z"
      },
      {
        "duration": 41,
        "start_time": "2024-08-21T12:11:49.182Z"
      },
      {
        "duration": 11,
        "start_time": "2024-08-21T12:11:49.225Z"
      },
      {
        "duration": 11,
        "start_time": "2024-08-21T12:11:49.237Z"
      },
      {
        "duration": 8,
        "start_time": "2024-08-21T12:11:49.249Z"
      },
      {
        "duration": 51,
        "start_time": "2024-08-21T12:11:49.259Z"
      },
      {
        "duration": 14,
        "start_time": "2024-08-21T12:11:49.311Z"
      },
      {
        "duration": 4,
        "start_time": "2024-08-21T12:39:16.120Z"
      },
      {
        "duration": 4,
        "start_time": "2024-08-21T12:41:44.345Z"
      },
      {
        "duration": 59,
        "start_time": "2024-08-21T12:42:11.520Z"
      },
      {
        "duration": 5,
        "start_time": "2024-08-21T12:42:17.923Z"
      },
      {
        "duration": 322,
        "start_time": "2024-08-21T12:44:57.599Z"
      },
      {
        "duration": 276,
        "start_time": "2024-08-21T12:46:31.757Z"
      },
      {
        "duration": 360,
        "start_time": "2024-08-21T12:46:41.111Z"
      },
      {
        "duration": 11,
        "start_time": "2024-08-21T12:48:33.727Z"
      },
      {
        "duration": 8,
        "start_time": "2024-08-21T12:48:44.978Z"
      },
      {
        "duration": 6,
        "start_time": "2024-08-21T12:50:17.547Z"
      },
      {
        "duration": 6,
        "start_time": "2024-08-21T12:50:59.027Z"
      },
      {
        "duration": 8,
        "start_time": "2024-08-21T12:51:33.972Z"
      },
      {
        "duration": 10,
        "start_time": "2024-08-21T12:52:41.050Z"
      },
      {
        "duration": 8,
        "start_time": "2024-08-21T12:52:43.819Z"
      },
      {
        "duration": 88,
        "start_time": "2024-08-21T12:55:34.810Z"
      },
      {
        "duration": 17,
        "start_time": "2024-08-21T12:56:07.760Z"
      },
      {
        "duration": 20,
        "start_time": "2024-08-21T12:56:44.466Z"
      },
      {
        "duration": 13,
        "start_time": "2024-08-21T12:56:51.472Z"
      },
      {
        "duration": 9,
        "start_time": "2024-08-21T12:57:05.720Z"
      },
      {
        "duration": 18,
        "start_time": "2024-08-21T12:58:49.793Z"
      },
      {
        "duration": 9,
        "start_time": "2024-08-21T12:59:01.359Z"
      },
      {
        "duration": 18,
        "start_time": "2024-08-21T12:59:29.045Z"
      },
      {
        "duration": 13,
        "start_time": "2024-08-21T12:59:31.592Z"
      },
      {
        "duration": 18,
        "start_time": "2024-08-21T13:00:04.922Z"
      },
      {
        "duration": 9,
        "start_time": "2024-08-21T13:00:06.811Z"
      },
      {
        "duration": 85,
        "start_time": "2024-08-21T13:02:40.812Z"
      },
      {
        "duration": 20,
        "start_time": "2024-08-21T13:02:54.169Z"
      },
      {
        "duration": 9,
        "start_time": "2024-08-21T13:02:56.629Z"
      },
      {
        "duration": 1055,
        "start_time": "2024-08-21T13:04:22.166Z"
      },
      {
        "duration": 35,
        "start_time": "2024-08-21T13:04:23.222Z"
      },
      {
        "duration": 50,
        "start_time": "2024-08-21T13:04:23.259Z"
      },
      {
        "duration": 50,
        "start_time": "2024-08-21T13:04:23.312Z"
      },
      {
        "duration": 24,
        "start_time": "2024-08-21T13:04:23.364Z"
      },
      {
        "duration": 3,
        "start_time": "2024-08-21T13:04:23.390Z"
      },
      {
        "duration": 5,
        "start_time": "2024-08-21T13:04:23.395Z"
      },
      {
        "duration": 20,
        "start_time": "2024-08-21T13:04:23.402Z"
      },
      {
        "duration": 14,
        "start_time": "2024-08-21T13:04:23.424Z"
      },
      {
        "duration": 7,
        "start_time": "2024-08-21T13:04:23.440Z"
      },
      {
        "duration": 12,
        "start_time": "2024-08-21T13:04:23.449Z"
      },
      {
        "duration": 89,
        "start_time": "2024-08-21T13:04:23.462Z"
      },
      {
        "duration": 14,
        "start_time": "2024-08-21T13:04:23.554Z"
      },
      {
        "duration": 7,
        "start_time": "2024-08-21T13:04:23.569Z"
      },
      {
        "duration": 7,
        "start_time": "2024-08-21T13:04:23.577Z"
      },
      {
        "duration": 4,
        "start_time": "2024-08-21T13:04:23.585Z"
      },
      {
        "duration": 6,
        "start_time": "2024-08-21T13:04:23.590Z"
      },
      {
        "duration": 31,
        "start_time": "2024-08-21T13:04:23.597Z"
      },
      {
        "duration": 5,
        "start_time": "2024-08-21T13:04:23.630Z"
      },
      {
        "duration": 144,
        "start_time": "2024-08-21T13:04:23.636Z"
      },
      {
        "duration": 102,
        "start_time": "2024-08-21T13:04:23.781Z"
      },
      {
        "duration": 21,
        "start_time": "2024-08-21T13:04:23.885Z"
      },
      {
        "duration": 5,
        "start_time": "2024-08-21T13:04:23.908Z"
      },
      {
        "duration": 268,
        "start_time": "2024-08-21T13:04:23.915Z"
      },
      {
        "duration": 202,
        "start_time": "2024-08-21T13:04:24.185Z"
      },
      {
        "duration": 307,
        "start_time": "2024-08-21T13:04:24.388Z"
      },
      {
        "duration": 211,
        "start_time": "2024-08-21T13:04:24.696Z"
      },
      {
        "duration": 344,
        "start_time": "2024-08-21T13:04:24.909Z"
      },
      {
        "duration": 8,
        "start_time": "2024-08-21T13:04:25.255Z"
      },
      {
        "duration": 149,
        "start_time": "2024-08-21T13:04:25.265Z"
      },
      {
        "duration": 4,
        "start_time": "2024-08-21T13:04:25.415Z"
      },
      {
        "duration": 150,
        "start_time": "2024-08-21T13:04:25.420Z"
      },
      {
        "duration": 4,
        "start_time": "2024-08-21T13:04:25.571Z"
      },
      {
        "duration": 181,
        "start_time": "2024-08-21T13:04:25.576Z"
      },
      {
        "duration": 5,
        "start_time": "2024-08-21T13:04:25.758Z"
      },
      {
        "duration": 61,
        "start_time": "2024-08-21T13:04:25.764Z"
      },
      {
        "duration": 11,
        "start_time": "2024-08-21T13:04:25.827Z"
      },
      {
        "duration": 17,
        "start_time": "2024-08-21T13:04:25.839Z"
      },
      {
        "duration": 17,
        "start_time": "2024-08-21T13:04:25.857Z"
      },
      {
        "duration": 111,
        "start_time": "2024-08-21T13:04:25.877Z"
      },
      {
        "duration": 0,
        "start_time": "2024-08-21T13:04:25.989Z"
      },
      {
        "duration": 0,
        "start_time": "2024-08-21T13:04:25.990Z"
      },
      {
        "duration": 0,
        "start_time": "2024-08-21T13:04:25.992Z"
      },
      {
        "duration": 0,
        "start_time": "2024-08-21T13:04:25.993Z"
      },
      {
        "duration": 0,
        "start_time": "2024-08-21T13:04:25.995Z"
      },
      {
        "duration": 0,
        "start_time": "2024-08-21T13:04:26.006Z"
      },
      {
        "duration": 1,
        "start_time": "2024-08-21T13:04:26.006Z"
      },
      {
        "duration": 0,
        "start_time": "2024-08-21T13:04:26.008Z"
      },
      {
        "duration": 20,
        "start_time": "2024-08-21T13:04:32.260Z"
      },
      {
        "duration": 9,
        "start_time": "2024-08-21T13:04:38.614Z"
      },
      {
        "duration": 983,
        "start_time": "2024-08-21T13:05:19.732Z"
      },
      {
        "duration": 55,
        "start_time": "2024-08-21T13:05:20.716Z"
      },
      {
        "duration": 41,
        "start_time": "2024-08-21T13:05:20.772Z"
      },
      {
        "duration": 48,
        "start_time": "2024-08-21T13:05:20.815Z"
      },
      {
        "duration": 25,
        "start_time": "2024-08-21T13:05:20.864Z"
      },
      {
        "duration": 55,
        "start_time": "2024-08-21T13:05:20.890Z"
      },
      {
        "duration": 78,
        "start_time": "2024-08-21T13:05:20.947Z"
      },
      {
        "duration": 126,
        "start_time": "2024-08-21T13:05:21.026Z"
      },
      {
        "duration": 15,
        "start_time": "2024-08-21T13:05:21.153Z"
      },
      {
        "duration": 11,
        "start_time": "2024-08-21T13:05:21.170Z"
      },
      {
        "duration": 9,
        "start_time": "2024-08-21T13:05:21.183Z"
      },
      {
        "duration": 17,
        "start_time": "2024-08-21T13:05:21.193Z"
      },
      {
        "duration": 21,
        "start_time": "2024-08-21T13:05:21.213Z"
      },
      {
        "duration": 7,
        "start_time": "2024-08-21T13:05:21.235Z"
      },
      {
        "duration": 11,
        "start_time": "2024-08-21T13:05:21.243Z"
      },
      {
        "duration": 4,
        "start_time": "2024-08-21T13:05:21.256Z"
      },
      {
        "duration": 12,
        "start_time": "2024-08-21T13:05:21.261Z"
      },
      {
        "duration": 21,
        "start_time": "2024-08-21T13:05:21.274Z"
      },
      {
        "duration": 5,
        "start_time": "2024-08-21T13:05:21.297Z"
      },
      {
        "duration": 159,
        "start_time": "2024-08-21T13:05:21.303Z"
      },
      {
        "duration": 115,
        "start_time": "2024-08-21T13:05:21.464Z"
      },
      {
        "duration": 11,
        "start_time": "2024-08-21T13:05:21.580Z"
      },
      {
        "duration": 5,
        "start_time": "2024-08-21T13:05:21.605Z"
      },
      {
        "duration": 261,
        "start_time": "2024-08-21T13:05:21.612Z"
      },
      {
        "duration": 193,
        "start_time": "2024-08-21T13:05:21.875Z"
      },
      {
        "duration": 287,
        "start_time": "2024-08-21T13:05:22.069Z"
      },
      {
        "duration": 218,
        "start_time": "2024-08-21T13:05:22.357Z"
      },
      {
        "duration": 396,
        "start_time": "2024-08-21T13:05:22.577Z"
      },
      {
        "duration": 5,
        "start_time": "2024-08-21T13:05:22.974Z"
      },
      {
        "duration": 139,
        "start_time": "2024-08-21T13:05:22.980Z"
      },
      {
        "duration": 4,
        "start_time": "2024-08-21T13:05:23.120Z"
      },
      {
        "duration": 155,
        "start_time": "2024-08-21T13:05:23.125Z"
      },
      {
        "duration": 3,
        "start_time": "2024-08-21T13:05:23.282Z"
      },
      {
        "duration": 157,
        "start_time": "2024-08-21T13:05:23.286Z"
      },
      {
        "duration": 4,
        "start_time": "2024-08-21T13:05:23.445Z"
      },
      {
        "duration": 67,
        "start_time": "2024-08-21T13:05:23.450Z"
      },
      {
        "duration": 24,
        "start_time": "2024-08-21T13:05:23.518Z"
      },
      {
        "duration": 71,
        "start_time": "2024-08-21T13:05:23.544Z"
      },
      {
        "duration": 4,
        "start_time": "2024-08-21T13:05:23.616Z"
      },
      {
        "duration": 24,
        "start_time": "2024-08-21T13:05:23.623Z"
      },
      {
        "duration": 23,
        "start_time": "2024-08-21T13:05:23.649Z"
      },
      {
        "duration": 214,
        "start_time": "2024-08-21T13:05:23.674Z"
      },
      {
        "duration": 21,
        "start_time": "2024-08-21T13:05:23.890Z"
      },
      {
        "duration": 9,
        "start_time": "2024-08-21T13:05:23.912Z"
      },
      {
        "duration": 14,
        "start_time": "2024-08-21T13:05:23.922Z"
      },
      {
        "duration": 16,
        "start_time": "2024-08-21T13:05:23.938Z"
      },
      {
        "duration": 27,
        "start_time": "2024-08-21T13:05:23.955Z"
      },
      {
        "duration": 12,
        "start_time": "2024-08-21T13:05:23.983Z"
      },
      {
        "duration": 12,
        "start_time": "2024-08-21T13:09:27.833Z"
      },
      {
        "duration": 7,
        "start_time": "2024-08-21T13:09:50.074Z"
      },
      {
        "duration": 7,
        "start_time": "2024-08-21T13:10:35.378Z"
      },
      {
        "duration": 68,
        "start_time": "2024-08-21T13:10:48.447Z"
      },
      {
        "duration": 5,
        "start_time": "2024-08-21T13:10:53.521Z"
      },
      {
        "duration": 5,
        "start_time": "2024-08-21T13:10:57.272Z"
      },
      {
        "duration": 4,
        "start_time": "2024-08-21T13:12:33.201Z"
      },
      {
        "duration": 11,
        "start_time": "2024-08-21T13:12:40.518Z"
      },
      {
        "duration": 11,
        "start_time": "2024-08-21T13:13:02.685Z"
      },
      {
        "duration": 13,
        "start_time": "2024-08-21T13:17:52.619Z"
      },
      {
        "duration": 5,
        "start_time": "2024-08-21T13:21:36.200Z"
      },
      {
        "duration": 972,
        "start_time": "2024-08-21T13:21:42.857Z"
      },
      {
        "duration": 32,
        "start_time": "2024-08-21T13:21:43.831Z"
      },
      {
        "duration": 49,
        "start_time": "2024-08-21T13:21:43.864Z"
      },
      {
        "duration": 48,
        "start_time": "2024-08-21T13:21:43.914Z"
      },
      {
        "duration": 25,
        "start_time": "2024-08-21T13:21:43.963Z"
      },
      {
        "duration": 9,
        "start_time": "2024-08-21T13:21:43.989Z"
      },
      {
        "duration": 11,
        "start_time": "2024-08-21T13:21:44.000Z"
      },
      {
        "duration": 9,
        "start_time": "2024-08-21T13:21:44.012Z"
      },
      {
        "duration": 9,
        "start_time": "2024-08-21T13:21:44.023Z"
      },
      {
        "duration": 7,
        "start_time": "2024-08-21T13:21:44.035Z"
      },
      {
        "duration": 89,
        "start_time": "2024-08-21T13:21:44.044Z"
      },
      {
        "duration": 20,
        "start_time": "2024-08-21T13:21:44.135Z"
      },
      {
        "duration": 14,
        "start_time": "2024-08-21T13:21:44.156Z"
      },
      {
        "duration": 15,
        "start_time": "2024-08-21T13:21:44.172Z"
      },
      {
        "duration": 8,
        "start_time": "2024-08-21T13:21:44.188Z"
      },
      {
        "duration": 12,
        "start_time": "2024-08-21T13:21:44.197Z"
      },
      {
        "duration": 11,
        "start_time": "2024-08-21T13:21:44.210Z"
      },
      {
        "duration": 19,
        "start_time": "2024-08-21T13:21:44.222Z"
      },
      {
        "duration": 14,
        "start_time": "2024-08-21T13:21:44.243Z"
      },
      {
        "duration": 165,
        "start_time": "2024-08-21T13:21:44.259Z"
      },
      {
        "duration": 114,
        "start_time": "2024-08-21T13:21:44.426Z"
      },
      {
        "duration": 11,
        "start_time": "2024-08-21T13:21:44.541Z"
      },
      {
        "duration": 27,
        "start_time": "2024-08-21T13:21:44.554Z"
      },
      {
        "duration": 273,
        "start_time": "2024-08-21T13:21:44.583Z"
      },
      {
        "duration": 183,
        "start_time": "2024-08-21T13:21:44.858Z"
      },
      {
        "duration": 286,
        "start_time": "2024-08-21T13:21:45.042Z"
      },
      {
        "duration": 206,
        "start_time": "2024-08-21T13:21:45.330Z"
      },
      {
        "duration": 320,
        "start_time": "2024-08-21T13:21:45.540Z"
      },
      {
        "duration": 7,
        "start_time": "2024-08-21T13:21:45.861Z"
      },
      {
        "duration": 145,
        "start_time": "2024-08-21T13:21:45.870Z"
      },
      {
        "duration": 4,
        "start_time": "2024-08-21T13:21:46.017Z"
      },
      {
        "duration": 150,
        "start_time": "2024-08-21T13:21:46.022Z"
      },
      {
        "duration": 4,
        "start_time": "2024-08-21T13:21:46.174Z"
      },
      {
        "duration": 160,
        "start_time": "2024-08-21T13:21:46.179Z"
      },
      {
        "duration": 5,
        "start_time": "2024-08-21T13:21:46.341Z"
      },
      {
        "duration": 86,
        "start_time": "2024-08-21T13:21:46.348Z"
      },
      {
        "duration": 4,
        "start_time": "2024-08-21T13:21:46.436Z"
      },
      {
        "duration": 87,
        "start_time": "2024-08-21T13:21:46.441Z"
      },
      {
        "duration": 4,
        "start_time": "2024-08-21T13:21:46.530Z"
      },
      {
        "duration": 15,
        "start_time": "2024-08-21T13:21:46.535Z"
      },
      {
        "duration": 20,
        "start_time": "2024-08-21T13:21:46.551Z"
      },
      {
        "duration": 80,
        "start_time": "2024-08-21T13:21:46.573Z"
      },
      {
        "duration": 11,
        "start_time": "2024-08-21T13:21:46.655Z"
      },
      {
        "duration": 30,
        "start_time": "2024-08-21T13:21:46.668Z"
      },
      {
        "duration": 33,
        "start_time": "2024-08-21T13:21:46.705Z"
      },
      {
        "duration": 12,
        "start_time": "2024-08-21T13:21:46.740Z"
      },
      {
        "duration": 27,
        "start_time": "2024-08-21T13:21:46.754Z"
      },
      {
        "duration": 34,
        "start_time": "2024-08-21T13:21:46.782Z"
      },
      {
        "duration": 21,
        "start_time": "2024-08-21T13:21:46.818Z"
      },
      {
        "duration": 1257,
        "start_time": "2024-08-21T14:34:44.817Z"
      },
      {
        "duration": 39,
        "start_time": "2024-08-21T14:34:46.076Z"
      },
      {
        "duration": 113,
        "start_time": "2024-08-21T14:34:46.117Z"
      },
      {
        "duration": 113,
        "start_time": "2024-08-21T14:34:46.232Z"
      },
      {
        "duration": 85,
        "start_time": "2024-08-21T14:34:46.347Z"
      },
      {
        "duration": 4,
        "start_time": "2024-08-21T14:34:46.433Z"
      },
      {
        "duration": 11,
        "start_time": "2024-08-21T14:34:46.438Z"
      },
      {
        "duration": 7,
        "start_time": "2024-08-21T14:34:46.451Z"
      },
      {
        "duration": 27,
        "start_time": "2024-08-21T14:34:46.460Z"
      },
      {
        "duration": 4,
        "start_time": "2024-08-21T14:34:46.489Z"
      },
      {
        "duration": 12,
        "start_time": "2024-08-21T14:34:46.494Z"
      },
      {
        "duration": 22,
        "start_time": "2024-08-21T14:34:46.507Z"
      },
      {
        "duration": 19,
        "start_time": "2024-08-21T14:34:46.530Z"
      },
      {
        "duration": 44,
        "start_time": "2024-08-21T14:34:46.551Z"
      },
      {
        "duration": 5,
        "start_time": "2024-08-21T14:34:46.597Z"
      },
      {
        "duration": 4,
        "start_time": "2024-08-21T14:34:46.604Z"
      },
      {
        "duration": 12,
        "start_time": "2024-08-21T14:34:46.609Z"
      },
      {
        "duration": 18,
        "start_time": "2024-08-21T14:34:46.622Z"
      },
      {
        "duration": 5,
        "start_time": "2024-08-21T14:34:46.641Z"
      },
      {
        "duration": 178,
        "start_time": "2024-08-21T14:34:46.648Z"
      },
      {
        "duration": 130,
        "start_time": "2024-08-21T14:34:46.828Z"
      },
      {
        "duration": 12,
        "start_time": "2024-08-21T14:34:46.959Z"
      },
      {
        "duration": 7,
        "start_time": "2024-08-21T14:34:46.985Z"
      },
      {
        "duration": 319,
        "start_time": "2024-08-21T14:34:46.993Z"
      },
      {
        "duration": 243,
        "start_time": "2024-08-21T14:34:47.314Z"
      },
      {
        "duration": 394,
        "start_time": "2024-08-21T14:34:47.558Z"
      },
      {
        "duration": 237,
        "start_time": "2024-08-21T14:34:47.953Z"
      },
      {
        "duration": 387,
        "start_time": "2024-08-21T14:34:48.193Z"
      },
      {
        "duration": 7,
        "start_time": "2024-08-21T14:34:48.581Z"
      },
      {
        "duration": 161,
        "start_time": "2024-08-21T14:34:48.590Z"
      },
      {
        "duration": 5,
        "start_time": "2024-08-21T14:34:48.753Z"
      },
      {
        "duration": 229,
        "start_time": "2024-08-21T14:34:48.759Z"
      },
      {
        "duration": 4,
        "start_time": "2024-08-21T14:34:48.990Z"
      },
      {
        "duration": 218,
        "start_time": "2024-08-21T14:34:48.996Z"
      },
      {
        "duration": 6,
        "start_time": "2024-08-21T14:34:49.216Z"
      },
      {
        "duration": 91,
        "start_time": "2024-08-21T14:34:49.224Z"
      },
      {
        "duration": 6,
        "start_time": "2024-08-21T14:34:49.316Z"
      },
      {
        "duration": 86,
        "start_time": "2024-08-21T14:34:49.324Z"
      },
      {
        "duration": 4,
        "start_time": "2024-08-21T14:34:49.412Z"
      },
      {
        "duration": 22,
        "start_time": "2024-08-21T14:34:49.417Z"
      },
      {
        "duration": 16,
        "start_time": "2024-08-21T14:34:49.441Z"
      },
      {
        "duration": 97,
        "start_time": "2024-08-21T14:34:49.459Z"
      },
      {
        "duration": 6,
        "start_time": "2024-08-21T14:34:49.558Z"
      },
      {
        "duration": 52,
        "start_time": "2024-08-21T14:34:49.566Z"
      },
      {
        "duration": 12,
        "start_time": "2024-08-21T14:34:49.620Z"
      },
      {
        "duration": 13,
        "start_time": "2024-08-21T14:34:49.634Z"
      },
      {
        "duration": 38,
        "start_time": "2024-08-21T14:34:49.649Z"
      },
      {
        "duration": 26,
        "start_time": "2024-08-21T14:34:49.688Z"
      },
      {
        "duration": 12,
        "start_time": "2024-08-21T14:34:49.716Z"
      }
    ],
    "kernelspec": {
      "display_name": "Python 3 (ipykernel)",
      "language": "python",
      "name": "python3"
    },
    "language_info": {
      "codemirror_mode": {
        "name": "ipython",
        "version": 3
      },
      "file_extension": ".py",
      "mimetype": "text/x-python",
      "name": "python",
      "nbconvert_exporter": "python",
      "pygments_lexer": "ipython3",
      "version": "3.9.5"
    },
    "toc": {
      "base_numbering": 1,
      "nav_menu": {},
      "number_sections": true,
      "sideBar": true,
      "skip_h1_title": true,
      "title_cell": "Table of Contents",
      "title_sidebar": "Contents",
      "toc_cell": false,
      "toc_position": {},
      "toc_section_display": true,
      "toc_window_display": false
    },
    "colab": {
      "provenance": [],
      "include_colab_link": true
    }
  },
  "nbformat": 4,
  "nbformat_minor": 0
}